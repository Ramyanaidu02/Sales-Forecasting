{
  "nbformat": 4,
  "nbformat_minor": 0,
  "metadata": {
    "colab": {
      "provenance": []
    },
    "kernelspec": {
      "name": "python3",
      "display_name": "Python 3"
    },
    "language_info": {
      "name": "python"
    },
    "widgets": {
      "application/vnd.jupyter.widget-state+json": {
        "144aec90af4e4b21a729affd65406e2c": {
          "model_module": "@jupyter-widgets/controls",
          "model_name": "ButtonModel",
          "model_module_version": "2.0.0",
          "state": {
            "_dom_classes": [],
            "_model_module": "@jupyter-widgets/controls",
            "_model_module_version": "2.0.0",
            "_model_name": "ButtonModel",
            "_view_count": null,
            "_view_module": "@jupyter-widgets/controls",
            "_view_module_version": "2.0.0",
            "_view_name": "ButtonView",
            "button_style": "danger",
            "description": "Request a quote",
            "disabled": false,
            "icon": "",
            "layout": "IPY_MODEL_5719a1b323554272b9a6fc4728289f71",
            "style": "IPY_MODEL_f97bf7a4642d4aabb33174d3af53c194",
            "tabbable": null,
            "tooltip": null
          }
        },
        "5719a1b323554272b9a6fc4728289f71": {
          "model_module": "@jupyter-widgets/base",
          "model_name": "LayoutModel",
          "model_module_version": "2.0.0",
          "state": {
            "_model_module": "@jupyter-widgets/base",
            "_model_module_version": "2.0.0",
            "_model_name": "LayoutModel",
            "_view_count": null,
            "_view_module": "@jupyter-widgets/base",
            "_view_module_version": "2.0.0",
            "_view_name": "LayoutView",
            "align_content": null,
            "align_items": null,
            "align_self": null,
            "border_bottom": null,
            "border_left": null,
            "border_right": null,
            "border_top": null,
            "bottom": null,
            "display": null,
            "flex": null,
            "flex_flow": null,
            "grid_area": null,
            "grid_auto_columns": null,
            "grid_auto_flow": null,
            "grid_auto_rows": null,
            "grid_column": null,
            "grid_gap": null,
            "grid_row": null,
            "grid_template_areas": null,
            "grid_template_columns": null,
            "grid_template_rows": null,
            "height": null,
            "justify_content": null,
            "justify_items": null,
            "left": null,
            "margin": null,
            "max_height": null,
            "max_width": null,
            "min_height": null,
            "min_width": null,
            "object_fit": null,
            "object_position": null,
            "order": null,
            "overflow": null,
            "padding": null,
            "right": null,
            "top": null,
            "visibility": null,
            "width": null
          }
        },
        "f97bf7a4642d4aabb33174d3af53c194": {
          "model_module": "@jupyter-widgets/controls",
          "model_name": "ButtonStyleModel",
          "model_module_version": "2.0.0",
          "state": {
            "_model_module": "@jupyter-widgets/controls",
            "_model_module_version": "2.0.0",
            "_model_name": "ButtonStyleModel",
            "_view_count": null,
            "_view_module": "@jupyter-widgets/base",
            "_view_module_version": "2.0.0",
            "_view_name": "StyleView",
            "button_color": null,
            "font_family": null,
            "font_size": null,
            "font_style": null,
            "font_variant": null,
            "font_weight": null,
            "text_color": null,
            "text_decoration": null
          }
        }
      }
    }
  },
  "cells": [
    {
      "cell_type": "markdown",
      "source": [
        "# Installing Libraries"
      ],
      "metadata": {
        "id": "J6nJvtdHGtVF"
      }
    },
    {
      "cell_type": "code",
      "source": [
        "!pip install  Upgini catboost"
      ],
      "metadata": {
        "colab": {
          "base_uri": "https://localhost:8080/"
        },
        "collapsed": true,
        "id": "qaORIJ5QG4E4",
        "outputId": "2dcc2394-b5c2-4e62-f091-b77a531fc05b"
      },
      "execution_count": 2,
      "outputs": [
        {
          "output_type": "stream",
          "name": "stdout",
          "text": [
            "Collecting Upgini\n",
            "  Downloading upgini-1.2.15-py3-none-any.whl.metadata (48 kB)\n",
            "\u001b[?25l     \u001b[90m━━━━━━━━━━━━━━━━━━━━━━━━━━━━━━━━━━━━━━━━\u001b[0m \u001b[32m0.0/48.6 kB\u001b[0m \u001b[31m?\u001b[0m eta \u001b[36m-:--:--\u001b[0m\r\u001b[2K     \u001b[90m━━━━━━━━━━━━━━━━━━━━━━━━━━━━━━━━━━━━━━━━\u001b[0m \u001b[32m48.6/48.6 kB\u001b[0m \u001b[31m1.6 MB/s\u001b[0m eta \u001b[36m0:00:00\u001b[0m\n",
            "\u001b[?25hCollecting catboost\n",
            "  Downloading catboost-1.2.7-cp310-cp310-manylinux2014_x86_64.whl.metadata (1.2 kB)\n",
            "Collecting fastparquet>=0.8.1 (from Upgini)\n",
            "  Downloading fastparquet-2024.5.0-cp310-cp310-manylinux_2_17_x86_64.manylinux2014_x86_64.whl.metadata (4.1 kB)\n",
            "Collecting ipywidgets>=8.1.0 (from Upgini)\n",
            "  Downloading ipywidgets-8.1.5-py3-none-any.whl.metadata (2.3 kB)\n",
            "Collecting jarowinkler>=2.0.0 (from Upgini)\n",
            "  Downloading jarowinkler-2.0.1-py3-none-any.whl.metadata (5.4 kB)\n",
            "Collecting levenshtein>=0.25.1 (from Upgini)\n",
            "  Downloading levenshtein-0.26.0-cp310-cp310-manylinux_2_17_x86_64.manylinux2014_x86_64.whl.metadata (3.2 kB)\n",
            "Requirement already satisfied: numpy<=1.26.4,>=1.19.0 in /usr/local/lib/python3.10/dist-packages (from Upgini) (1.26.4)\n",
            "Requirement already satisfied: pandas<3.0.0,>=1.1.0 in /usr/local/lib/python3.10/dist-packages (from Upgini) (2.2.2)\n",
            "Requirement already satisfied: pydantic<3.0.0,>1.0.0 in /usr/local/lib/python3.10/dist-packages (from Upgini) (2.9.2)\n",
            "Requirement already satisfied: pyjwt>=2.8.0 in /usr/local/lib/python3.10/dist-packages (from Upgini) (2.9.0)\n",
            "Collecting python-bidi==0.4.2 (from Upgini)\n",
            "  Downloading python_bidi-0.4.2-py2.py3-none-any.whl.metadata (4.6 kB)\n",
            "Requirement already satisfied: python-dateutil>=2.8.0 in /usr/local/lib/python3.10/dist-packages (from Upgini) (2.8.2)\n",
            "Collecting python-json-logger>=2.0.2 (from Upgini)\n",
            "  Downloading python_json_logger-2.0.7-py3-none-any.whl.metadata (6.5 kB)\n",
            "Requirement already satisfied: requests>=2.8.0 in /usr/local/lib/python3.10/dist-packages (from Upgini) (2.32.3)\n",
            "Requirement already satisfied: scikit-learn>=1.3.0 in /usr/local/lib/python3.10/dist-packages (from Upgini) (1.5.2)\n",
            "Collecting xhtml2pdf==0.2.11 (from Upgini)\n",
            "  Downloading xhtml2pdf-0.2.11.tar.gz (108 kB)\n",
            "\u001b[2K     \u001b[90m━━━━━━━━━━━━━━━━━━━━━━━━━━━━━━━━━━━━━━━━\u001b[0m \u001b[32m108.3/108.3 kB\u001b[0m \u001b[31m7.1 MB/s\u001b[0m eta \u001b[36m0:00:00\u001b[0m\n",
            "\u001b[?25h  Preparing metadata (setup.py) ... \u001b[?25l\u001b[?25hdone\n",
            "Requirement already satisfied: six in /usr/local/lib/python3.10/dist-packages (from python-bidi==0.4.2->Upgini) (1.16.0)\n",
            "Collecting arabic-reshaper>=3.0.0 (from xhtml2pdf==0.2.11->Upgini)\n",
            "  Downloading arabic_reshaper-3.0.0-py3-none-any.whl.metadata (12 kB)\n",
            "Requirement already satisfied: html5lib>=1.0.1 in /usr/local/lib/python3.10/dist-packages (from xhtml2pdf==0.2.11->Upgini) (1.1)\n",
            "Requirement already satisfied: Pillow>=8.1.1 in /usr/local/lib/python3.10/dist-packages (from xhtml2pdf==0.2.11->Upgini) (10.4.0)\n",
            "Collecting pyHanko>=0.12.1 (from xhtml2pdf==0.2.11->Upgini)\n",
            "  Downloading pyHanko-0.25.1-py3-none-any.whl.metadata (9.4 kB)\n",
            "Collecting pyhanko-certvalidator>=0.19.5 (from xhtml2pdf==0.2.11->Upgini)\n",
            "  Downloading pyhanko_certvalidator-0.26.3-py3-none-any.whl.metadata (5.3 kB)\n",
            "Collecting pypdf>=3.1.0 (from xhtml2pdf==0.2.11->Upgini)\n",
            "  Downloading pypdf-5.0.1-py3-none-any.whl.metadata (7.4 kB)\n",
            "Collecting reportlab<4,>=3.5.53 (from xhtml2pdf==0.2.11->Upgini)\n",
            "  Downloading reportlab-3.6.13-cp310-cp310-manylinux_2_17_x86_64.manylinux2014_x86_64.whl.metadata (1.2 kB)\n",
            "Collecting svglib>=1.2.1 (from xhtml2pdf==0.2.11->Upgini)\n",
            "  Downloading svglib-1.5.1.tar.gz (913 kB)\n",
            "\u001b[2K     \u001b[90m━━━━━━━━━━━━━━━━━━━━━━━━━━━━━━━━━━━━━━━━\u001b[0m \u001b[32m913.9/913.9 kB\u001b[0m \u001b[31m28.7 MB/s\u001b[0m eta \u001b[36m0:00:00\u001b[0m\n",
            "\u001b[?25h  Preparing metadata (setup.py) ... \u001b[?25l\u001b[?25hdone\n",
            "Requirement already satisfied: graphviz in /usr/local/lib/python3.10/dist-packages (from catboost) (0.20.3)\n",
            "Requirement already satisfied: matplotlib in /usr/local/lib/python3.10/dist-packages (from catboost) (3.7.1)\n",
            "Requirement already satisfied: scipy in /usr/local/lib/python3.10/dist-packages (from catboost) (1.13.1)\n",
            "Requirement already satisfied: plotly in /usr/local/lib/python3.10/dist-packages (from catboost) (5.24.1)\n",
            "Collecting cramjam>=2.3 (from fastparquet>=0.8.1->Upgini)\n",
            "  Downloading cramjam-2.9.0-cp310-cp310-manylinux_2_17_x86_64.manylinux2014_x86_64.whl.metadata (4.9 kB)\n",
            "Requirement already satisfied: fsspec in /usr/local/lib/python3.10/dist-packages (from fastparquet>=0.8.1->Upgini) (2024.6.1)\n",
            "Requirement already satisfied: packaging in /usr/local/lib/python3.10/dist-packages (from fastparquet>=0.8.1->Upgini) (24.1)\n",
            "Collecting comm>=0.1.3 (from ipywidgets>=8.1.0->Upgini)\n",
            "  Downloading comm-0.2.2-py3-none-any.whl.metadata (3.7 kB)\n",
            "Requirement already satisfied: ipython>=6.1.0 in /usr/local/lib/python3.10/dist-packages (from ipywidgets>=8.1.0->Upgini) (7.34.0)\n",
            "Requirement already satisfied: traitlets>=4.3.1 in /usr/local/lib/python3.10/dist-packages (from ipywidgets>=8.1.0->Upgini) (5.7.1)\n",
            "Collecting widgetsnbextension~=4.0.12 (from ipywidgets>=8.1.0->Upgini)\n",
            "  Downloading widgetsnbextension-4.0.13-py3-none-any.whl.metadata (1.6 kB)\n",
            "Requirement already satisfied: jupyterlab-widgets~=3.0.12 in /usr/local/lib/python3.10/dist-packages (from ipywidgets>=8.1.0->Upgini) (3.0.13)\n",
            "Collecting rapidfuzz<4.0.0,>=3.5.2 (from jarowinkler>=2.0.0->Upgini)\n",
            "  Downloading rapidfuzz-3.10.0-cp310-cp310-manylinux_2_17_x86_64.manylinux2014_x86_64.whl.metadata (11 kB)\n",
            "Requirement already satisfied: pytz>=2020.1 in /usr/local/lib/python3.10/dist-packages (from pandas<3.0.0,>=1.1.0->Upgini) (2024.2)\n",
            "Requirement already satisfied: tzdata>=2022.7 in /usr/local/lib/python3.10/dist-packages (from pandas<3.0.0,>=1.1.0->Upgini) (2024.2)\n",
            "Requirement already satisfied: annotated-types>=0.6.0 in /usr/local/lib/python3.10/dist-packages (from pydantic<3.0.0,>1.0.0->Upgini) (0.7.0)\n",
            "Requirement already satisfied: pydantic-core==2.23.4 in /usr/local/lib/python3.10/dist-packages (from pydantic<3.0.0,>1.0.0->Upgini) (2.23.4)\n",
            "Requirement already satisfied: typing-extensions>=4.6.1 in /usr/local/lib/python3.10/dist-packages (from pydantic<3.0.0,>1.0.0->Upgini) (4.12.2)\n",
            "Requirement already satisfied: charset-normalizer<4,>=2 in /usr/local/lib/python3.10/dist-packages (from requests>=2.8.0->Upgini) (3.4.0)\n",
            "Requirement already satisfied: idna<4,>=2.5 in /usr/local/lib/python3.10/dist-packages (from requests>=2.8.0->Upgini) (3.10)\n",
            "Requirement already satisfied: urllib3<3,>=1.21.1 in /usr/local/lib/python3.10/dist-packages (from requests>=2.8.0->Upgini) (2.2.3)\n",
            "Requirement already satisfied: certifi>=2017.4.17 in /usr/local/lib/python3.10/dist-packages (from requests>=2.8.0->Upgini) (2024.8.30)\n",
            "Requirement already satisfied: joblib>=1.2.0 in /usr/local/lib/python3.10/dist-packages (from scikit-learn>=1.3.0->Upgini) (1.4.2)\n",
            "Requirement already satisfied: threadpoolctl>=3.1.0 in /usr/local/lib/python3.10/dist-packages (from scikit-learn>=1.3.0->Upgini) (3.5.0)\n",
            "Requirement already satisfied: contourpy>=1.0.1 in /usr/local/lib/python3.10/dist-packages (from matplotlib->catboost) (1.3.0)\n",
            "Requirement already satisfied: cycler>=0.10 in /usr/local/lib/python3.10/dist-packages (from matplotlib->catboost) (0.12.1)\n",
            "Requirement already satisfied: fonttools>=4.22.0 in /usr/local/lib/python3.10/dist-packages (from matplotlib->catboost) (4.54.1)\n",
            "Requirement already satisfied: kiwisolver>=1.0.1 in /usr/local/lib/python3.10/dist-packages (from matplotlib->catboost) (1.4.7)\n",
            "Requirement already satisfied: pyparsing>=2.3.1 in /usr/local/lib/python3.10/dist-packages (from matplotlib->catboost) (3.2.0)\n",
            "Requirement already satisfied: tenacity>=6.2.0 in /usr/local/lib/python3.10/dist-packages (from plotly->catboost) (9.0.0)\n",
            "Requirement already satisfied: webencodings in /usr/local/lib/python3.10/dist-packages (from html5lib>=1.0.1->xhtml2pdf==0.2.11->Upgini) (0.5.1)\n",
            "Requirement already satisfied: setuptools>=18.5 in /usr/local/lib/python3.10/dist-packages (from ipython>=6.1.0->ipywidgets>=8.1.0->Upgini) (75.1.0)\n",
            "Collecting jedi>=0.16 (from ipython>=6.1.0->ipywidgets>=8.1.0->Upgini)\n",
            "  Downloading jedi-0.19.1-py2.py3-none-any.whl.metadata (22 kB)\n",
            "Requirement already satisfied: decorator in /usr/local/lib/python3.10/dist-packages (from ipython>=6.1.0->ipywidgets>=8.1.0->Upgini) (4.4.2)\n",
            "Requirement already satisfied: pickleshare in /usr/local/lib/python3.10/dist-packages (from ipython>=6.1.0->ipywidgets>=8.1.0->Upgini) (0.7.5)\n",
            "Requirement already satisfied: prompt-toolkit!=3.0.0,!=3.0.1,<3.1.0,>=2.0.0 in /usr/local/lib/python3.10/dist-packages (from ipython>=6.1.0->ipywidgets>=8.1.0->Upgini) (3.0.48)\n",
            "Requirement already satisfied: pygments in /usr/local/lib/python3.10/dist-packages (from ipython>=6.1.0->ipywidgets>=8.1.0->Upgini) (2.18.0)\n",
            "Requirement already satisfied: backcall in /usr/local/lib/python3.10/dist-packages (from ipython>=6.1.0->ipywidgets>=8.1.0->Upgini) (0.2.0)\n",
            "Requirement already satisfied: matplotlib-inline in /usr/local/lib/python3.10/dist-packages (from ipython>=6.1.0->ipywidgets>=8.1.0->Upgini) (0.1.7)\n",
            "Requirement already satisfied: pexpect>4.3 in /usr/local/lib/python3.10/dist-packages (from ipython>=6.1.0->ipywidgets>=8.1.0->Upgini) (4.9.0)\n",
            "Collecting asn1crypto>=1.5.1 (from pyHanko>=0.12.1->xhtml2pdf==0.2.11->Upgini)\n",
            "  Downloading asn1crypto-1.5.1-py2.py3-none-any.whl.metadata (13 kB)\n",
            "Collecting qrcode>=7.3.1 (from pyHanko>=0.12.1->xhtml2pdf==0.2.11->Upgini)\n",
            "  Downloading qrcode-8.0-py3-none-any.whl.metadata (17 kB)\n",
            "Requirement already satisfied: tzlocal>=4.3 in /usr/local/lib/python3.10/dist-packages (from pyHanko>=0.12.1->xhtml2pdf==0.2.11->Upgini) (5.2)\n",
            "Requirement already satisfied: click>=8.1.3 in /usr/local/lib/python3.10/dist-packages (from pyHanko>=0.12.1->xhtml2pdf==0.2.11->Upgini) (8.1.7)\n",
            "Requirement already satisfied: pyyaml>=6.0 in /usr/local/lib/python3.10/dist-packages (from pyHanko>=0.12.1->xhtml2pdf==0.2.11->Upgini) (6.0.2)\n",
            "Requirement already satisfied: cryptography>=42.0.1 in /usr/local/lib/python3.10/dist-packages (from pyHanko>=0.12.1->xhtml2pdf==0.2.11->Upgini) (43.0.1)\n",
            "Collecting oscrypto>=1.1.0 (from pyhanko-certvalidator>=0.19.5->xhtml2pdf==0.2.11->Upgini)\n",
            "  Downloading oscrypto-1.3.0-py2.py3-none-any.whl.metadata (15 kB)\n",
            "Collecting uritools>=3.0.1 (from pyhanko-certvalidator>=0.19.5->xhtml2pdf==0.2.11->Upgini)\n",
            "  Downloading uritools-4.0.3-py3-none-any.whl.metadata (4.7 kB)\n",
            "Requirement already satisfied: lxml in /usr/local/lib/python3.10/dist-packages (from svglib>=1.2.1->xhtml2pdf==0.2.11->Upgini) (4.9.4)\n",
            "Requirement already satisfied: tinycss2>=0.6.0 in /usr/local/lib/python3.10/dist-packages (from svglib>=1.2.1->xhtml2pdf==0.2.11->Upgini) (1.3.0)\n",
            "Collecting cssselect2>=0.2.0 (from svglib>=1.2.1->xhtml2pdf==0.2.11->Upgini)\n",
            "  Downloading cssselect2-0.7.0-py3-none-any.whl.metadata (2.9 kB)\n",
            "Requirement already satisfied: cffi>=1.12 in /usr/local/lib/python3.10/dist-packages (from cryptography>=42.0.1->pyHanko>=0.12.1->xhtml2pdf==0.2.11->Upgini) (1.17.1)\n",
            "Requirement already satisfied: parso<0.9.0,>=0.8.3 in /usr/local/lib/python3.10/dist-packages (from jedi>=0.16->ipython>=6.1.0->ipywidgets>=8.1.0->Upgini) (0.8.4)\n",
            "Requirement already satisfied: ptyprocess>=0.5 in /usr/local/lib/python3.10/dist-packages (from pexpect>4.3->ipython>=6.1.0->ipywidgets>=8.1.0->Upgini) (0.7.0)\n",
            "Requirement already satisfied: wcwidth in /usr/local/lib/python3.10/dist-packages (from prompt-toolkit!=3.0.0,!=3.0.1,<3.1.0,>=2.0.0->ipython>=6.1.0->ipywidgets>=8.1.0->Upgini) (0.2.13)\n",
            "Requirement already satisfied: pycparser in /usr/local/lib/python3.10/dist-packages (from cffi>=1.12->cryptography>=42.0.1->pyHanko>=0.12.1->xhtml2pdf==0.2.11->Upgini) (2.22)\n",
            "Downloading upgini-1.2.15-py3-none-any.whl (167 kB)\n",
            "\u001b[2K   \u001b[90m━━━━━━━━━━━━━━━━━━━━━━━━━━━━━━━━━━━━━━━━\u001b[0m \u001b[32m167.6/167.6 kB\u001b[0m \u001b[31m11.2 MB/s\u001b[0m eta \u001b[36m0:00:00\u001b[0m\n",
            "\u001b[?25hDownloading python_bidi-0.4.2-py2.py3-none-any.whl (30 kB)\n",
            "Downloading catboost-1.2.7-cp310-cp310-manylinux2014_x86_64.whl (98.7 MB)\n",
            "\u001b[2K   \u001b[90m━━━━━━━━━━━━━━━━━━━━━━━━━━━━━━━━━━━━━━━━\u001b[0m \u001b[32m98.7/98.7 MB\u001b[0m \u001b[31m9.8 MB/s\u001b[0m eta \u001b[36m0:00:00\u001b[0m\n",
            "\u001b[?25hDownloading fastparquet-2024.5.0-cp310-cp310-manylinux_2_17_x86_64.manylinux2014_x86_64.whl (1.7 MB)\n",
            "\u001b[2K   \u001b[90m━━━━━━━━━━━━━━━━━━━━━━━━━━━━━━━━━━━━━━━━\u001b[0m \u001b[32m1.7/1.7 MB\u001b[0m \u001b[31m68.3 MB/s\u001b[0m eta \u001b[36m0:00:00\u001b[0m\n",
            "\u001b[?25hDownloading ipywidgets-8.1.5-py3-none-any.whl (139 kB)\n",
            "\u001b[2K   \u001b[90m━━━━━━━━━━━━━━━━━━━━━━━━━━━━━━━━━━━━━━━━\u001b[0m \u001b[32m139.8/139.8 kB\u001b[0m \u001b[31m11.0 MB/s\u001b[0m eta \u001b[36m0:00:00\u001b[0m\n",
            "\u001b[?25hDownloading jarowinkler-2.0.1-py3-none-any.whl (5.6 kB)\n",
            "Downloading levenshtein-0.26.0-cp310-cp310-manylinux_2_17_x86_64.manylinux2014_x86_64.whl (162 kB)\n",
            "\u001b[2K   \u001b[90m━━━━━━━━━━━━━━━━━━━━━━━━━━━━━━━━━━━━━━━━\u001b[0m \u001b[32m162.6/162.6 kB\u001b[0m \u001b[31m12.8 MB/s\u001b[0m eta \u001b[36m0:00:00\u001b[0m\n",
            "\u001b[?25hDownloading python_json_logger-2.0.7-py3-none-any.whl (8.1 kB)\n",
            "Downloading arabic_reshaper-3.0.0-py3-none-any.whl (20 kB)\n",
            "Downloading comm-0.2.2-py3-none-any.whl (7.2 kB)\n",
            "Downloading cramjam-2.9.0-cp310-cp310-manylinux_2_17_x86_64.manylinux2014_x86_64.whl (2.4 MB)\n",
            "\u001b[2K   \u001b[90m━━━━━━━━━━━━━━━━━━━━━━━━━━━━━━━━━━━━━━━━\u001b[0m \u001b[32m2.4/2.4 MB\u001b[0m \u001b[31m63.6 MB/s\u001b[0m eta \u001b[36m0:00:00\u001b[0m\n",
            "\u001b[?25hDownloading pyHanko-0.25.1-py3-none-any.whl (446 kB)\n",
            "\u001b[2K   \u001b[90m━━━━━━━━━━━━━━━━━━━━━━━━━━━━━━━━━━━━━━━━\u001b[0m \u001b[32m447.0/447.0 kB\u001b[0m \u001b[31m32.4 MB/s\u001b[0m eta \u001b[36m0:00:00\u001b[0m\n",
            "\u001b[?25hDownloading pyhanko_certvalidator-0.26.3-py3-none-any.whl (109 kB)\n",
            "\u001b[2K   \u001b[90m━━━━━━━━━━━━━━━━━━━━━━━━━━━━━━━━━━━━━━━━\u001b[0m \u001b[32m109.4/109.4 kB\u001b[0m \u001b[31m9.8 MB/s\u001b[0m eta \u001b[36m0:00:00\u001b[0m\n",
            "\u001b[?25hDownloading pypdf-5.0.1-py3-none-any.whl (294 kB)\n",
            "\u001b[2K   \u001b[90m━━━━━━━━━━━━━━━━━━━━━━━━━━━━━━━━━━━━━━━━\u001b[0m \u001b[32m294.5/294.5 kB\u001b[0m \u001b[31m22.2 MB/s\u001b[0m eta \u001b[36m0:00:00\u001b[0m\n",
            "\u001b[?25hDownloading rapidfuzz-3.10.0-cp310-cp310-manylinux_2_17_x86_64.manylinux2014_x86_64.whl (3.1 MB)\n",
            "\u001b[2K   \u001b[90m━━━━━━━━━━━━━━━━━━━━━━━━━━━━━━━━━━━━━━━━\u001b[0m \u001b[32m3.1/3.1 MB\u001b[0m \u001b[31m79.6 MB/s\u001b[0m eta \u001b[36m0:00:00\u001b[0m\n",
            "\u001b[?25hDownloading reportlab-3.6.13-cp310-cp310-manylinux_2_17_x86_64.manylinux2014_x86_64.whl (2.8 MB)\n",
            "\u001b[2K   \u001b[90m━━━━━━━━━━━━━━━━━━━━━━━━━━━━━━━━━━━━━━━━\u001b[0m \u001b[32m2.8/2.8 MB\u001b[0m \u001b[31m75.5 MB/s\u001b[0m eta \u001b[36m0:00:00\u001b[0m\n",
            "\u001b[?25hDownloading widgetsnbextension-4.0.13-py3-none-any.whl (2.3 MB)\n",
            "\u001b[2K   \u001b[90m━━━━━━━━━━━━━━━━━━━━━━━━━━━━━━━━━━━━━━━━\u001b[0m \u001b[32m2.3/2.3 MB\u001b[0m \u001b[31m71.0 MB/s\u001b[0m eta \u001b[36m0:00:00\u001b[0m\n",
            "\u001b[?25hDownloading asn1crypto-1.5.1-py2.py3-none-any.whl (105 kB)\n",
            "\u001b[2K   \u001b[90m━━━━━━━━━━━━━━━━━━━━━━━━━━━━━━━━━━━━━━━━\u001b[0m \u001b[32m105.0/105.0 kB\u001b[0m \u001b[31m6.2 MB/s\u001b[0m eta \u001b[36m0:00:00\u001b[0m\n",
            "\u001b[?25hDownloading cssselect2-0.7.0-py3-none-any.whl (15 kB)\n",
            "Downloading jedi-0.19.1-py2.py3-none-any.whl (1.6 MB)\n",
            "\u001b[2K   \u001b[90m━━━━━━━━━━━━━━━━━━━━━━━━━━━━━━━━━━━━━━━━\u001b[0m \u001b[32m1.6/1.6 MB\u001b[0m \u001b[31m60.4 MB/s\u001b[0m eta \u001b[36m0:00:00\u001b[0m\n",
            "\u001b[?25hDownloading oscrypto-1.3.0-py2.py3-none-any.whl (194 kB)\n",
            "\u001b[2K   \u001b[90m━━━━━━━━━━━━━━━━━━━━━━━━━━━━━━━━━━━━━━━━\u001b[0m \u001b[32m194.6/194.6 kB\u001b[0m \u001b[31m13.9 MB/s\u001b[0m eta \u001b[36m0:00:00\u001b[0m\n",
            "\u001b[?25hDownloading qrcode-8.0-py3-none-any.whl (45 kB)\n",
            "\u001b[2K   \u001b[90m━━━━━━━━━━━━━━━━━━━━━━━━━━━━━━━━━━━━━━━━\u001b[0m \u001b[32m45.7/45.7 kB\u001b[0m \u001b[31m3.3 MB/s\u001b[0m eta \u001b[36m0:00:00\u001b[0m\n",
            "\u001b[?25hDownloading uritools-4.0.3-py3-none-any.whl (10 kB)\n",
            "Building wheels for collected packages: xhtml2pdf, svglib\n",
            "  Building wheel for xhtml2pdf (setup.py) ... \u001b[?25l\u001b[?25hdone\n",
            "  Created wheel for xhtml2pdf: filename=xhtml2pdf-0.2.11-py3-none-any.whl size=262692 sha256=a6565fadbf2b40a11b5d28ec410cb862861c49d54bbe2817256eb2f6609cf0a0\n",
            "  Stored in directory: /root/.cache/pip/wheels/72/77/fb/e473c11c4e30a7680bf5b1b7f1d07ef04932184a2f39118e8d\n",
            "  Building wheel for svglib (setup.py) ... \u001b[?25l\u001b[?25hdone\n",
            "  Created wheel for svglib: filename=svglib-1.5.1-py3-none-any.whl size=30907 sha256=1063afefe759722f0dd3bdbf1df23c5f096b30190b7a4dd44e21cc35e405b7f4\n",
            "  Stored in directory: /root/.cache/pip/wheels/56/9f/90/f37f4b9dbf82987a24ae14f15586e96715cb669a4710b3b85d\n",
            "Successfully built xhtml2pdf svglib\n",
            "Installing collected packages: asn1crypto, arabic-reshaper, widgetsnbextension, uritools, reportlab, rapidfuzz, qrcode, python-json-logger, python-bidi, pypdf, oscrypto, jedi, cramjam, comm, levenshtein, jarowinkler, cssselect2, svglib, pyhanko-certvalidator, ipywidgets, fastparquet, catboost, pyHanko, xhtml2pdf, Upgini\n",
            "  Attempting uninstall: widgetsnbextension\n",
            "    Found existing installation: widgetsnbextension 3.6.9\n",
            "    Uninstalling widgetsnbextension-3.6.9:\n",
            "      Successfully uninstalled widgetsnbextension-3.6.9\n",
            "  Attempting uninstall: ipywidgets\n",
            "    Found existing installation: ipywidgets 7.7.1\n",
            "    Uninstalling ipywidgets-7.7.1:\n",
            "      Successfully uninstalled ipywidgets-7.7.1\n",
            "Successfully installed Upgini-1.2.15 arabic-reshaper-3.0.0 asn1crypto-1.5.1 catboost-1.2.7 comm-0.2.2 cramjam-2.9.0 cssselect2-0.7.0 fastparquet-2024.5.0 ipywidgets-8.1.5 jarowinkler-2.0.1 jedi-0.19.1 levenshtein-0.26.0 oscrypto-1.3.0 pyHanko-0.25.1 pyhanko-certvalidator-0.26.3 pypdf-5.0.1 python-bidi-0.4.2 python-json-logger-2.0.7 qrcode-8.0 rapidfuzz-3.10.0 reportlab-3.6.13 svglib-1.5.1 uritools-4.0.3 widgetsnbextension-4.0.13 xhtml2pdf-0.2.11\n"
          ]
        }
      ]
    },
    {
      "cell_type": "code",
      "source": [
        "from os.path import exists\n",
        "import pandas as pd"
      ],
      "metadata": {
        "id": "qTVwvm-8HT38"
      },
      "execution_count": 5,
      "outputs": []
    },
    {
      "cell_type": "code",
      "source": [
        "df_path = \"/content/train.csv.zip\""
      ],
      "metadata": {
        "id": "B7JE7OM8HtdH"
      },
      "execution_count": 6,
      "outputs": []
    },
    {
      "cell_type": "code",
      "source": [
        "df = pd.read_csv(df_path)"
      ],
      "metadata": {
        "id": "o0s7oXjSIgJK"
      },
      "execution_count": 7,
      "outputs": []
    },
    {
      "cell_type": "code",
      "source": [
        "df = df.sample(n= 19_000, random_state= 0)\n",
        "df [\"store\"]= df[\"store\"].astype(str)\n",
        "df [\"item\"]= df[\"item\"].astype(str)"
      ],
      "metadata": {
        "id": "k5m8u0LoInOR"
      },
      "execution_count": 9,
      "outputs": []
    },
    {
      "cell_type": "code",
      "source": [
        "df[\"date\"]=pd.to_datetime(df[\"date\"])\n",
        "df.sort_values(\"date\", inplace = True)\n",
        "df.reset_index(inplace=True,drop=True)\n",
        "df.head()"
      ],
      "metadata": {
        "colab": {
          "base_uri": "https://localhost:8080/",
          "height": 206
        },
        "id": "pMq0Mwg_JWRy",
        "outputId": "ae7d308e-d379-420c-c73a-a39b13e241ad"
      },
      "execution_count": 12,
      "outputs": [
        {
          "output_type": "execute_result",
          "data": {
            "text/plain": [
              "        date store item  sales\n",
              "0 2013-01-01     7    5      5\n",
              "1 2013-01-01     4    9     19\n",
              "2 2013-01-01     1   33     37\n",
              "3 2013-01-01     3   41     14\n",
              "4 2013-01-01     5   24     26"
            ],
            "text/html": [
              "\n",
              "  <div id=\"df-8ea27dbc-5a55-46fb-aba6-e8f3b862db4c\" class=\"colab-df-container\">\n",
              "    <div>\n",
              "<style scoped>\n",
              "    .dataframe tbody tr th:only-of-type {\n",
              "        vertical-align: middle;\n",
              "    }\n",
              "\n",
              "    .dataframe tbody tr th {\n",
              "        vertical-align: top;\n",
              "    }\n",
              "\n",
              "    .dataframe thead th {\n",
              "        text-align: right;\n",
              "    }\n",
              "</style>\n",
              "<table border=\"1\" class=\"dataframe\">\n",
              "  <thead>\n",
              "    <tr style=\"text-align: right;\">\n",
              "      <th></th>\n",
              "      <th>date</th>\n",
              "      <th>store</th>\n",
              "      <th>item</th>\n",
              "      <th>sales</th>\n",
              "    </tr>\n",
              "  </thead>\n",
              "  <tbody>\n",
              "    <tr>\n",
              "      <th>0</th>\n",
              "      <td>2013-01-01</td>\n",
              "      <td>7</td>\n",
              "      <td>5</td>\n",
              "      <td>5</td>\n",
              "    </tr>\n",
              "    <tr>\n",
              "      <th>1</th>\n",
              "      <td>2013-01-01</td>\n",
              "      <td>4</td>\n",
              "      <td>9</td>\n",
              "      <td>19</td>\n",
              "    </tr>\n",
              "    <tr>\n",
              "      <th>2</th>\n",
              "      <td>2013-01-01</td>\n",
              "      <td>1</td>\n",
              "      <td>33</td>\n",
              "      <td>37</td>\n",
              "    </tr>\n",
              "    <tr>\n",
              "      <th>3</th>\n",
              "      <td>2013-01-01</td>\n",
              "      <td>3</td>\n",
              "      <td>41</td>\n",
              "      <td>14</td>\n",
              "    </tr>\n",
              "    <tr>\n",
              "      <th>4</th>\n",
              "      <td>2013-01-01</td>\n",
              "      <td>5</td>\n",
              "      <td>24</td>\n",
              "      <td>26</td>\n",
              "    </tr>\n",
              "  </tbody>\n",
              "</table>\n",
              "</div>\n",
              "    <div class=\"colab-df-buttons\">\n",
              "\n",
              "  <div class=\"colab-df-container\">\n",
              "    <button class=\"colab-df-convert\" onclick=\"convertToInteractive('df-8ea27dbc-5a55-46fb-aba6-e8f3b862db4c')\"\n",
              "            title=\"Convert this dataframe to an interactive table.\"\n",
              "            style=\"display:none;\">\n",
              "\n",
              "  <svg xmlns=\"http://www.w3.org/2000/svg\" height=\"24px\" viewBox=\"0 -960 960 960\">\n",
              "    <path d=\"M120-120v-720h720v720H120Zm60-500h600v-160H180v160Zm220 220h160v-160H400v160Zm0 220h160v-160H400v160ZM180-400h160v-160H180v160Zm440 0h160v-160H620v160ZM180-180h160v-160H180v160Zm440 0h160v-160H620v160Z\"/>\n",
              "  </svg>\n",
              "    </button>\n",
              "\n",
              "  <style>\n",
              "    .colab-df-container {\n",
              "      display:flex;\n",
              "      gap: 12px;\n",
              "    }\n",
              "\n",
              "    .colab-df-convert {\n",
              "      background-color: #E8F0FE;\n",
              "      border: none;\n",
              "      border-radius: 50%;\n",
              "      cursor: pointer;\n",
              "      display: none;\n",
              "      fill: #1967D2;\n",
              "      height: 32px;\n",
              "      padding: 0 0 0 0;\n",
              "      width: 32px;\n",
              "    }\n",
              "\n",
              "    .colab-df-convert:hover {\n",
              "      background-color: #E2EBFA;\n",
              "      box-shadow: 0px 1px 2px rgba(60, 64, 67, 0.3), 0px 1px 3px 1px rgba(60, 64, 67, 0.15);\n",
              "      fill: #174EA6;\n",
              "    }\n",
              "\n",
              "    .colab-df-buttons div {\n",
              "      margin-bottom: 4px;\n",
              "    }\n",
              "\n",
              "    [theme=dark] .colab-df-convert {\n",
              "      background-color: #3B4455;\n",
              "      fill: #D2E3FC;\n",
              "    }\n",
              "\n",
              "    [theme=dark] .colab-df-convert:hover {\n",
              "      background-color: #434B5C;\n",
              "      box-shadow: 0px 1px 3px 1px rgba(0, 0, 0, 0.15);\n",
              "      filter: drop-shadow(0px 1px 2px rgba(0, 0, 0, 0.3));\n",
              "      fill: #FFFFFF;\n",
              "    }\n",
              "  </style>\n",
              "\n",
              "    <script>\n",
              "      const buttonEl =\n",
              "        document.querySelector('#df-8ea27dbc-5a55-46fb-aba6-e8f3b862db4c button.colab-df-convert');\n",
              "      buttonEl.style.display =\n",
              "        google.colab.kernel.accessAllowed ? 'block' : 'none';\n",
              "\n",
              "      async function convertToInteractive(key) {\n",
              "        const element = document.querySelector('#df-8ea27dbc-5a55-46fb-aba6-e8f3b862db4c');\n",
              "        const dataTable =\n",
              "          await google.colab.kernel.invokeFunction('convertToInteractive',\n",
              "                                                    [key], {});\n",
              "        if (!dataTable) return;\n",
              "\n",
              "        const docLinkHtml = 'Like what you see? Visit the ' +\n",
              "          '<a target=\"_blank\" href=https://colab.research.google.com/notebooks/data_table.ipynb>data table notebook</a>'\n",
              "          + ' to learn more about interactive tables.';\n",
              "        element.innerHTML = '';\n",
              "        dataTable['output_type'] = 'display_data';\n",
              "        await google.colab.output.renderOutput(dataTable, element);\n",
              "        const docLink = document.createElement('div');\n",
              "        docLink.innerHTML = docLinkHtml;\n",
              "        element.appendChild(docLink);\n",
              "      }\n",
              "    </script>\n",
              "  </div>\n",
              "\n",
              "\n",
              "<div id=\"df-9edeafca-6d5e-49f6-9faf-37dfbe179f31\">\n",
              "  <button class=\"colab-df-quickchart\" onclick=\"quickchart('df-9edeafca-6d5e-49f6-9faf-37dfbe179f31')\"\n",
              "            title=\"Suggest charts\"\n",
              "            style=\"display:none;\">\n",
              "\n",
              "<svg xmlns=\"http://www.w3.org/2000/svg\" height=\"24px\"viewBox=\"0 0 24 24\"\n",
              "     width=\"24px\">\n",
              "    <g>\n",
              "        <path d=\"M19 3H5c-1.1 0-2 .9-2 2v14c0 1.1.9 2 2 2h14c1.1 0 2-.9 2-2V5c0-1.1-.9-2-2-2zM9 17H7v-7h2v7zm4 0h-2V7h2v10zm4 0h-2v-4h2v4z\"/>\n",
              "    </g>\n",
              "</svg>\n",
              "  </button>\n",
              "\n",
              "<style>\n",
              "  .colab-df-quickchart {\n",
              "      --bg-color: #E8F0FE;\n",
              "      --fill-color: #1967D2;\n",
              "      --hover-bg-color: #E2EBFA;\n",
              "      --hover-fill-color: #174EA6;\n",
              "      --disabled-fill-color: #AAA;\n",
              "      --disabled-bg-color: #DDD;\n",
              "  }\n",
              "\n",
              "  [theme=dark] .colab-df-quickchart {\n",
              "      --bg-color: #3B4455;\n",
              "      --fill-color: #D2E3FC;\n",
              "      --hover-bg-color: #434B5C;\n",
              "      --hover-fill-color: #FFFFFF;\n",
              "      --disabled-bg-color: #3B4455;\n",
              "      --disabled-fill-color: #666;\n",
              "  }\n",
              "\n",
              "  .colab-df-quickchart {\n",
              "    background-color: var(--bg-color);\n",
              "    border: none;\n",
              "    border-radius: 50%;\n",
              "    cursor: pointer;\n",
              "    display: none;\n",
              "    fill: var(--fill-color);\n",
              "    height: 32px;\n",
              "    padding: 0;\n",
              "    width: 32px;\n",
              "  }\n",
              "\n",
              "  .colab-df-quickchart:hover {\n",
              "    background-color: var(--hover-bg-color);\n",
              "    box-shadow: 0 1px 2px rgba(60, 64, 67, 0.3), 0 1px 3px 1px rgba(60, 64, 67, 0.15);\n",
              "    fill: var(--button-hover-fill-color);\n",
              "  }\n",
              "\n",
              "  .colab-df-quickchart-complete:disabled,\n",
              "  .colab-df-quickchart-complete:disabled:hover {\n",
              "    background-color: var(--disabled-bg-color);\n",
              "    fill: var(--disabled-fill-color);\n",
              "    box-shadow: none;\n",
              "  }\n",
              "\n",
              "  .colab-df-spinner {\n",
              "    border: 2px solid var(--fill-color);\n",
              "    border-color: transparent;\n",
              "    border-bottom-color: var(--fill-color);\n",
              "    animation:\n",
              "      spin 1s steps(1) infinite;\n",
              "  }\n",
              "\n",
              "  @keyframes spin {\n",
              "    0% {\n",
              "      border-color: transparent;\n",
              "      border-bottom-color: var(--fill-color);\n",
              "      border-left-color: var(--fill-color);\n",
              "    }\n",
              "    20% {\n",
              "      border-color: transparent;\n",
              "      border-left-color: var(--fill-color);\n",
              "      border-top-color: var(--fill-color);\n",
              "    }\n",
              "    30% {\n",
              "      border-color: transparent;\n",
              "      border-left-color: var(--fill-color);\n",
              "      border-top-color: var(--fill-color);\n",
              "      border-right-color: var(--fill-color);\n",
              "    }\n",
              "    40% {\n",
              "      border-color: transparent;\n",
              "      border-right-color: var(--fill-color);\n",
              "      border-top-color: var(--fill-color);\n",
              "    }\n",
              "    60% {\n",
              "      border-color: transparent;\n",
              "      border-right-color: var(--fill-color);\n",
              "    }\n",
              "    80% {\n",
              "      border-color: transparent;\n",
              "      border-right-color: var(--fill-color);\n",
              "      border-bottom-color: var(--fill-color);\n",
              "    }\n",
              "    90% {\n",
              "      border-color: transparent;\n",
              "      border-bottom-color: var(--fill-color);\n",
              "    }\n",
              "  }\n",
              "</style>\n",
              "\n",
              "  <script>\n",
              "    async function quickchart(key) {\n",
              "      const quickchartButtonEl =\n",
              "        document.querySelector('#' + key + ' button');\n",
              "      quickchartButtonEl.disabled = true;  // To prevent multiple clicks.\n",
              "      quickchartButtonEl.classList.add('colab-df-spinner');\n",
              "      try {\n",
              "        const charts = await google.colab.kernel.invokeFunction(\n",
              "            'suggestCharts', [key], {});\n",
              "      } catch (error) {\n",
              "        console.error('Error during call to suggestCharts:', error);\n",
              "      }\n",
              "      quickchartButtonEl.classList.remove('colab-df-spinner');\n",
              "      quickchartButtonEl.classList.add('colab-df-quickchart-complete');\n",
              "    }\n",
              "    (() => {\n",
              "      let quickchartButtonEl =\n",
              "        document.querySelector('#df-9edeafca-6d5e-49f6-9faf-37dfbe179f31 button');\n",
              "      quickchartButtonEl.style.display =\n",
              "        google.colab.kernel.accessAllowed ? 'block' : 'none';\n",
              "    })();\n",
              "  </script>\n",
              "</div>\n",
              "\n",
              "    </div>\n",
              "  </div>\n"
            ],
            "application/vnd.google.colaboratory.intrinsic+json": {
              "type": "dataframe",
              "variable_name": "df",
              "summary": "{\n  \"name\": \"df\",\n  \"rows\": 19000,\n  \"fields\": [\n    {\n      \"column\": \"date\",\n      \"properties\": {\n        \"dtype\": \"date\",\n        \"min\": \"2013-01-01 00:00:00\",\n        \"max\": \"2017-12-31 00:00:00\",\n        \"num_unique_values\": 1826,\n        \"samples\": [\n          \"2015-09-26 00:00:00\",\n          \"2017-02-27 00:00:00\",\n          \"2013-10-26 00:00:00\"\n        ],\n        \"semantic_type\": \"\",\n        \"description\": \"\"\n      }\n    },\n    {\n      \"column\": \"store\",\n      \"properties\": {\n        \"dtype\": \"category\",\n        \"num_unique_values\": 10,\n        \"samples\": [\n          \"9\",\n          \"4\",\n          \"2\"\n        ],\n        \"semantic_type\": \"\",\n        \"description\": \"\"\n      }\n    },\n    {\n      \"column\": \"item\",\n      \"properties\": {\n        \"dtype\": \"category\",\n        \"num_unique_values\": 50,\n        \"samples\": [\n          \"40\",\n          \"43\",\n          \"20\"\n        ],\n        \"semantic_type\": \"\",\n        \"description\": \"\"\n      }\n    },\n    {\n      \"column\": \"sales\",\n      \"properties\": {\n        \"dtype\": \"number\",\n        \"std\": 28,\n        \"min\": 1,\n        \"max\": 205,\n        \"num_unique_values\": 173,\n        \"samples\": [\n          196,\n          63,\n          94\n        ],\n        \"semantic_type\": \"\",\n        \"description\": \"\"\n      }\n    }\n  ]\n}"
            }
          },
          "metadata": {},
          "execution_count": 12
        }
      ]
    },
    {
      "cell_type": "code",
      "source": [
        "train = df[df[\"date\"]< \"2017-01-01\"]\n",
        "test = df[df[\"date\"]> \"2017-01-01\"]"
      ],
      "metadata": {
        "id": "GKuoMrRdKPEh"
      },
      "execution_count": 13,
      "outputs": []
    },
    {
      "cell_type": "code",
      "source": [
        "train_features = train.drop(columns=[\"sales\"])\n",
        "train_target = train[\"sales\"]\n",
        "test_features = test.drop(columns=[\"sales\"])\n",
        "test_target = test[\"sales\"]"
      ],
      "metadata": {
        "id": "8Alw-dwhKncM"
      },
      "execution_count": 14,
      "outputs": []
    },
    {
      "cell_type": "markdown",
      "source": [
        "# Enrich Features\n"
      ],
      "metadata": {
        "id": "5cplij6WK44l"
      }
    },
    {
      "cell_type": "code",
      "source": [
        "from upgini import FeaturesEnricher, SearchKey\n",
        "from upgini.metadata import CVType\n",
        "enricher = FeaturesEnricher(\n",
        "    search_keys={\n",
        "        \"date\": SearchKey.DATE,\n",
        "    },\n",
        "    cv_type = CVType.time_series\n",
        ")\n",
        "enricher.fit(\n",
        "    train_features,\n",
        "    train_target,\n",
        "    eval_set = [(test_features,test_target)]\n",
        ")"
      ],
      "metadata": {
        "colab": {
          "base_uri": "https://localhost:8080/",
          "height": 1000
        },
        "collapsed": true,
        "id": "YBLNyDBZNVel",
        "outputId": "2efd1294-654b-4dac-9570-65ec446d790c"
      },
      "execution_count": 26,
      "outputs": [
        {
          "output_type": "stream",
          "name": "stdout",
          "text": [
            "WARNING: Unsupported arguments: {'cv_type': <CVType.time_series: 'time_series'>}\n"
          ]
        },
        {
          "output_type": "display_data",
          "data": {
            "text/plain": [
              "[============================================================] 100% Finished"
            ],
            "text/html": [
              "<progress style='width:60ex' max='100' value='100'></progress>  100% Finished</br>"
            ]
          },
          "metadata": {}
        },
        {
          "output_type": "stream",
          "name": "stdout",
          "text": [
            "\n",
            "WARNING: Search started with DATE search key only\n",
            "Try to add other keys like the COUNTRY, POSTAL_CODE, PHONE NUMBER, EMAIL/HEM, IP to your training dataset\n",
            "for search through all the available data sources.\n",
            "See docs https://github.com/upgini/upgini#-total-239-countries-and-up-to-41-years-of-history\n",
            "\n",
            "Detected task type: ModelTaskType.REGRESSION. Reason: date search key is present, treating as regression\n",
            "You can set task type manually with argument `model_task_type` of FeaturesEnricher constructor if task type detected incorrectly\n",
            "\n",
            "\n"
          ]
        },
        {
          "output_type": "display_data",
          "data": {
            "text/plain": [
              "<IPython.core.display.HTML object>"
            ],
            "text/html": [
              "<table><tr><th style='font-weight:bold'>Column name</th><th style='font-weight:bold'>Status</th><th style='font-weight:bold'>Errors</th></tr><tr><td>target</td><td style='background-color:#DAF7A6;color:black'>All valid</td><td>-</td></tr><tr><td>date</td><td style='background-color:#DAF7A6;color:black'>All valid</td><td>-</td></tr></table>"
            ]
          },
          "metadata": {}
        },
        {
          "output_type": "stream",
          "name": "stdout",
          "text": [
            "\n",
            "Running search request, search_id=6121eb43-b7a7-4763-acf3-ba7583a4d232\n",
            "We'll send email notification once it's completed, just use your personal api_key from profile.upgini.com\n",
            "\n",
            "\u001b[92m\u001b[1m\n",
            "52 relevant feature(s) found with the search keys: ['date']\u001b[0m\n"
          ]
        },
        {
          "output_type": "display_data",
          "data": {
            "text/plain": [
              "<IPython.core.display.HTML object>"
            ],
            "text/html": [
              "<style>\n",
              "            .upgini-df thead th {\n",
              "                font-weight:bold;\n",
              "                text-align: center;\n",
              "                padding: 0.5em;\n",
              "                border-bottom: 2px solid black;\n",
              "            }\n",
              "\n",
              "            .upgini-df tbody td {\n",
              "                padding: 0.5em;\n",
              "            }\n",
              "\n",
              "            .upgini-df tbody tr:nth-child(odd) {\n",
              "                background-color: #ffffff;\n",
              "            }\n",
              "\n",
              "            .upgini-df tbody tr:nth-child(even) {\n",
              "                background-color: #f2f2f2;\n",
              "            }\n",
              "\n",
              "            .upgini-text {\n",
              "                text-align: left;\n",
              "            }\n",
              "\n",
              "            .upgini-number {\n",
              "                text-align: center;\n",
              "            }\n",
              "        </style>\n",
              "        <h2>Relevant features</h2>\n",
              "        <div style=\"display:flex; flex-direction:column; align-items:flex-end; width: fit-content;\">\n",
              "            \n",
              "            <div style=\"text-align: right\">\n",
              "                <button onclick=navigator.clipboard.writeText(decodeURI('Feature%20name%09SHAP%20value%09Coverage%20%25%09Value%20preview%09Provider%09Source%09Updates%0Af_autofe_mul_efd66bbe%090.0754%09100.0%09-0.7432,%20-0.8075,%200.732%09Upgini%09AutoFE%3A%20features%20from%20%3Ca%20href%3D%27https%3A%2F%2Fupgini.com%2F%23data_sources%27%20target%3D%27_blank%27%20rel%3D%27noopener%20noreferrer%27%3ECalendar%20data%3C%2Fa%3E,%3Ca%20href%3D%27https%3A%2F%2Fupgini.com%2F%23data_sources%27%20target%3D%27_blank%27%20rel%3D%27noopener%20noreferrer%27%3EMarkets%20data%3C%2Fa%3E%09Daily%0Af_autofe_div_09412fe1%090.029%09100.0%090.1582,%20-1.1664,%200.2897%09Upgini%09AutoFE%3A%20features%20from%20%3Ca%20href%3D%27https%3A%2F%2Fupgini.com%2F%23data_sources%27%20target%3D%27_blank%27%20rel%3D%27noopener%20noreferrer%27%3ECalendar%20data%3C%2Fa%3E,%3Ca%20href%3D%27https%3A%2F%2Fupgini.com%2F%23data_sources%27%20target%3D%27_blank%27%20rel%3D%27noopener%20noreferrer%27%3EMarkets%20data%3C%2Fa%3E%09Daily%0Af_autofe_div_89c56a5f%090.0163%09100.0%090.0561,%200.4596,%201.7001%09Upgini%09AutoFE%3A%20features%20from%20%3Ca%20href%3D%27https%3A%2F%2Fupgini.com%2F%23data_sources%27%20target%3D%27_blank%27%20rel%3D%27noopener%20noreferrer%27%3ECalendar%20data%3C%2Fa%3E,%3Ca%20href%3D%27https%3A%2F%2Fupgini.com%2F%23data_sources%27%20target%3D%27_blank%27%20rel%3D%27noopener%20noreferrer%27%3EMarkets%20data%3C%2Fa%3E%09Daily%0Af_autofe_mul_0cc09d2d%090.014%09100.0%0928.5891,%20-95.2196,%2034.4594%09Upgini%09AutoFE%3A%20features%20from%20%3Ca%20href%3D%27https%3A%2F%2Fupgini.com%2F%23data_sources%27%20target%3D%27_blank%27%20rel%3D%27noopener%20noreferrer%27%3ECalendar%20data%3C%2Fa%3E,%3Ca%20href%3D%27https%3A%2F%2Fupgini.com%2F%23data_sources%27%20target%3D%27_blank%27%20rel%3D%27noopener%20noreferrer%27%3EMarkets%20data%3C%2Fa%3E%09Daily%0Af_autofe_mul_08e89348%090.0084%09100.0%0921.6421,%2072.7394,%2095.348%09Upgini%09AutoFE%3A%20features%20from%20%3Ca%20href%3D%27https%3A%2F%2Fupgini.com%2F%23data_sources%27%20target%3D%27_blank%27%20rel%3D%27noopener%20noreferrer%27%3ECalendar%20data%3C%2Fa%3E,%3Ca%20href%3D%27https%3A%2F%2Fupgini.com%2F%23data_sources%27%20target%3D%27_blank%27%20rel%3D%27noopener%20noreferrer%27%3EMarkets%20data%3C%2Fa%3E%09Daily%0Af_autofe_div_0a5adf97%090.0066%09100.0%090.0047,%20-0.3791,%200.0012%09Upgini%09AutoFE%3A%20features%20from%20%3Ca%20href%3D%27https%3A%2F%2Fupgini.com%2F%23data_sources%27%20target%3D%27_blank%27%20rel%3D%27noopener%20noreferrer%27%3ECalendar%20data%3C%2Fa%3E,%3Ca%20href%3D%27https%3A%2F%2Fupgini.com%2F%23data_sources%27%20target%3D%27_blank%27%20rel%3D%27noopener%20noreferrer%27%3EMarkets%20data%3C%2Fa%3E%09Daily%0Af_autofe_mul_34d11bc4%090.0034%09100.0%09-9.2029,%209.2563,%2016.0565%09Upgini%09AutoFE%3A%20features%20from%20%3Ca%20href%3D%27https%3A%2F%2Fupgini.com%2F%23data_sources%27%20target%3D%27_blank%27%20rel%3D%27noopener%20noreferrer%27%3ECalendar%20data%3C%2Fa%3E,%3Ca%20href%3D%27https%3A%2F%2Fupgini.com%2F%23data_sources%27%20target%3D%27_blank%27%20rel%3D%27noopener%20noreferrer%27%3EMarkets%20data%3C%2Fa%3E%09Daily%0Af_events_date_year_cos1_9014a856%090.003%09100.0%090.815,%200.9751,%20-0.06%09Upgini%09Calendar%20data%09Daily%0Af_autofe_div_a66c2b64%090.0029%09100.0%090.0004,%200.0002,%200.0002%09Upgini%09AutoFE%3A%20features%20from%20%3Ca%20href%3D%27https%3A%2F%2Fupgini.com%2F%23data_sources%27%20target%3D%27_blank%27%20rel%3D%27noopener%20noreferrer%27%3ECalendar%20data%3C%2Fa%3E,%3Ca%20href%3D%27https%3A%2F%2Fupgini.com%2F%23data_sources%27%20target%3D%27_blank%27%20rel%3D%27noopener%20noreferrer%27%3EMarkets%20data%3C%2Fa%3E%09Daily%0Af_autofe_div_cf5dd7be%090.0024%09100.0%09-0.8845,%20-0.9689,%200.5683%09Upgini%09AutoFE%3A%20features%20from%20%3Ca%20href%3D%27https%3A%2F%2Fupgini.com%2F%23data_sources%27%20target%3D%27_blank%27%20rel%3D%27noopener%20noreferrer%27%3ECalendar%20data%3C%2Fa%3E,%3Ca%20href%3D%27https%3A%2F%2Fupgini.com%2F%23data_sources%27%20target%3D%27_blank%27%20rel%3D%27noopener%20noreferrer%27%3EMarkets%20data%3C%2Fa%3E%09Daily%0Af_autofe_div_ba625fe9%090.0023%09100.0%09-1.4255,%200.6176,%200.7935%09Upgini%09AutoFE%3A%20features%20from%20%3Ca%20href%3D%27https%3A%2F%2Fupgini.com%2F%23data_sources%27%20target%3D%27_blank%27%20rel%3D%27noopener%20noreferrer%27%3ECalendar%20data%3C%2Fa%3E%09Daily%0Af_autofe_mul_0afc7563%090.002%09100.0%09-0.1198,%200.4261,%200.4308%09Upgini%09AutoFE%3A%20features%20from%20%3Ca%20href%3D%27https%3A%2F%2Fupgini.com%2F%23data_sources%27%20target%3D%27_blank%27%20rel%3D%27noopener%20noreferrer%27%3ECalendar%20data%3C%2Fa%3E%09Daily%0Af_autofe_mul_38339fb6%090.0018%09100.0%09-0.3428,%20-0.0685,%20-0.2897%09Upgini%09AutoFE%3A%20features%20from%20%3Ca%20href%3D%27https%3A%2F%2Fupgini.com%2F%23data_sources%27%20target%3D%27_blank%27%20rel%3D%27noopener%20noreferrer%27%3ECalendar%20data%3C%2Fa%3E%09Daily%0Af_autofe_div_abde95f5%090.0015%09100.0%091.1096,%200.8273,%20-1.2512%09Upgini%09AutoFE%3A%20features%20from%20%3Ca%20href%3D%27https%3A%2F%2Fupgini.com%2F%23data_sources%27%20target%3D%27_blank%27%20rel%3D%27noopener%20noreferrer%27%3ECalendar%20data%3C%2Fa%3E,%3Ca%20href%3D%27https%3A%2F%2Fupgini.com%2F%23data_sources%27%20target%3D%27_blank%27%20rel%3D%27noopener%20noreferrer%27%3EMarkets%20data%3C%2Fa%3E%09Daily%0Af_autofe_mul_5c76b026%090.0013%09100.0%0922.6967,%2027.1028,%2026.557%09Upgini%09AutoFE%3A%20features%20from%20%3Ca%20href%3D%27https%3A%2F%2Fupgini.com%2F%23data_sources%27%20target%3D%27_blank%27%20rel%3D%27noopener%20noreferrer%27%3EMarkets%20data%3C%2Fa%3E%09Daily%0Af_autofe_div_b97cf188%090.0012%0985.46637744034707%090.9241,%20-0.2846,%20-0.9241%09Upgini%09AutoFE%3A%20features%20from%20%3Ca%20href%3D%27https%3A%2F%2Fupgini.com%2F%23data_sources%27%20target%3D%27_blank%27%20rel%3D%27noopener%20noreferrer%27%3ECalendar%20data%3C%2Fa%3E%09Daily%0Af_autofe_div_66be9f98%090.0011%09100.0%090.6054,%20-0.8469,%200.5771%09Upgini%09AutoFE%3A%20features%20from%20%3Ca%20href%3D%27https%3A%2F%2Fupgini.com%2F%23data_sources%27%20target%3D%27_blank%27%20rel%3D%27noopener%20noreferrer%27%3ECalendar%20data%3C%2Fa%3E,%3Ca%20href%3D%27https%3A%2F%2Fupgini.com%2F%23data_sources%27%20target%3D%27_blank%27%20rel%3D%27noopener%20noreferrer%27%3EMarkets%20data%3C%2Fa%3E%09Daily%0Af_autofe_mul_8a894088%090.001%09100.0%09-0.2219,%200.9409,%200.5844%09Upgini%09AutoFE%3A%20features%20from%20%3Ca%20href%3D%27https%3A%2F%2Fupgini.com%2F%23data_sources%27%20target%3D%27_blank%27%20rel%3D%27noopener%20noreferrer%27%3ECalendar%20data%3C%2Fa%3E,%3Ca%20href%3D%27https%3A%2F%2Fupgini.com%2F%23data_sources%27%20target%3D%27_blank%27%20rel%3D%27noopener%20noreferrer%27%3EMarkets%20data%3C%2Fa%3E%09Daily%0Af_autofe_div_270d64a2%090.0007%09100.0%09-1.0087,%20-0.8996,%20-0.795%09Upgini%09AutoFE%3A%20features%20from%20%3Ca%20href%3D%27https%3A%2F%2Fupgini.com%2F%23data_sources%27%20target%3D%27_blank%27%20rel%3D%27noopener%20noreferrer%27%3ECalendar%20data%3C%2Fa%3E,%3Ca%20href%3D%27https%3A%2F%2Fupgini.com%2F%23data_sources%27%20target%3D%27_blank%27%20rel%3D%27noopener%20noreferrer%27%3EMarkets%20data%3C%2Fa%3E%09Daily%0Af_autofe_div_1d266053%090.0007%09100.0%09-0.2589,%20-0.2777,%20-0.351%09Upgini%09AutoFE%3A%20features%20from%20%3Ca%20href%3D%27https%3A%2F%2Fupgini.com%2F%23data_sources%27%20target%3D%27_blank%27%20rel%3D%27noopener%20noreferrer%27%3ECalendar%20data%3C%2Fa%3E,%3Ca%20href%3D%27https%3A%2F%2Fupgini.com%2F%23data_sources%27%20target%3D%27_blank%27%20rel%3D%27noopener%20noreferrer%27%3EMarkets%20data%3C%2Fa%3E%09Daily%0Af_autofe_div_eb5dcaac%090.0006%09100.0%09-0.0001,%20-0.0004,%20-0.0001%09Upgini%09AutoFE%3A%20features%20from%20%3Ca%20href%3D%27https%3A%2F%2Fupgini.com%2F%23data_sources%27%20target%3D%27_blank%27%20rel%3D%27noopener%20noreferrer%27%3ECalendar%20data%3C%2Fa%3E,%3Ca%20href%3D%27https%3A%2F%2Fupgini.com%2F%23data_sources%27%20target%3D%27_blank%27%20rel%3D%27noopener%20noreferrer%27%3EMarkets%20data%3C%2Fa%3E%09Daily%0Af_autofe_div_b2cb0ac8%090.0006%09100.0%091503.3976,%201831.0003,%202408.234...%09Upgini%09AutoFE%3A%20features%20from%20%3Ca%20href%3D%27https%3A%2F%2Fupgini.com%2F%23data_sources%27%20target%3D%27_blank%27%20rel%3D%27noopener%20noreferrer%27%3EMarkets%20data%3C%2Fa%3E%09Daily%0Af_autofe_div_3e22df83%090.0006%09100.0%09-0.0104,%20-0.0077,%200.0078%09Upgini%09AutoFE%3A%20features%20from%20%3Ca%20href%3D%27https%3A%2F%2Fupgini.com%2F%23data_sources%27%20target%3D%27_blank%27%20rel%3D%27noopener%20noreferrer%27%3ECalendar%20data%3C%2Fa%3E,%3Ca%20href%3D%27https%3A%2F%2Fupgini.com%2F%23data_sources%27%20target%3D%27_blank%27%20rel%3D%27noopener%20noreferrer%27%3EMarkets%20data%3C%2Fa%3E%09Daily%0Af_autofe_mul_5feff686%090.0005%09100.0%090.1847,%200.9933,%200.5075%09Upgini%09AutoFE%3A%20features%20from%20%3Ca%20href%3D%27https%3A%2F%2Fupgini.com%2F%23data_sources%27%20target%3D%27_blank%27%20rel%3D%27noopener%20noreferrer%27%3ECalendar%20data%3C%2Fa%3E%09Daily%0Af_autofe_div_fcee6f90%090.0004%09100.0%090.0004,%20-0.0005,%20-0.0001%09Upgini%09AutoFE%3A%20features%20from%20%3Ca%20href%3D%27https%3A%2F%2Fupgini.com%2F%23data_sources%27%20target%3D%27_blank%27%20rel%3D%27noopener%20noreferrer%27%3ECalendar%20data%3C%2Fa%3E,%3Ca%20href%3D%27https%3A%2F%2Fupgini.com%2F%23data_sources%27%20target%3D%27_blank%27%20rel%3D%27noopener%20noreferrer%27%3EMarkets%20data%3C%2Fa%3E%09Daily%0Af_autofe_mul_0eea013d%090.0002%09100.0%09-0.269,%20-0.2573,%20-1.0049%09Upgini%09AutoFE%3A%20features%20from%20%3Ca%20href%3D%27https%3A%2F%2Fupgini.com%2F%23data_sources%27%20target%3D%27_blank%27%20rel%3D%27noopener%20noreferrer%27%3ECalendar%20data%3C%2Fa%3E,%3Ca%20href%3D%27https%3A%2F%2Fupgini.com%2F%23data_sources%27%20target%3D%27_blank%27%20rel%3D%27noopener%20noreferrer%27%3EMarkets%20data%3C%2Fa%3E%09Daily%0Af_autofe_div_50a5dcaf%090.0002%09100.0%090.7693,%20-0.2608,%200.5493%09Upgini%09AutoFE%3A%20features%20from%20%3Ca%20href%3D%27https%3A%2F%2Fupgini.com%2F%23data_sources%27%20target%3D%27_blank%27%20rel%3D%27noopener%20noreferrer%27%3ECalendar%20data%3C%2Fa%3E,%3Ca%20href%3D%27https%3A%2F%2Fupgini.com%2F%23data_sources%27%20target%3D%27_blank%27%20rel%3D%27noopener%20noreferrer%27%3EMarkets%20data%3C%2Fa%3E%09Daily%0Af_autofe_mul_4c9c7d0a%090.0002%09100.0%090.809,%200.6878,%200.6851%09Upgini%09AutoFE%3A%20features%20from%20%3Ca%20href%3D%27https%3A%2F%2Fupgini.com%2F%23data_sources%27%20target%3D%27_blank%27%20rel%3D%27noopener%20noreferrer%27%3EMarkets%20data%3C%2Fa%3E%09Daily%0Af_economic_date_cbpol_pca_9_bde660b4%090.0002%09100.0%09-1.5333,%20-1.4473,%20-2.009%09Upgini%09World%20economic%20indicators%09Daily%0Af_autofe_div_86414197%090.0002%09100.0%09-0.1858,%20-0.9543,%20-0.2206%09Upgini%09AutoFE%3A%20features%20from%20%3Ca%20href%3D%27https%3A%2F%2Fupgini.com%2F%23data_sources%27%20target%3D%27_blank%27%20rel%3D%27noopener%20noreferrer%27%3ECalendar%20data%3C%2Fa%3E,%3Ca%20href%3D%27https%3A%2F%2Fupgini.com%2F%23data_sources%27%20target%3D%27_blank%27%20rel%3D%27noopener%20noreferrer%27%3EMarkets%20data%3C%2Fa%3E%09Daily%0Af_economic_date_cbpol_pca_1_31e5f62c%090.0002%09100.0%09-3.8726,%20-3.6936,%20-3.8123%09Upgini%09World%20economic%20indicators%09Daily%0Af_autofe_mul_a4d34ac2%090.0001%09100.0%090.1103,%200.6044,%200.106%09Upgini%09AutoFE%3A%20features%20from%20%3Ca%20href%3D%27https%3A%2F%2Fupgini.com%2F%23data_sources%27%20target%3D%27_blank%27%20rel%3D%27noopener%20noreferrer%27%3ECalendar%20data%3C%2Fa%3E%09Daily%0Af_autofe_div_36a19c14%090.0001%09100.0%09-0.9656,%20-0.9537,%200.6604%09Upgini%09AutoFE%3A%20features%20from%20%3Ca%20href%3D%27https%3A%2F%2Fupgini.com%2F%23data_sources%27%20target%3D%27_blank%27%20rel%3D%27noopener%20noreferrer%27%3ECalendar%20data%3C%2Fa%3E,%3Ca%20href%3D%27https%3A%2F%2Fupgini.com%2F%23data_sources%27%20target%3D%27_blank%27%20rel%3D%27noopener%20noreferrer%27%3EMarkets%20data%3C%2Fa%3E%09Daily%0Af_autofe_mul_cf094f10%090.0001%09100.0%090.1912,%200.2716,%20-0.1083%09Upgini%09AutoFE%3A%20features%20from%20%3Ca%20href%3D%27https%3A%2F%2Fupgini.com%2F%23data_sources%27%20target%3D%27_blank%27%20rel%3D%27noopener%20noreferrer%27%3ECalendar%20data%3C%2Fa%3E%09Daily%0Af_economic_date_cbpol_pca_4_be889d56%090.0001%09100.0%09-2.181,%20-1.7134,%200.9693%09Upgini%09World%20economic%20indicators%09Daily%0Af_economic_date_cbpol_pca_5_c87ba63a%090.0001%09100.0%09-0.4469,%20-0.2863,%20-0.2863%09Upgini%09World%20economic%20indicators%09Daily%0Af_economic_date_cci_pca_5_b433b3c8%090.0001%09100.0%09-3.1903,%202.4189,%200.2387%09Upgini%09World%20economic%20indicators%09Daily%0Af_economic_date_cci_pca_8_54959a61%090.0001%09100.0%09-1.7661,%20-2.0546,%20-1.6966%09Upgini%09World%20economic%20indicators%09Daily%0Af_economic_date_cpi_umap_7_20d961e2%090.0001%09100.0%095.1283,%201.8864,%209.5536%09Upgini%09World%20economic%20indicators%09Daily%0Af_economic_date_cpi_umap_9_b7d42666%090.0001%09100.0%095.2326,%209.4196,%20-0.0013%09Upgini%09World%20economic%20indicators%09Daily%0Af_events_date_week_sin1_847b5db1%090.0001%09100.0%09-0.7818,%20-0.4339,%200.9749%09Upgini%09Calendar%20data%09Daily%0Af_events_date_week_sin2_e28440a5%090.0001%09100.0%09-0.7818,%200.4339,%200.0%09Upgini%09Calendar%20data%09Daily%0Af_events_date_year_cos2_7acbaf1b%090.0001%09100.0%090.7498,%20-0.0086,%200.9713%09Upgini%09Calendar%20data%09Daily%0Af_events_date_year_sin3_e4c1ec0e%090.0001%09100.0%090.6995,%20-0.4005,%20-0.8827%09Upgini%09Calendar%20data%09Daily%0Af_financial_date_crude_oil_1f195998%090.0001%09100.0%0957.14,%2041.85,%2047.85%09Upgini%09Markets%20data%09Daily%0Af_financial_date_crude_oil_7d_to_1y_c3e0ad17%090.0001%09100.0%091.0007,%200.863,%201.1537%09Upgini%09Markets%20data%09Daily%0Af_financial_date_gold_7d_to_1y_ae310379%090.0001%09100.0%091.028,%201.0639,%201.0753%09Upgini%09Markets%20data%09Daily%0Af_financial_date_silver_7d_to_7d_1y_shift_55fa8001%090.0001%09100.0%090.7316,%200.8187,%200.7175%09Upgini%09Markets%20data%09Daily%0Af_financial_date_silver_e4e33014%090.0001%09100.0%0918.653,%2017.912,%2017.143%09Upgini%09Markets%20data%09Daily%0Af_financial_date_snp500_7d_to_1y_378b9f99%090.0001%09100.0%091.0726,%201.0693,%201.0716%09Upgini%09Markets%20data%09Daily%0Af_financial_date_stoxx_043cbcd4%090.0001%09100.0%09355.72,%20292.37,%20297.89%09Upgini%09Markets%20data%09Daily%0Af_financial_date_usd_7d_to_1y_9cbe7ef8%090.0001%09100.0%091.0597,%200.9916,%200.9983%09Upgini%09Markets%20data%09Daily%0A'))>📂 Copy</button>\n",
              "                <a href='mailto:<Share with...>?subject=Relevant external data sources from Upgini.com&body=Feature%20name%09SHAP%20value%09Coverage%20%25%09Value%20preview%09Provider%09Source%09Updates%0Af_autofe_mul_efd66bbe%090.0754%09100.0%09-0.7432,%20-0.8075,%200.732%09Upgini%09AutoFE%3A%20features%20from%20%3Ca%20href%3D%27https%3A%2F%2Fupgini.com%2F%23data_sources%27%20target%3D%27_blank%27%20rel%3D%27noopener%20noreferrer%27%3ECalendar%20data%3C%2Fa%3E,%3Ca%20href%3D%27https%3A%2F%2Fupgini.com%2F%23data_sources%27%20target%3D%27_blank%27%20rel%3D%27noopener%20noreferrer%27%3EMarkets%20data%3C%2Fa%3E%09Daily%0Af_autofe_div_09412fe1%090.029%09100.0%090.1582,%20-1.1664,%200.2897%09Upgini%09AutoFE%3A%20features%20from%20%3Ca%20href%3D%27https%3A%2F%2Fupgini.com%2F%23data_sources%27%20target%3D%27_blank%27%20rel%3D%27noopener%20noreferrer%27%3ECalendar%20data%3C%2Fa%3E,%3Ca%20href%3D%27https%3A%2F%2Fupgini.com%2F%23data_sources%27%20target%3D%27_blank%27%20rel%3D%27noopener%20noreferrer%27%3EMarkets%20data%3C%2Fa%3E%09Daily%0Af_autofe_div_89c56a5f%090.0163%09100.0%090.0561,%200.4596,%201.7001%09Upgini%09AutoFE%3A%20features%20from%20%3Ca%20href%3D%27https%3A%2F%2Fupgini.com%2F%23data_sources%27%20target%3D%27_blank%27%20rel%3D%27noopener%20noreferrer%27%3ECalendar%20data%3C%2Fa%3E,%3Ca%20href%3D%27https%3A%2F%2Fupgini.com%2F%23data_sources%27%20target%3D%27_blank%27%20rel%3D%27noopener%20noreferrer%27%3EMarkets%20data%3C%2Fa%3E%09Daily%0Af_autofe_mul_0cc09d2d%090.014%09100.0%0928.5891,%20-95.2196,%2034.4594%09Upgini%09AutoFE%3A%20features%20from%20%3Ca%20href%3D%27https%3A%2F%2Fupgini.com%2F%23data_sources%27%20target%3D%27_blank%27%20rel%3D%27noopener%20noreferrer%27%3ECalendar%20data%3C%2Fa%3E,%3Ca%20href%3D%27https%3A%2F%2Fupgini.com%2F%23data_sources%27%20target%3D%27_blank%27%20rel%3D%27noopener%20noreferrer%27%3EMarkets%20data%3C%2Fa%3E%09Daily%0Af_autofe_mul_08e89348%090.0084%09100.0%0921.6421,%2072.7394,%2095.348%09Upgini%09AutoFE%3A%20features%20from%20%3Ca%20href%3D%27https%3A%2F%2Fupgini.com%2F%23data_sources%27%20target%3D%27_blank%27%20rel%3D%27noopener%20noreferrer%27%3ECalendar%20data%3C%2Fa%3E,%3Ca%20href%3D%27https%3A%2F%2Fupgini.com%2F%23data_sources%27%20target%3D%27_blank%27%20rel%3D%27noopener%20noreferrer%27%3EMarkets%20data%3C%2Fa%3E%09Daily%0Af_autofe_div_0a5adf97%090.0066%09100.0%090.0047,%20-0.3791,%200.0012%09Upgini%09AutoFE%3A%20features%20from%20%3Ca%20href%3D%27https%3A%2F%2Fupgini.com%2F%23data_sources%27%20target%3D%27_blank%27%20rel%3D%27noopener%20noreferrer%27%3ECalendar%20data%3C%2Fa%3E,%3Ca%20href%3D%27https%3A%2F%2Fupgini.com%2F%23data_sources%27%20target%3D%27_blank%27%20rel%3D%27noopener%20noreferrer%27%3EMarkets%20data%3C%2Fa%3E%09Daily%0Af_autofe_mul_34d11bc4%090.0034%09100.0%09-9.2029,%209.2563,%2016.0565%09Upgini%09AutoFE%3A%20features%20from%20%3Ca%20href%3D%27https%3A%2F%2Fupgini.com%2F%23data_sources%27%20target%3D%27_blank%27%20rel%3D%27noopener%20noreferrer%27%3ECalendar%20data%3C%2Fa%3E,%3Ca%20href%3D%27https%3A%2F%2Fupgini.com%2F%23data_sources%27%20target%3D%27_blank%27%20rel%3D%27noopener%20noreferrer%27%3EMarkets%20data%3C%2Fa%3E%09Daily%0Af_events_date_year_cos1_9014a856%090.003%09100.0%090.815,%200.9751,%20-0.06%09Upgini%09Calendar%20data%09Daily%0Af_autofe_div_a66c2b64%090.0029%09100.0%090.0004,%200.0002,%200.0002%09Upgini%09AutoFE%3A%20features%20from%20%3Ca%20href%3D%27https%3A%2F%2Fupgini.com%2F%23data_sources%27%20target%3D%27_blank%27%20rel%3D%27noopener%20noreferrer%27%3ECalendar%20data%3C%2Fa%3E,%3Ca%20href%3D%27https%3A%2F%2Fupgini.com%2F%23data_sources%27%20target%3D%27_blank%27%20rel%3D%27noopener%20noreferrer%27%3EMarkets%20data%3C%2Fa%3E%09Daily%0Af_autofe_div_cf5dd7be%090.0024%09100.0%09-0.8845,%20-0.9689,%200.5683%09Upgini%09AutoFE%3A%20features%20from%20%3Ca%20href%3D%27https%3A%2F%2Fupgini.com%2F%23data_sources%27%20target%3D%27_blank%27%20rel%3D%27noopener%20noreferrer%27%3ECalendar%20data%3C%2Fa%3E,%3Ca%20href%3D%27https%3A%2F%2Fupgini.com%2F%23data_sources%27%20target%3D%27_blank%27%20rel%3D%27noopener%20noreferrer%27%3EMarkets%20data%3C%2Fa%3E%09Daily%0Af_autofe_div_ba625fe9%090.0023%09100.0%09-1.4255,%200.6176,%200.7935%09Upgini%09AutoFE%3A%20features%20from%20%3Ca%20href%3D%27https%3A%2F%2Fupgini.com%2F%23data_sources%27%20target%3D%27_blank%27%20rel%3D%27noopener%20noreferrer%27%3ECalendar%20data%3C%2Fa%3E%09Daily%0Af_autofe_mul_0afc7563%090.002%09100.0%09-0.1198,%200.4261,%200.4308%09Upgini%09AutoFE%3A%20features%20from%20%3Ca%20href%3D%27https%3A%2F%2Fupgini.com%2F%23data_sources%27%20target%3D%27_blank%27%20rel%3D%27noopener%20noreferrer%27%3ECalendar%20data%3C%2Fa%3E%09Daily%0Af_autofe_mul_38339fb6%090.0018%09100.0%09-0.3428,%20-0.0685,%20-0.2897%09Upgini%09AutoFE%3A%20features%20from%20%3Ca%20href%3D%27https%3A%2F%2Fupgini.com%2F%23data_sources%27%20target%3D%27_blank%27%20rel%3D%27noopener%20noreferrer%27%3ECalendar%20data%3C%2Fa%3E%09Daily%0Af_autofe_div_abde95f5%090.0015%09100.0%091.1096,%200.8273,%20-1.2512%09Upgini%09AutoFE%3A%20features%20from%20%3Ca%20href%3D%27https%3A%2F%2Fupgini.com%2F%23data_sources%27%20target%3D%27_blank%27%20rel%3D%27noopener%20noreferrer%27%3ECalendar%20data%3C%2Fa%3E,%3Ca%20href%3D%27https%3A%2F%2Fupgini.com%2F%23data_sources%27%20target%3D%27_blank%27%20rel%3D%27noopener%20noreferrer%27%3EMarkets%20data%3C%2Fa%3E%09Daily%0Af_autofe_mul_5c76b026%090.0013%09100.0%0922.6967,%2027.1028,%2026.557%09Upgini%09AutoFE%3A%20features%20from%20%3Ca%20href%3D%27https%3A%2F%2Fupgini.com%2F%23data_sources%27%20target%3D%27_blank%27%20rel%3D%27noopener%20noreferrer%27%3EMarkets%20data%3C%2Fa%3E%09Daily%0Af_autofe_div_b97cf188%090.0012%0985.46637744034707%090.9241,%20-0.2846,%20-0.9241%09Upgini%09AutoFE%3A%20features%20from%20%3Ca%20href%3D%27https%3A%2F%2Fupgini.com%2F%23data_sources%27%20target%3D%27_blank%27%20rel%3D%27noopener%20noreferrer%27%3ECalendar%20data%3C%2Fa%3E%09Daily%0Af_autofe_div_66be9f98%090.0011%09100.0%090.6054,%20-0.8469,%200.5771%09Upgini%09AutoFE%3A%20features%20from%20%3Ca%20href%3D%27https%3A%2F%2Fupgini.com%2F%23data_sources%27%20target%3D%27_blank%27%20rel%3D%27noopener%20noreferrer%27%3ECalendar%20data%3C%2Fa%3E,%3Ca%20href%3D%27https%3A%2F%2Fupgini.com%2F%23data_sources%27%20target%3D%27_blank%27%20rel%3D%27noopener%20noreferrer%27%3EMarkets%20data%3C%2Fa%3E%09Daily%0Af_autofe_mul_8a894088%090.001%09100.0%09-0.2219,%200.9409,%200.5844%09Upgini%09AutoFE%3A%20features%20from%20%3Ca%20href%3D%27https%3A%2F%2Fupgini.com%2F%23data_sources%27%20target%3D%27_blank%27%20rel%3D%27noopener%20noreferrer%27%3ECalendar%20data%3C%2Fa%3E,%3Ca%20href%3D%27https%3A%2F%2Fupgini.com%2F%23data_sources%27%20target%3D%27_blank%27%20rel%3D%27noopener%20noreferrer%27%3EMarkets%20data%3C%2Fa%3E%09Daily%0Af_autofe_div_270d64a2%090.0007%09100.0%09-1.0087,%20-0.8996,%20-0.795%09Upgini%09AutoFE%3A%20features%20from%20%3Ca%20href%3D%27https%3A%2F%2Fupgini.com%2F%23data_sources%27%20target%3D%27_blank%27%20rel%3D%27noopener%20noreferrer%27%3ECalendar%20data%3C%2Fa%3E,%3Ca%20href%3D%27https%3A%2F%2Fupgini.com%2F%23data_sources%27%20target%3D%27_blank%27%20rel%3D%27noopener%20noreferrer%27%3EMarkets%20data%3C%2Fa%3E%09Daily%0Af_autofe_div_1d266053%090.0007%09100.0%09-0.2589,%20-0.2777,%20-0.351%09Upgini%09AutoFE%3A%20features%20from%20%3Ca%20href%3D%27https%3A%2F%2Fupgini.com%2F%23data_sources%27%20target%3D%27_blank%27%20rel%3D%27noopener%20noreferrer%27%3ECalendar%20data%3C%2Fa%3E,%3Ca%20href%3D%27https%3A%2F%2Fupgini.com%2F%23data_sources%27%20target%3D%27_blank%27%20rel%3D%27noopener%20noreferrer%27%3EMarkets%20data%3C%2Fa%3E%09Daily%0Af_autofe_div_eb5dcaac%090.0006%09100.0%09-0.0001,%20-0.0004,%20-0.0001%09Upgini%09AutoFE%3A%20features%20from%20%3Ca%20href%3D%27https%3A%2F%2Fupgini.com%2F%23data_sources%27%20target%3D%27_blank%27%20rel%3D%27noopener%20noreferrer%27%3ECalendar%20data%3C%2Fa%3E,%3Ca%20href%3D%27https%3A%2F%2Fupgini.com%2F%23data_sources%27%20target%3D%27_blank%27%20rel%3D%27noopener%20noreferrer%27%3EMarkets%20data%3C%2Fa%3E%09Daily%0Af_autofe_div_b2cb0ac8%090.0006%09100.0%091503.3976,%201831.0003,%202408.234...%09Upgini%09AutoFE%3A%20features%20from%20%3Ca%20href%3D%27https%3A%2F%2Fupgini.com%2F%23data_sources%27%20target%3D%27_blank%27%20rel%3D%27noopener%20noreferrer%27%3EMarkets%20data%3C%2Fa%3E%09Daily%0Af_autofe_div_3e22df83%090.0006%09100.0%09-0.0104,%20-0.0077,%200.0078%09Upgini%09AutoFE%3A%20features%20from%20%3Ca%20href%3D%27https%3A%2F%2Fupgini.com%2F%23data_sources%27%20target%3D%27_blank%27%20rel%3D%27noopener%20noreferrer%27%3ECalendar%20data%3C%2Fa%3E,%3Ca%20href%3D%27https%3A%2F%2Fupgini.com%2F%23data_sources%27%20target%3D%27_blank%27%20rel%3D%27noopener%20noreferrer%27%3EMarkets%20data%3C%2Fa%3E%09Daily%0Af_autofe_mul_5feff686%090.0005%09100.0%090.1847,%200.9933,%200.5075%09Upgini%09AutoFE%3A%20features%20from%20%3Ca%20href%3D%27https%3A%2F%2Fupgini.com%2F%23data_sources%27%20target%3D%27_blank%27%20rel%3D%27noopener%20noreferrer%27%3ECalendar%20data%3C%2Fa%3E%09Daily%0Af_autofe_div_fcee6f90%090.0004%09100.0%090.0004,%20-0.0005,%20-0.0001%09Upgini%09AutoFE%3A%20features%20from%20%3Ca%20href%3D%27https%3A%2F%2Fupgini.com%2F%23data_sources%27%20target%3D%27_blank%27%20rel%3D%27noopener%20noreferrer%27%3ECalendar%20data%3C%2Fa%3E,%3Ca%20href%3D%27https%3A%2F%2Fupgini.com%2F%23data_sources%27%20target%3D%27_blank%27%20rel%3D%27noopener%20noreferrer%27%3EMarkets%20data%3C%2Fa%3E%09Daily%0Af_autofe_mul_0eea013d%090.0002%09100.0%09-0.269,%20-0.2573,%20-1.0049%09Upgini%09AutoFE%3A%20features%20from%20%3Ca%20href%3D%27https%3A%2F%2Fupgini.com%2F%23data_sources%27%20target%3D%27_blank%27%20rel%3D%27noopener%20noreferrer%27%3ECalendar%20data%3C%2Fa%3E,%3Ca%20href%3D%27https%3A%2F%2Fupgini.com%2F%23data_sources%27%20target%3D%27_blank%27%20rel%3D%27noopener%20noreferrer%27%3EMarkets%20data%3C%2Fa%3E%09Daily%0Af_autofe_div_50a5dcaf%090.0002%09100.0%090.7693,%20-0.2608,%200.5493%09Upgini%09AutoFE%3A%20features%20from%20%3Ca%20href%3D%27https%3A%2F%2Fupgini.com%2F%23data_sources%27%20target%3D%27_blank%27%20rel%3D%27noopener%20noreferrer%27%3ECalendar%20data%3C%2Fa%3E,%3Ca%20href%3D%27https%3A%2F%2Fupgini.com%2F%23data_sources%27%20target%3D%27_blank%27%20rel%3D%27noopener%20noreferrer%27%3EMarkets%20data%3C%2Fa%3E%09Daily%0Af_autofe_mul_4c9c7d0a%090.0002%09100.0%090.809,%200.6878,%200.6851%09Upgini%09AutoFE%3A%20features%20from%20%3Ca%20href%3D%27https%3A%2F%2Fupgini.com%2F%23data_sources%27%20target%3D%27_blank%27%20rel%3D%27noopener%20noreferrer%27%3EMarkets%20data%3C%2Fa%3E%09Daily%0Af_economic_date_cbpol_pca_9_bde660b4%090.0002%09100.0%09-1.5333,%20-1.4473,%20-2.009%09Upgini%09World%20economic%20indicators%09Daily%0Af_autofe_div_86414197%090.0002%09100.0%09-0.1858,%20-0.9543,%20-0.2206%09Upgini%09AutoFE%3A%20features%20from%20%3Ca%20href%3D%27https%3A%2F%2Fupgini.com%2F%23data_sources%27%20target%3D%27_blank%27%20rel%3D%27noopener%20noreferrer%27%3ECalendar%20data%3C%2Fa%3E,%3Ca%20href%3D%27https%3A%2F%2Fupgini.com%2F%23data_sources%27%20target%3D%27_blank%27%20rel%3D%27noopener%20noreferrer%27%3EMarkets%20data%3C%2Fa%3E%09Daily%0Af_economic_date_cbpol_pca_1_31e5f62c%090.0002%09100.0%09-3.8726,%20-3.6936,%20-3.8123%09Upgini%09World%20economic%20indicators%09Daily%0Af_autofe_mul_a4d34ac2%090.0001%09100.0%090.1103,%200.6044,%200.106%09Upgini%09AutoFE%3A%20features%20from%20%3Ca%20href%3D%27https%3A%2F%2Fupgini.com%2F%23data_sources%27%20target%3D%27_blank%27%20rel%3D%27noopener%20noreferrer%27%3ECalendar%20data%3C%2Fa%3E%09Daily%0Af_autofe_div_36a19c14%090.0001%09100.0%09-0.9656,%20-0.9537,%200.6604%09Upgini%09AutoFE%3A%20features%20from%20%3Ca%20href%3D%27https%3A%2F%2Fupgini.com%2F%23data_sources%27%20target%3D%27_blank%27%20rel%3D%27noopener%20noreferrer%27%3ECalendar%20data%3C%2Fa%3E,%3Ca%20href%3D%27https%3A%2F%2Fupgini.com%2F%23data_sources%27%20target%3D%27_blank%27%20rel%3D%27noopener%20noreferrer%27%3EMarkets%20data%3C%2Fa%3E%09Daily%0Af_autofe_mul_cf094f10%090.0001%09100.0%090.1912,%200.2716,%20-0.1083%09Upgini%09AutoFE%3A%20features%20from%20%3Ca%20href%3D%27https%3A%2F%2Fupgini.com%2F%23data_sources%27%20target%3D%27_blank%27%20rel%3D%27noopener%20noreferrer%27%3ECalendar%20data%3C%2Fa%3E%09Daily%0Af_economic_date_cbpol_pca_4_be889d56%090.0001%09100.0%09-2.181,%20-1.7134,%200.9693%09Upgini%09World%20economic%20indicators%09Daily%0Af_economic_date_cbpol_pca_5_c87ba63a%090.0001%09100.0%09-0.4469,%20-0.2863,%20-0.2863%09Upgini%09World%20economic%20indicators%09Daily%0Af_economic_date_cci_pca_5_b433b3c8%090.0001%09100.0%09-3.1903,%202.4189,%200.2387%09Upgini%09World%20economic%20indicators%09Daily%0Af_economic_date_cci_pca_8_54959a61%090.0001%09100.0%09-1.7661,%20-2.0546,%20-1.6966%09Upgini%09World%20economic%20indicators%09Daily%0Af_economic_date_cpi_umap_7_20d961e2%090.0001%09100.0%095.1283,%201.8864,%209.5536%09Upgini%09World%20economic%20indicators%09Daily%0Af_economic_date_cpi_umap_9_b7d42666%090.0001%09100.0%095.2326,%209.4196,%20-0.0013%09Upgini%09World%20economic%20indicators%09Daily%0Af_events_date_week_sin1_847b5db1%090.0001%09100.0%09-0.7818,%20-0.4339,%200.9749%09Upgini%09Calendar%20data%09Daily%0Af_events_date_week_sin2_e28440a5%090.0001%09100.0%09-0.7818,%200.4339,%200.0%09Upgini%09Calendar%20data%09Daily%0Af_events_date_year_cos2_7acbaf1b%090.0001%09100.0%090.7498,%20-0.0086,%200.9713%09Upgini%09Calendar%20data%09Daily%0Af_events_date_year_sin3_e4c1ec0e%090.0001%09100.0%090.6995,%20-0.4005,%20-0.8827%09Upgini%09Calendar%20data%09Daily%0Af_financial_date_crude_oil_1f195998%090.0001%09100.0%0957.14,%2041.85,%2047.85%09Upgini%09Markets%20data%09Daily%0Af_financial_date_crude_oil_7d_to_1y_c3e0ad17%090.0001%09100.0%091.0007,%200.863,%201.1537%09Upgini%09Markets%20data%09Daily%0Af_financial_date_gold_7d_to_1y_ae310379%090.0001%09100.0%091.028,%201.0639,%201.0753%09Upgini%09Markets%20data%09Daily%0Af_financial_date_silver_7d_to_7d_1y_shift_55fa8001%090.0001%09100.0%090.7316,%200.8187,%200.7175%09Upgini%09Markets%20data%09Daily%0Af_financial_date_silver_e4e33014%090.0001%09100.0%0918.653,%2017.912,%2017.143%09Upgini%09Markets%20data%09Daily%0Af_financial_date_snp500_7d_to_1y_378b9f99%090.0001%09100.0%091.0726,%201.0693,%201.0716%09Upgini%09Markets%20data%09Daily%0Af_financial_date_stoxx_043cbcd4%090.0001%09100.0%09355.72,%20292.37,%20297.89%09Upgini%09Markets%20data%09Daily%0Af_financial_date_usd_7d_to_1y_9cbe7ef8%090.0001%09100.0%091.0597,%200.9916,%200.9983%09Upgini%09Markets%20data%09Daily%0A'>\n",
              "                    <button>📨 Share</button>\n",
              "                </a>\n",
              "            </div>\n",
              "            <table class='upgini-df'><thead><th>Feature name</th><th>SHAP value</th><th>Coverage %</th><th>Value preview</th><th>Provider</th><th>Source</th><th>Updates</th></thead><tbody><tr><td class='upgini-text'>f_autofe_mul_efd66bbe</td><td class='upgini-number'>0.0754</td><td class='upgini-number'>100.0000</td><td class='upgini-text'>-0.7432, -0.8075, 0.732</td><td class='upgini-text'><a href='https://upgini.com' target='_blank' rel='noopener noreferrer'>Upgini</a></td><td class='upgini-text'>AutoFE: features from <a href='https://upgini.com/#data_sources' target='_blank' rel='noopener noreferrer'>Calendar data</a>,<a href='https://upgini.com/#data_sources' target='_blank' rel='noopener noreferrer'>Markets data</a></td><td class='upgini-text'>Daily</td></tr><tr><td class='upgini-text'>f_autofe_div_09412fe1</td><td class='upgini-number'>0.0290</td><td class='upgini-number'>100.0000</td><td class='upgini-text'>0.1582, -1.1664, 0.2897</td><td class='upgini-text'><a href='https://upgini.com' target='_blank' rel='noopener noreferrer'>Upgini</a></td><td class='upgini-text'>AutoFE: features from <a href='https://upgini.com/#data_sources' target='_blank' rel='noopener noreferrer'>Calendar data</a>,<a href='https://upgini.com/#data_sources' target='_blank' rel='noopener noreferrer'>Markets data</a></td><td class='upgini-text'>Daily</td></tr><tr><td class='upgini-text'>f_autofe_div_89c56a5f</td><td class='upgini-number'>0.0163</td><td class='upgini-number'>100.0000</td><td class='upgini-text'>0.0561, 0.4596, 1.7001</td><td class='upgini-text'><a href='https://upgini.com' target='_blank' rel='noopener noreferrer'>Upgini</a></td><td class='upgini-text'>AutoFE: features from <a href='https://upgini.com/#data_sources' target='_blank' rel='noopener noreferrer'>Calendar data</a>,<a href='https://upgini.com/#data_sources' target='_blank' rel='noopener noreferrer'>Markets data</a></td><td class='upgini-text'>Daily</td></tr><tr><td class='upgini-text'>f_autofe_mul_0cc09d2d</td><td class='upgini-number'>0.0140</td><td class='upgini-number'>100.0000</td><td class='upgini-text'>28.5891, -95.2196, 34.4594</td><td class='upgini-text'><a href='https://upgini.com' target='_blank' rel='noopener noreferrer'>Upgini</a></td><td class='upgini-text'>AutoFE: features from <a href='https://upgini.com/#data_sources' target='_blank' rel='noopener noreferrer'>Calendar data</a>,<a href='https://upgini.com/#data_sources' target='_blank' rel='noopener noreferrer'>Markets data</a></td><td class='upgini-text'>Daily</td></tr><tr><td class='upgini-text'>f_autofe_mul_08e89348</td><td class='upgini-number'>0.0084</td><td class='upgini-number'>100.0000</td><td class='upgini-text'>21.6421, 72.7394, 95.348</td><td class='upgini-text'><a href='https://upgini.com' target='_blank' rel='noopener noreferrer'>Upgini</a></td><td class='upgini-text'>AutoFE: features from <a href='https://upgini.com/#data_sources' target='_blank' rel='noopener noreferrer'>Calendar data</a>,<a href='https://upgini.com/#data_sources' target='_blank' rel='noopener noreferrer'>Markets data</a></td><td class='upgini-text'>Daily</td></tr><tr><td class='upgini-text'>f_autofe_div_0a5adf97</td><td class='upgini-number'>0.0066</td><td class='upgini-number'>100.0000</td><td class='upgini-text'>0.0047, -0.3791, 0.0012</td><td class='upgini-text'><a href='https://upgini.com' target='_blank' rel='noopener noreferrer'>Upgini</a></td><td class='upgini-text'>AutoFE: features from <a href='https://upgini.com/#data_sources' target='_blank' rel='noopener noreferrer'>Calendar data</a>,<a href='https://upgini.com/#data_sources' target='_blank' rel='noopener noreferrer'>Markets data</a></td><td class='upgini-text'>Daily</td></tr><tr><td class='upgini-text'>f_autofe_mul_34d11bc4</td><td class='upgini-number'>0.0034</td><td class='upgini-number'>100.0000</td><td class='upgini-text'>-9.2029, 9.2563, 16.0565</td><td class='upgini-text'><a href='https://upgini.com' target='_blank' rel='noopener noreferrer'>Upgini</a></td><td class='upgini-text'>AutoFE: features from <a href='https://upgini.com/#data_sources' target='_blank' rel='noopener noreferrer'>Calendar data</a>,<a href='https://upgini.com/#data_sources' target='_blank' rel='noopener noreferrer'>Markets data</a></td><td class='upgini-text'>Daily</td></tr><tr><td class='upgini-text'><a href='https://docs.upgini.com/public/calendar/calendar#f_events_date_year_cos1_9014a856' target='_blank' rel='noopener noreferrer'>f_events_date_year_cos1_9014a856</a></td><td class='upgini-number'>0.0030</td><td class='upgini-number'>100.0000</td><td class='upgini-text'>0.815, 0.9751, -0.06</td><td class='upgini-text'><a href='https://upgini.com' target='_blank' rel='noopener noreferrer'>Upgini</a></td><td class='upgini-text'><a href='https://upgini.com/#data_sources' target='_blank' rel='noopener noreferrer'>Calendar data</a></td><td class='upgini-text'>Daily</td></tr><tr><td class='upgini-text'>f_autofe_div_a66c2b64</td><td class='upgini-number'>0.0029</td><td class='upgini-number'>100.0000</td><td class='upgini-text'>0.0004, 0.0002, 0.0002</td><td class='upgini-text'><a href='https://upgini.com' target='_blank' rel='noopener noreferrer'>Upgini</a></td><td class='upgini-text'>AutoFE: features from <a href='https://upgini.com/#data_sources' target='_blank' rel='noopener noreferrer'>Calendar data</a>,<a href='https://upgini.com/#data_sources' target='_blank' rel='noopener noreferrer'>Markets data</a></td><td class='upgini-text'>Daily</td></tr><tr><td class='upgini-text'>f_autofe_div_cf5dd7be</td><td class='upgini-number'>0.0024</td><td class='upgini-number'>100.0000</td><td class='upgini-text'>-0.8845, -0.9689, 0.5683</td><td class='upgini-text'><a href='https://upgini.com' target='_blank' rel='noopener noreferrer'>Upgini</a></td><td class='upgini-text'>AutoFE: features from <a href='https://upgini.com/#data_sources' target='_blank' rel='noopener noreferrer'>Calendar data</a>,<a href='https://upgini.com/#data_sources' target='_blank' rel='noopener noreferrer'>Markets data</a></td><td class='upgini-text'>Daily</td></tr><tr><td class='upgini-text'>f_autofe_div_ba625fe9</td><td class='upgini-number'>0.0023</td><td class='upgini-number'>100.0000</td><td class='upgini-text'>-1.4255, 0.6176, 0.7935</td><td class='upgini-text'><a href='https://upgini.com' target='_blank' rel='noopener noreferrer'>Upgini</a></td><td class='upgini-text'>AutoFE: features from <a href='https://upgini.com/#data_sources' target='_blank' rel='noopener noreferrer'>Calendar data</a></td><td class='upgini-text'>Daily</td></tr><tr><td class='upgini-text'>f_autofe_mul_0afc7563</td><td class='upgini-number'>0.0020</td><td class='upgini-number'>100.0000</td><td class='upgini-text'>-0.1198, 0.4261, 0.4308</td><td class='upgini-text'><a href='https://upgini.com' target='_blank' rel='noopener noreferrer'>Upgini</a></td><td class='upgini-text'>AutoFE: features from <a href='https://upgini.com/#data_sources' target='_blank' rel='noopener noreferrer'>Calendar data</a></td><td class='upgini-text'>Daily</td></tr><tr><td class='upgini-text'>f_autofe_mul_38339fb6</td><td class='upgini-number'>0.0018</td><td class='upgini-number'>100.0000</td><td class='upgini-text'>-0.3428, -0.0685, -0.2897</td><td class='upgini-text'><a href='https://upgini.com' target='_blank' rel='noopener noreferrer'>Upgini</a></td><td class='upgini-text'>AutoFE: features from <a href='https://upgini.com/#data_sources' target='_blank' rel='noopener noreferrer'>Calendar data</a></td><td class='upgini-text'>Daily</td></tr><tr><td class='upgini-text'>f_autofe_div_abde95f5</td><td class='upgini-number'>0.0015</td><td class='upgini-number'>100.0000</td><td class='upgini-text'>1.1096, 0.8273, -1.2512</td><td class='upgini-text'><a href='https://upgini.com' target='_blank' rel='noopener noreferrer'>Upgini</a></td><td class='upgini-text'>AutoFE: features from <a href='https://upgini.com/#data_sources' target='_blank' rel='noopener noreferrer'>Calendar data</a>,<a href='https://upgini.com/#data_sources' target='_blank' rel='noopener noreferrer'>Markets data</a></td><td class='upgini-text'>Daily</td></tr><tr><td class='upgini-text'>f_autofe_mul_5c76b026</td><td class='upgini-number'>0.0013</td><td class='upgini-number'>100.0000</td><td class='upgini-text'>22.6967, 27.1028, 26.557</td><td class='upgini-text'><a href='https://upgini.com' target='_blank' rel='noopener noreferrer'>Upgini</a></td><td class='upgini-text'>AutoFE: features from <a href='https://upgini.com/#data_sources' target='_blank' rel='noopener noreferrer'>Markets data</a></td><td class='upgini-text'>Daily</td></tr><tr><td class='upgini-text'>f_autofe_div_b97cf188</td><td class='upgini-number'>0.0012</td><td class='upgini-number'>85.4664</td><td class='upgini-text'>0.9241, -0.2846, -0.9241</td><td class='upgini-text'><a href='https://upgini.com' target='_blank' rel='noopener noreferrer'>Upgini</a></td><td class='upgini-text'>AutoFE: features from <a href='https://upgini.com/#data_sources' target='_blank' rel='noopener noreferrer'>Calendar data</a></td><td class='upgini-text'>Daily</td></tr><tr><td class='upgini-text'>f_autofe_div_66be9f98</td><td class='upgini-number'>0.0011</td><td class='upgini-number'>100.0000</td><td class='upgini-text'>0.6054, -0.8469, 0.5771</td><td class='upgini-text'><a href='https://upgini.com' target='_blank' rel='noopener noreferrer'>Upgini</a></td><td class='upgini-text'>AutoFE: features from <a href='https://upgini.com/#data_sources' target='_blank' rel='noopener noreferrer'>Calendar data</a>,<a href='https://upgini.com/#data_sources' target='_blank' rel='noopener noreferrer'>Markets data</a></td><td class='upgini-text'>Daily</td></tr><tr><td class='upgini-text'>f_autofe_mul_8a894088</td><td class='upgini-number'>0.0010</td><td class='upgini-number'>100.0000</td><td class='upgini-text'>-0.2219, 0.9409, 0.5844</td><td class='upgini-text'><a href='https://upgini.com' target='_blank' rel='noopener noreferrer'>Upgini</a></td><td class='upgini-text'>AutoFE: features from <a href='https://upgini.com/#data_sources' target='_blank' rel='noopener noreferrer'>Calendar data</a>,<a href='https://upgini.com/#data_sources' target='_blank' rel='noopener noreferrer'>Markets data</a></td><td class='upgini-text'>Daily</td></tr><tr><td class='upgini-text'>f_autofe_div_270d64a2</td><td class='upgini-number'>0.0007</td><td class='upgini-number'>100.0000</td><td class='upgini-text'>-1.0087, -0.8996, -0.795</td><td class='upgini-text'><a href='https://upgini.com' target='_blank' rel='noopener noreferrer'>Upgini</a></td><td class='upgini-text'>AutoFE: features from <a href='https://upgini.com/#data_sources' target='_blank' rel='noopener noreferrer'>Calendar data</a>,<a href='https://upgini.com/#data_sources' target='_blank' rel='noopener noreferrer'>Markets data</a></td><td class='upgini-text'>Daily</td></tr><tr><td class='upgini-text'>f_autofe_div_1d266053</td><td class='upgini-number'>0.0007</td><td class='upgini-number'>100.0000</td><td class='upgini-text'>-0.2589, -0.2777, -0.351</td><td class='upgini-text'><a href='https://upgini.com' target='_blank' rel='noopener noreferrer'>Upgini</a></td><td class='upgini-text'>AutoFE: features from <a href='https://upgini.com/#data_sources' target='_blank' rel='noopener noreferrer'>Calendar data</a>,<a href='https://upgini.com/#data_sources' target='_blank' rel='noopener noreferrer'>Markets data</a></td><td class='upgini-text'>Daily</td></tr><tr><td class='upgini-text'>f_autofe_div_eb5dcaac</td><td class='upgini-number'>0.0006</td><td class='upgini-number'>100.0000</td><td class='upgini-text'>-0.0001, -0.0004, -0.0001</td><td class='upgini-text'><a href='https://upgini.com' target='_blank' rel='noopener noreferrer'>Upgini</a></td><td class='upgini-text'>AutoFE: features from <a href='https://upgini.com/#data_sources' target='_blank' rel='noopener noreferrer'>Calendar data</a>,<a href='https://upgini.com/#data_sources' target='_blank' rel='noopener noreferrer'>Markets data</a></td><td class='upgini-text'>Daily</td></tr><tr><td class='upgini-text'>f_autofe_div_b2cb0ac8</td><td class='upgini-number'>0.0006</td><td class='upgini-number'>100.0000</td><td class='upgini-text'>1503.3976, 1831.0003, 2408.234...</td><td class='upgini-text'><a href='https://upgini.com' target='_blank' rel='noopener noreferrer'>Upgini</a></td><td class='upgini-text'>AutoFE: features from <a href='https://upgini.com/#data_sources' target='_blank' rel='noopener noreferrer'>Markets data</a></td><td class='upgini-text'>Daily</td></tr><tr><td class='upgini-text'>f_autofe_div_3e22df83</td><td class='upgini-number'>0.0006</td><td class='upgini-number'>100.0000</td><td class='upgini-text'>-0.0104, -0.0077, 0.0078</td><td class='upgini-text'><a href='https://upgini.com' target='_blank' rel='noopener noreferrer'>Upgini</a></td><td class='upgini-text'>AutoFE: features from <a href='https://upgini.com/#data_sources' target='_blank' rel='noopener noreferrer'>Calendar data</a>,<a href='https://upgini.com/#data_sources' target='_blank' rel='noopener noreferrer'>Markets data</a></td><td class='upgini-text'>Daily</td></tr><tr><td class='upgini-text'>f_autofe_mul_5feff686</td><td class='upgini-number'>0.0005</td><td class='upgini-number'>100.0000</td><td class='upgini-text'>0.1847, 0.9933, 0.5075</td><td class='upgini-text'><a href='https://upgini.com' target='_blank' rel='noopener noreferrer'>Upgini</a></td><td class='upgini-text'>AutoFE: features from <a href='https://upgini.com/#data_sources' target='_blank' rel='noopener noreferrer'>Calendar data</a></td><td class='upgini-text'>Daily</td></tr><tr><td class='upgini-text'>f_autofe_div_fcee6f90</td><td class='upgini-number'>0.0004</td><td class='upgini-number'>100.0000</td><td class='upgini-text'>0.0004, -0.0005, -0.0001</td><td class='upgini-text'><a href='https://upgini.com' target='_blank' rel='noopener noreferrer'>Upgini</a></td><td class='upgini-text'>AutoFE: features from <a href='https://upgini.com/#data_sources' target='_blank' rel='noopener noreferrer'>Calendar data</a>,<a href='https://upgini.com/#data_sources' target='_blank' rel='noopener noreferrer'>Markets data</a></td><td class='upgini-text'>Daily</td></tr><tr><td class='upgini-text'>f_autofe_mul_0eea013d</td><td class='upgini-number'>0.0002</td><td class='upgini-number'>100.0000</td><td class='upgini-text'>-0.269, -0.2573, -1.0049</td><td class='upgini-text'><a href='https://upgini.com' target='_blank' rel='noopener noreferrer'>Upgini</a></td><td class='upgini-text'>AutoFE: features from <a href='https://upgini.com/#data_sources' target='_blank' rel='noopener noreferrer'>Calendar data</a>,<a href='https://upgini.com/#data_sources' target='_blank' rel='noopener noreferrer'>Markets data</a></td><td class='upgini-text'>Daily</td></tr><tr><td class='upgini-text'>f_autofe_div_50a5dcaf</td><td class='upgini-number'>0.0002</td><td class='upgini-number'>100.0000</td><td class='upgini-text'>0.7693, -0.2608, 0.5493</td><td class='upgini-text'><a href='https://upgini.com' target='_blank' rel='noopener noreferrer'>Upgini</a></td><td class='upgini-text'>AutoFE: features from <a href='https://upgini.com/#data_sources' target='_blank' rel='noopener noreferrer'>Calendar data</a>,<a href='https://upgini.com/#data_sources' target='_blank' rel='noopener noreferrer'>Markets data</a></td><td class='upgini-text'>Daily</td></tr><tr><td class='upgini-text'>f_autofe_mul_4c9c7d0a</td><td class='upgini-number'>0.0002</td><td class='upgini-number'>100.0000</td><td class='upgini-text'>0.809, 0.6878, 0.6851</td><td class='upgini-text'><a href='https://upgini.com' target='_blank' rel='noopener noreferrer'>Upgini</a></td><td class='upgini-text'>AutoFE: features from <a href='https://upgini.com/#data_sources' target='_blank' rel='noopener noreferrer'>Markets data</a></td><td class='upgini-text'>Daily</td></tr><tr><td class='upgini-text'><a href='https://docs.upgini.com/public/economics/cbpol_pca#f_economic_date_cbpol_pca_9_bde660b4' target='_blank' rel='noopener noreferrer'>f_economic_date_cbpol_pca_9_bde660b4</a></td><td class='upgini-number'>0.0002</td><td class='upgini-number'>100.0000</td><td class='upgini-text'>-1.5333, -1.4473, -2.009</td><td class='upgini-text'><a href='https://upgini.com' target='_blank' rel='noopener noreferrer'>Upgini</a></td><td class='upgini-text'><a href='https://upgini.com/#data_sources' target='_blank' rel='noopener noreferrer'>World economic indicators</a></td><td class='upgini-text'>Daily</td></tr><tr><td class='upgini-text'>f_autofe_div_86414197</td><td class='upgini-number'>0.0002</td><td class='upgini-number'>100.0000</td><td class='upgini-text'>-0.1858, -0.9543, -0.2206</td><td class='upgini-text'><a href='https://upgini.com' target='_blank' rel='noopener noreferrer'>Upgini</a></td><td class='upgini-text'>AutoFE: features from <a href='https://upgini.com/#data_sources' target='_blank' rel='noopener noreferrer'>Calendar data</a>,<a href='https://upgini.com/#data_sources' target='_blank' rel='noopener noreferrer'>Markets data</a></td><td class='upgini-text'>Daily</td></tr><tr><td class='upgini-text'><a href='https://docs.upgini.com/public/economics/cbpol_pca#f_economic_date_cbpol_pca_1_31e5f62c' target='_blank' rel='noopener noreferrer'>f_economic_date_cbpol_pca_1_31e5f62c</a></td><td class='upgini-number'>0.0002</td><td class='upgini-number'>100.0000</td><td class='upgini-text'>-3.8726, -3.6936, -3.8123</td><td class='upgini-text'><a href='https://upgini.com' target='_blank' rel='noopener noreferrer'>Upgini</a></td><td class='upgini-text'><a href='https://upgini.com/#data_sources' target='_blank' rel='noopener noreferrer'>World economic indicators</a></td><td class='upgini-text'>Daily</td></tr><tr><td class='upgini-text'>f_autofe_mul_a4d34ac2</td><td class='upgini-number'>0.0001</td><td class='upgini-number'>100.0000</td><td class='upgini-text'>0.1103, 0.6044, 0.106</td><td class='upgini-text'><a href='https://upgini.com' target='_blank' rel='noopener noreferrer'>Upgini</a></td><td class='upgini-text'>AutoFE: features from <a href='https://upgini.com/#data_sources' target='_blank' rel='noopener noreferrer'>Calendar data</a></td><td class='upgini-text'>Daily</td></tr><tr><td class='upgini-text'>f_autofe_div_36a19c14</td><td class='upgini-number'>0.0001</td><td class='upgini-number'>100.0000</td><td class='upgini-text'>-0.9656, -0.9537, 0.6604</td><td class='upgini-text'><a href='https://upgini.com' target='_blank' rel='noopener noreferrer'>Upgini</a></td><td class='upgini-text'>AutoFE: features from <a href='https://upgini.com/#data_sources' target='_blank' rel='noopener noreferrer'>Calendar data</a>,<a href='https://upgini.com/#data_sources' target='_blank' rel='noopener noreferrer'>Markets data</a></td><td class='upgini-text'>Daily</td></tr><tr><td class='upgini-text'>f_autofe_mul_cf094f10</td><td class='upgini-number'>0.0001</td><td class='upgini-number'>100.0000</td><td class='upgini-text'>0.1912, 0.2716, -0.1083</td><td class='upgini-text'><a href='https://upgini.com' target='_blank' rel='noopener noreferrer'>Upgini</a></td><td class='upgini-text'>AutoFE: features from <a href='https://upgini.com/#data_sources' target='_blank' rel='noopener noreferrer'>Calendar data</a></td><td class='upgini-text'>Daily</td></tr><tr><td class='upgini-text'><a href='https://docs.upgini.com/public/economics/cbpol_pca#f_economic_date_cbpol_pca_4_be889d56' target='_blank' rel='noopener noreferrer'>f_economic_date_cbpol_pca_4_be889d56</a></td><td class='upgini-number'>0.0001</td><td class='upgini-number'>100.0000</td><td class='upgini-text'>-2.181, -1.7134, 0.9693</td><td class='upgini-text'><a href='https://upgini.com' target='_blank' rel='noopener noreferrer'>Upgini</a></td><td class='upgini-text'><a href='https://upgini.com/#data_sources' target='_blank' rel='noopener noreferrer'>World economic indicators</a></td><td class='upgini-text'>Daily</td></tr><tr><td class='upgini-text'><a href='https://docs.upgini.com/public/economics/cbpol_pca#f_economic_date_cbpol_pca_5_c87ba63a' target='_blank' rel='noopener noreferrer'>f_economic_date_cbpol_pca_5_c87ba63a</a></td><td class='upgini-number'>0.0001</td><td class='upgini-number'>100.0000</td><td class='upgini-text'>-0.4469, -0.2863, -0.2863</td><td class='upgini-text'><a href='https://upgini.com' target='_blank' rel='noopener noreferrer'>Upgini</a></td><td class='upgini-text'><a href='https://upgini.com/#data_sources' target='_blank' rel='noopener noreferrer'>World economic indicators</a></td><td class='upgini-text'>Daily</td></tr><tr><td class='upgini-text'><a href='https://docs.upgini.com/public/economics/cci_pca#f_economic_date_cci_pca_5_b433b3c8' target='_blank' rel='noopener noreferrer'>f_economic_date_cci_pca_5_b433b3c8</a></td><td class='upgini-number'>0.0001</td><td class='upgini-number'>100.0000</td><td class='upgini-text'>-3.1903, 2.4189, 0.2387</td><td class='upgini-text'><a href='https://upgini.com' target='_blank' rel='noopener noreferrer'>Upgini</a></td><td class='upgini-text'><a href='https://upgini.com/#data_sources' target='_blank' rel='noopener noreferrer'>World economic indicators</a></td><td class='upgini-text'>Daily</td></tr><tr><td class='upgini-text'><a href='https://docs.upgini.com/public/economics/cci_pca#f_economic_date_cci_pca_8_54959a61' target='_blank' rel='noopener noreferrer'>f_economic_date_cci_pca_8_54959a61</a></td><td class='upgini-number'>0.0001</td><td class='upgini-number'>100.0000</td><td class='upgini-text'>-1.7661, -2.0546, -1.6966</td><td class='upgini-text'><a href='https://upgini.com' target='_blank' rel='noopener noreferrer'>Upgini</a></td><td class='upgini-text'><a href='https://upgini.com/#data_sources' target='_blank' rel='noopener noreferrer'>World economic indicators</a></td><td class='upgini-text'>Daily</td></tr><tr><td class='upgini-text'><a href='https://docs.upgini.com/public/economics/cpi_umap#f_economic_date_cpi_umap_7_20d961e2' target='_blank' rel='noopener noreferrer'>f_economic_date_cpi_umap_7_20d961e2</a></td><td class='upgini-number'>0.0001</td><td class='upgini-number'>100.0000</td><td class='upgini-text'>5.1283, 1.8864, 9.5536</td><td class='upgini-text'><a href='https://upgini.com' target='_blank' rel='noopener noreferrer'>Upgini</a></td><td class='upgini-text'><a href='https://upgini.com/#data_sources' target='_blank' rel='noopener noreferrer'>World economic indicators</a></td><td class='upgini-text'>Daily</td></tr><tr><td class='upgini-text'><a href='https://docs.upgini.com/public/economics/cpi_umap#f_economic_date_cpi_umap_9_b7d42666' target='_blank' rel='noopener noreferrer'>f_economic_date_cpi_umap_9_b7d42666</a></td><td class='upgini-number'>0.0001</td><td class='upgini-number'>100.0000</td><td class='upgini-text'>5.2326, 9.4196, -0.0013</td><td class='upgini-text'><a href='https://upgini.com' target='_blank' rel='noopener noreferrer'>Upgini</a></td><td class='upgini-text'><a href='https://upgini.com/#data_sources' target='_blank' rel='noopener noreferrer'>World economic indicators</a></td><td class='upgini-text'>Daily</td></tr><tr><td class='upgini-text'><a href='https://docs.upgini.com/public/calendar/calendar#f_events_date_week_sin1_847b5db1' target='_blank' rel='noopener noreferrer'>f_events_date_week_sin1_847b5db1</a></td><td class='upgini-number'>0.0001</td><td class='upgini-number'>100.0000</td><td class='upgini-text'>-0.7818, -0.4339, 0.9749</td><td class='upgini-text'><a href='https://upgini.com' target='_blank' rel='noopener noreferrer'>Upgini</a></td><td class='upgini-text'><a href='https://upgini.com/#data_sources' target='_blank' rel='noopener noreferrer'>Calendar data</a></td><td class='upgini-text'>Daily</td></tr><tr><td class='upgini-text'><a href='https://docs.upgini.com/public/calendar/calendar#f_events_date_week_sin2_e28440a5' target='_blank' rel='noopener noreferrer'>f_events_date_week_sin2_e28440a5</a></td><td class='upgini-number'>0.0001</td><td class='upgini-number'>100.0000</td><td class='upgini-text'>-0.7818, 0.4339, 0.0</td><td class='upgini-text'><a href='https://upgini.com' target='_blank' rel='noopener noreferrer'>Upgini</a></td><td class='upgini-text'><a href='https://upgini.com/#data_sources' target='_blank' rel='noopener noreferrer'>Calendar data</a></td><td class='upgini-text'>Daily</td></tr><tr><td class='upgini-text'><a href='https://docs.upgini.com/public/calendar/calendar#f_events_date_year_cos2_7acbaf1b' target='_blank' rel='noopener noreferrer'>f_events_date_year_cos2_7acbaf1b</a></td><td class='upgini-number'>0.0001</td><td class='upgini-number'>100.0000</td><td class='upgini-text'>0.7498, -0.0086, 0.9713</td><td class='upgini-text'><a href='https://upgini.com' target='_blank' rel='noopener noreferrer'>Upgini</a></td><td class='upgini-text'><a href='https://upgini.com/#data_sources' target='_blank' rel='noopener noreferrer'>Calendar data</a></td><td class='upgini-text'>Daily</td></tr><tr><td class='upgini-text'><a href='https://docs.upgini.com/public/calendar/calendar#f_events_date_year_sin3_e4c1ec0e' target='_blank' rel='noopener noreferrer'>f_events_date_year_sin3_e4c1ec0e</a></td><td class='upgini-number'>0.0001</td><td class='upgini-number'>100.0000</td><td class='upgini-text'>0.6995, -0.4005, -0.8827</td><td class='upgini-text'><a href='https://upgini.com' target='_blank' rel='noopener noreferrer'>Upgini</a></td><td class='upgini-text'><a href='https://upgini.com/#data_sources' target='_blank' rel='noopener noreferrer'>Calendar data</a></td><td class='upgini-text'>Daily</td></tr><tr><td class='upgini-text'><a href='https://docs.upgini.com/public/markets/finance#f_financial_date_crude_oil_1f195998' target='_blank' rel='noopener noreferrer'>f_financial_date_crude_oil_1f195998</a></td><td class='upgini-number'>0.0001</td><td class='upgini-number'>100.0000</td><td class='upgini-text'>57.14, 41.85, 47.85</td><td class='upgini-text'><a href='https://upgini.com' target='_blank' rel='noopener noreferrer'>Upgini</a></td><td class='upgini-text'><a href='https://upgini.com/#data_sources' target='_blank' rel='noopener noreferrer'>Markets data</a></td><td class='upgini-text'>Daily</td></tr><tr><td class='upgini-text'><a href='https://docs.upgini.com/public/markets/finance#f_financial_date_crude_oil_7d_to_1y_c3e0ad17' target='_blank' rel='noopener noreferrer'>f_financial_date_crude_oil_7d_to_1y_c3e0ad17</a></td><td class='upgini-number'>0.0001</td><td class='upgini-number'>100.0000</td><td class='upgini-text'>1.0007, 0.863, 1.1537</td><td class='upgini-text'><a href='https://upgini.com' target='_blank' rel='noopener noreferrer'>Upgini</a></td><td class='upgini-text'><a href='https://upgini.com/#data_sources' target='_blank' rel='noopener noreferrer'>Markets data</a></td><td class='upgini-text'>Daily</td></tr><tr><td class='upgini-text'><a href='https://docs.upgini.com/public/markets/finance#f_financial_date_gold_7d_to_1y_ae310379' target='_blank' rel='noopener noreferrer'>f_financial_date_gold_7d_to_1y_ae310379</a></td><td class='upgini-number'>0.0001</td><td class='upgini-number'>100.0000</td><td class='upgini-text'>1.028, 1.0639, 1.0753</td><td class='upgini-text'><a href='https://upgini.com' target='_blank' rel='noopener noreferrer'>Upgini</a></td><td class='upgini-text'><a href='https://upgini.com/#data_sources' target='_blank' rel='noopener noreferrer'>Markets data</a></td><td class='upgini-text'>Daily</td></tr><tr><td class='upgini-text'><a href='https://docs.upgini.com/public/markets/finance#f_financial_date_silver_7d_to_7d_1y_shift_55fa8001' target='_blank' rel='noopener noreferrer'>f_financial_date_silver_7d_to_7d_1y_shift_55fa8001</a></td><td class='upgini-number'>0.0001</td><td class='upgini-number'>100.0000</td><td class='upgini-text'>0.7316, 0.8187, 0.7175</td><td class='upgini-text'><a href='https://upgini.com' target='_blank' rel='noopener noreferrer'>Upgini</a></td><td class='upgini-text'><a href='https://upgini.com/#data_sources' target='_blank' rel='noopener noreferrer'>Markets data</a></td><td class='upgini-text'>Daily</td></tr><tr><td class='upgini-text'><a href='https://docs.upgini.com/public/markets/finance#f_financial_date_silver_e4e33014' target='_blank' rel='noopener noreferrer'>f_financial_date_silver_e4e33014</a></td><td class='upgini-number'>0.0001</td><td class='upgini-number'>100.0000</td><td class='upgini-text'>18.653, 17.912, 17.143</td><td class='upgini-text'><a href='https://upgini.com' target='_blank' rel='noopener noreferrer'>Upgini</a></td><td class='upgini-text'><a href='https://upgini.com/#data_sources' target='_blank' rel='noopener noreferrer'>Markets data</a></td><td class='upgini-text'>Daily</td></tr><tr><td class='upgini-text'><a href='https://docs.upgini.com/public/markets/finance#f_financial_date_snp500_7d_to_1y_378b9f99' target='_blank' rel='noopener noreferrer'>f_financial_date_snp500_7d_to_1y_378b9f99</a></td><td class='upgini-number'>0.0001</td><td class='upgini-number'>100.0000</td><td class='upgini-text'>1.0726, 1.0693, 1.0716</td><td class='upgini-text'><a href='https://upgini.com' target='_blank' rel='noopener noreferrer'>Upgini</a></td><td class='upgini-text'><a href='https://upgini.com/#data_sources' target='_blank' rel='noopener noreferrer'>Markets data</a></td><td class='upgini-text'>Daily</td></tr><tr><td class='upgini-text'><a href='https://docs.upgini.com/public/markets/finance#f_financial_date_stoxx_043cbcd4' target='_blank' rel='noopener noreferrer'>f_financial_date_stoxx_043cbcd4</a></td><td class='upgini-number'>0.0001</td><td class='upgini-number'>100.0000</td><td class='upgini-text'>355.72, 292.37, 297.89</td><td class='upgini-text'><a href='https://upgini.com' target='_blank' rel='noopener noreferrer'>Upgini</a></td><td class='upgini-text'><a href='https://upgini.com/#data_sources' target='_blank' rel='noopener noreferrer'>Markets data</a></td><td class='upgini-text'>Daily</td></tr><tr><td class='upgini-text'><a href='https://docs.upgini.com/public/markets/finance#f_financial_date_usd_7d_to_1y_9cbe7ef8' target='_blank' rel='noopener noreferrer'>f_financial_date_usd_7d_to_1y_9cbe7ef8</a></td><td class='upgini-number'>0.0001</td><td class='upgini-number'>100.0000</td><td class='upgini-text'>1.0597, 0.9916, 0.9983</td><td class='upgini-text'><a href='https://upgini.com' target='_blank' rel='noopener noreferrer'>Upgini</a></td><td class='upgini-text'><a href='https://upgini.com/#data_sources' target='_blank' rel='noopener noreferrer'>Markets data</a></td><td class='upgini-text'>Daily</td></tr></tbody></table>\n",
              "        </div>\n",
              "        "
            ]
          },
          "metadata": {}
        },
        {
          "output_type": "display_data",
          "data": {
            "text/plain": [
              "<IPython.core.display.HTML object>"
            ],
            "text/html": [
              "<style>\n",
              "            .upgini-df thead th {\n",
              "                font-weight:bold;\n",
              "                text-align: center;\n",
              "                padding: 0.5em;\n",
              "                border-bottom: 2px solid black;\n",
              "            }\n",
              "\n",
              "            .upgini-df tbody td {\n",
              "                padding: 0.5em;\n",
              "            }\n",
              "\n",
              "            .upgini-df tbody tr:nth-child(odd) {\n",
              "                background-color: #ffffff;\n",
              "            }\n",
              "\n",
              "            .upgini-df tbody tr:nth-child(even) {\n",
              "                background-color: #f2f2f2;\n",
              "            }\n",
              "\n",
              "            .upgini-text {\n",
              "                text-align: left;\n",
              "            }\n",
              "\n",
              "            .upgini-number {\n",
              "                text-align: center;\n",
              "            }\n",
              "        </style>\n",
              "        <h2>Relevant data sources</h2>\n",
              "        <div style=\"display:flex; flex-direction:column; align-items:flex-end; width: fit-content;\">\n",
              "            \n",
              "            <div style=\"text-align: right\">\n",
              "                <button onclick=navigator.clipboard.writeText(decodeURI('Provider%09Source%09All%20features%20SHAP%09Number%20of%20relevant%20features%0AUpgini%09AutoFE%3A%20features%20from%20%3Ca%20href%3D%27https%3A%2F%2Fupgini.com%2F%23data_sources%27%20target%3D%27_blank%27%20rel%3D%27noopener%20noreferrer%27%3ECalendar%20data%3C%2Fa%3E,%3Ca%20href%3D%27https%3A%2F%2Fupgini.com%2F%23data_sources%27%20target%3D%27_blank%27%20rel%3D%27noopener%20noreferrer%27%3EMarkets%20data%3C%2Fa%3E%090.1657%0921%0AUpgini%09AutoFE%3A%20features%20from%20%3Ca%20href%3D%27https%3A%2F%2Fupgini.com%2F%23data_sources%27%20target%3D%27_blank%27%20rel%3D%27noopener%20noreferrer%27%3ECalendar%20data%3C%2Fa%3E%090.008%097%0AUpgini%09Calendar%20data%090.0034000000000000002%095%0AUpgini%09AutoFE%3A%20features%20from%20%3Ca%20href%3D%27https%3A%2F%2Fupgini.com%2F%23data_sources%27%20target%3D%27_blank%27%20rel%3D%27noopener%20noreferrer%27%3EMarkets%20data%3C%2Fa%3E%090.0021%093%0AUpgini%09World%20economic%20indicators%090.001%098%0AUpgini%09Markets%20data%090.0008%098%0A'))>📂 Copy</button>\n",
              "                <a href='mailto:<Share with...>?subject=Relevant external data sources from Upgini.com&body=Provider%09Source%09All%20features%20SHAP%09Number%20of%20relevant%20features%0AUpgini%09AutoFE%3A%20features%20from%20%3Ca%20href%3D%27https%3A%2F%2Fupgini.com%2F%23data_sources%27%20target%3D%27_blank%27%20rel%3D%27noopener%20noreferrer%27%3ECalendar%20data%3C%2Fa%3E,%3Ca%20href%3D%27https%3A%2F%2Fupgini.com%2F%23data_sources%27%20target%3D%27_blank%27%20rel%3D%27noopener%20noreferrer%27%3EMarkets%20data%3C%2Fa%3E%090.1657%0921%0AUpgini%09AutoFE%3A%20features%20from%20%3Ca%20href%3D%27https%3A%2F%2Fupgini.com%2F%23data_sources%27%20target%3D%27_blank%27%20rel%3D%27noopener%20noreferrer%27%3ECalendar%20data%3C%2Fa%3E%090.008%097%0AUpgini%09Calendar%20data%090.0034000000000000002%095%0AUpgini%09AutoFE%3A%20features%20from%20%3Ca%20href%3D%27https%3A%2F%2Fupgini.com%2F%23data_sources%27%20target%3D%27_blank%27%20rel%3D%27noopener%20noreferrer%27%3EMarkets%20data%3C%2Fa%3E%090.0021%093%0AUpgini%09World%20economic%20indicators%090.001%098%0AUpgini%09Markets%20data%090.0008%098%0A'>\n",
              "                    <button>📨 Share</button>\n",
              "                </a>\n",
              "            </div>\n",
              "            <table class='upgini-df'><thead><th>Provider</th><th>Source</th><th>All features SHAP</th><th>Number of relevant features</th></thead><tbody><tr><td class='upgini-text'><a href='https://upgini.com' target='_blank' rel='noopener noreferrer'>Upgini</a></td><td class='upgini-text'>AutoFE: features from <a href='https://upgini.com/#data_sources' target='_blank' rel='noopener noreferrer'>Calendar data</a>,<a href='https://upgini.com/#data_sources' target='_blank' rel='noopener noreferrer'>Markets data</a></td><td class='upgini-number'>0.1657</td><td class='upgini-number'>21</td></tr><tr><td class='upgini-text'><a href='https://upgini.com' target='_blank' rel='noopener noreferrer'>Upgini</a></td><td class='upgini-text'>AutoFE: features from <a href='https://upgini.com/#data_sources' target='_blank' rel='noopener noreferrer'>Calendar data</a></td><td class='upgini-number'>0.0080</td><td class='upgini-number'>7</td></tr><tr><td class='upgini-text'><a href='https://upgini.com' target='_blank' rel='noopener noreferrer'>Upgini</a></td><td class='upgini-text'><a href='https://upgini.com/#data_sources' target='_blank' rel='noopener noreferrer'>Calendar data</a></td><td class='upgini-number'>0.0034</td><td class='upgini-number'>5</td></tr><tr><td class='upgini-text'><a href='https://upgini.com' target='_blank' rel='noopener noreferrer'>Upgini</a></td><td class='upgini-text'>AutoFE: features from <a href='https://upgini.com/#data_sources' target='_blank' rel='noopener noreferrer'>Markets data</a></td><td class='upgini-number'>0.0021</td><td class='upgini-number'>3</td></tr><tr><td class='upgini-text'><a href='https://upgini.com' target='_blank' rel='noopener noreferrer'>Upgini</a></td><td class='upgini-text'><a href='https://upgini.com/#data_sources' target='_blank' rel='noopener noreferrer'>World economic indicators</a></td><td class='upgini-number'>0.0010</td><td class='upgini-number'>8</td></tr><tr><td class='upgini-text'><a href='https://upgini.com' target='_blank' rel='noopener noreferrer'>Upgini</a></td><td class='upgini-text'><a href='https://upgini.com/#data_sources' target='_blank' rel='noopener noreferrer'>Markets data</a></td><td class='upgini-number'>0.0008</td><td class='upgini-number'>8</td></tr></tbody></table>\n",
              "        </div>\n",
              "        "
            ]
          },
          "metadata": {}
        },
        {
          "output_type": "display_data",
          "data": {
            "text/plain": [
              "<IPython.core.display.HTML object>"
            ],
            "text/html": [
              "<style>\n",
              "            .upgini-df thead th {\n",
              "                font-weight:bold;\n",
              "                text-align: center;\n",
              "                padding: 0.5em;\n",
              "                border-bottom: 2px solid black;\n",
              "            }\n",
              "\n",
              "            .upgini-df tbody td {\n",
              "                padding: 0.5em;\n",
              "            }\n",
              "\n",
              "            .upgini-df tbody tr:nth-child(odd) {\n",
              "                background-color: #ffffff;\n",
              "            }\n",
              "\n",
              "            .upgini-df tbody tr:nth-child(even) {\n",
              "                background-color: #f2f2f2;\n",
              "            }\n",
              "\n",
              "            .upgini-text {\n",
              "                text-align: left;\n",
              "            }\n",
              "\n",
              "            .upgini-number {\n",
              "                text-align: center;\n",
              "            }\n",
              "        </style>\n",
              "        <h2>*Description of AutoFE feature names</h2>\n",
              "        <div style=\"display:flex; flex-direction:column; align-items:flex-end; width: fit-content;\">\n",
              "            \n",
              "            <div style=\"text-align: right\">\n",
              "                <button onclick=navigator.clipboard.writeText(decodeURI('Sources%09Feature%20name%09Feature%201%09Feature%202%09Function%0A%3Ca%20href%3D%27https%3A%2F%2Fupgini.com%2F%23data_sources%27%20target%3D%27_blank%27%20rel%3D%27noopener%20noreferrer%27%3ECalendar%20data%3C%2Fa%3E,%3Ca%20href%3D%27https%3A%2F%2Fupgini.com%2F%23data_sources%27%20target%3D%27_blank%27%20rel%3D%27noopener%20noreferrer%27%3EMarkets%20data%3C%2Fa%3E%09f_autofe_mul_efd66bbe%09f_events_date_year_cos1_9014a856%09f_financial_date_vix_7d_to_1y_634c77eb%09%2A%0A%3Ca%20href%3D%27https%3A%2F%2Fupgini.com%2F%23data_sources%27%20target%3D%27_blank%27%20rel%3D%27noopener%20noreferrer%27%3ECalendar%20data%3C%2Fa%3E,%3Ca%20href%3D%27https%3A%2F%2Fupgini.com%2F%23data_sources%27%20target%3D%27_blank%27%20rel%3D%27noopener%20noreferrer%27%3EMarkets%20data%3C%2Fa%3E%09f_autofe_div_09412fe1%09f_events_date_year_cos1_9014a856%09f_financial_date_vix_7d_to_1y_634c77eb%09%2F%0A%3Ca%20href%3D%27https%3A%2F%2Fupgini.com%2F%23data_sources%27%20target%3D%27_blank%27%20rel%3D%27noopener%20noreferrer%27%3ECalendar%20data%3C%2Fa%3E,%3Ca%20href%3D%27https%3A%2F%2Fupgini.com%2F%23data_sources%27%20target%3D%27_blank%27%20rel%3D%27noopener%20noreferrer%27%3EMarkets%20data%3C%2Fa%3E%09f_autofe_div_89c56a5f%09f_events_date_year_cos1_9014a856%09f_financial_date_natural_gas_7d_to_7d_1y_shift_a5c3c07f%09%2F%0A%3Ca%20href%3D%27https%3A%2F%2Fupgini.com%2F%23data_sources%27%20target%3D%27_blank%27%20rel%3D%27noopener%20noreferrer%27%3ECalendar%20data%3C%2Fa%3E,%3Ca%20href%3D%27https%3A%2F%2Fupgini.com%2F%23data_sources%27%20target%3D%27_blank%27%20rel%3D%27noopener%20noreferrer%27%3EMarkets%20data%3C%2Fa%3E%09f_autofe_mul_0cc09d2d%09f_events_date_year_cos1_9014a856%09f_financial_date_crude_oil_1f195998%09%2A%0A%3Ca%20href%3D%27https%3A%2F%2Fupgini.com%2F%23data_sources%27%20target%3D%27_blank%27%20rel%3D%27noopener%20noreferrer%27%3ECalendar%20data%3C%2Fa%3E,%3Ca%20href%3D%27https%3A%2F%2Fupgini.com%2F%23data_sources%27%20target%3D%27_blank%27%20rel%3D%27noopener%20noreferrer%27%3EMarkets%20data%3C%2Fa%3E%09f_autofe_mul_08e89348%09f_events_date_week_sin1_847b5db1%09f_financial_date_crude_oil_1f195998%09%2A%0A%3Ca%20href%3D%27https%3A%2F%2Fupgini.com%2F%23data_sources%27%20target%3D%27_blank%27%20rel%3D%27noopener%20noreferrer%27%3ECalendar%20data%3C%2Fa%3E,%3Ca%20href%3D%27https%3A%2F%2Fupgini.com%2F%23data_sources%27%20target%3D%27_blank%27%20rel%3D%27noopener%20noreferrer%27%3EMarkets%20data%3C%2Fa%3E%09f_autofe_div_0a5adf97%09f_events_date_year_cos1_9014a856%09f_financial_date_natural_gas_92dac942%09%2F%0A%3Ca%20href%3D%27https%3A%2F%2Fupgini.com%2F%23data_sources%27%20target%3D%27_blank%27%20rel%3D%27noopener%20noreferrer%27%3ECalendar%20data%3C%2Fa%3E,%3Ca%20href%3D%27https%3A%2F%2Fupgini.com%2F%23data_sources%27%20target%3D%27_blank%27%20rel%3D%27noopener%20noreferrer%27%3EMarkets%20data%3C%2Fa%3E%09f_autofe_mul_34d11bc4%09f_events_date_year_cos1_9014a856%09f_financial_date_silver_e4e33014%09%2A%0A%3Ca%20href%3D%27https%3A%2F%2Fupgini.com%2F%23data_sources%27%20target%3D%27_blank%27%20rel%3D%27noopener%20noreferrer%27%3ECalendar%20data%3C%2Fa%3E,%3Ca%20href%3D%27https%3A%2F%2Fupgini.com%2F%23data_sources%27%20target%3D%27_blank%27%20rel%3D%27noopener%20noreferrer%27%3EMarkets%20data%3C%2Fa%3E%09f_autofe_div_a66c2b64%09f_events_date_week_sin1_847b5db1%09f_financial_date_snp500_fdb64447%09%2F%0A%3Ca%20href%3D%27https%3A%2F%2Fupgini.com%2F%23data_sources%27%20target%3D%27_blank%27%20rel%3D%27noopener%20noreferrer%27%3ECalendar%20data%3C%2Fa%3E,%3Ca%20href%3D%27https%3A%2F%2Fupgini.com%2F%23data_sources%27%20target%3D%27_blank%27%20rel%3D%27noopener%20noreferrer%27%3EMarkets%20data%3C%2Fa%3E%09f_autofe_div_cf5dd7be%09f_events_date_week_sin1_847b5db1%09f_financial_date_vix_7d_to_1y_634c77eb%09%2F%0A%3Ca%20href%3D%27https%3A%2F%2Fupgini.com%2F%23data_sources%27%20target%3D%27_blank%27%20rel%3D%27noopener%20noreferrer%27%3ECalendar%20data%3C%2Fa%3E%09f_autofe_div_ba625fe9%09f_events_date_week_sin1_847b5db1%09f_events_date_year_cos1_9014a856%09%2F%0A%3Ca%20href%3D%27https%3A%2F%2Fupgini.com%2F%23data_sources%27%20target%3D%27_blank%27%20rel%3D%27noopener%20noreferrer%27%3ECalendar%20data%3C%2Fa%3E%09f_autofe_mul_0afc7563%09f_events_date_week_sin1_847b5db1%09f_events_date_year_cos1_9014a856%09%2A%0A%3Ca%20href%3D%27https%3A%2F%2Fupgini.com%2F%23data_sources%27%20target%3D%27_blank%27%20rel%3D%27noopener%20noreferrer%27%3ECalendar%20data%3C%2Fa%3E%09f_autofe_mul_38339fb6%09f_events_date_year_cos1_9014a856%09f_events_date_year_sin1_3c44bc64%09%2A%0A%3Ca%20href%3D%27https%3A%2F%2Fupgini.com%2F%23data_sources%27%20target%3D%27_blank%27%20rel%3D%27noopener%20noreferrer%27%3ECalendar%20data%3C%2Fa%3E,%3Ca%20href%3D%27https%3A%2F%2Fupgini.com%2F%23data_sources%27%20target%3D%27_blank%27%20rel%3D%27noopener%20noreferrer%27%3EMarkets%20data%3C%2Fa%3E%09f_autofe_div_abde95f5%09f_events_date_week_cos2_b0a07cfc%09f_financial_date_silver_7d_to_7d_1y_shift_55fa8001%09%2F%0A%3Ca%20href%3D%27https%3A%2F%2Fupgini.com%2F%23data_sources%27%20target%3D%27_blank%27%20rel%3D%27noopener%20noreferrer%27%3EMarkets%20data%3C%2Fa%3E%09f_autofe_mul_5c76b026%09f_financial_date_natural_gas_7d_to_7d_1y_shift_a5c3c07f%09f_financial_date_silver_e4e33014%09%2A%0A%3Ca%20href%3D%27https%3A%2F%2Fupgini.com%2F%23data_sources%27%20target%3D%27_blank%27%20rel%3D%27noopener%20noreferrer%27%3ECalendar%20data%3C%2Fa%3E%09f_autofe_div_b97cf188%09f_events_date_week_cos3_7525fe31%09f_events_date_week_sin2_e28440a5%09%2F%0A%3Ca%20href%3D%27https%3A%2F%2Fupgini.com%2F%23data_sources%27%20target%3D%27_blank%27%20rel%3D%27noopener%20noreferrer%27%3ECalendar%20data%3C%2Fa%3E,%3Ca%20href%3D%27https%3A%2F%2Fupgini.com%2F%23data_sources%27%20target%3D%27_blank%27%20rel%3D%27noopener%20noreferrer%27%3EMarkets%20data%3C%2Fa%3E%09f_autofe_div_66be9f98%09f_events_date_week_cos3_7525fe31%09f_financial_date_snp500_7d_to_1y_378b9f99%09%2F%0A%3Ca%20href%3D%27https%3A%2F%2Fupgini.com%2F%23data_sources%27%20target%3D%27_blank%27%20rel%3D%27noopener%20noreferrer%27%3ECalendar%20data%3C%2Fa%3E,%3Ca%20href%3D%27https%3A%2F%2Fupgini.com%2F%23data_sources%27%20target%3D%27_blank%27%20rel%3D%27noopener%20noreferrer%27%3EMarkets%20data%3C%2Fa%3E%09f_autofe_mul_8a894088%09f_events_date_week_cos3_7525fe31%09f_financial_date_usd_eur_7d_to_7d_1y_shift_05302176%09%2A%0A%3Ca%20href%3D%27https%3A%2F%2Fupgini.com%2F%23data_sources%27%20target%3D%27_blank%27%20rel%3D%27noopener%20noreferrer%27%3ECalendar%20data%3C%2Fa%3E,%3Ca%20href%3D%27https%3A%2F%2Fupgini.com%2F%23data_sources%27%20target%3D%27_blank%27%20rel%3D%27noopener%20noreferrer%27%3EMarkets%20data%3C%2Fa%3E%09f_autofe_div_270d64a2%09f_events_date_week_cos1_f6a8c1fc%09f_financial_date_crude_oil_7d_to_1y_c3e0ad17%09%2F%0A%3Ca%20href%3D%27https%3A%2F%2Fupgini.com%2F%23data_sources%27%20target%3D%27_blank%27%20rel%3D%27noopener%20noreferrer%27%3ECalendar%20data%3C%2Fa%3E,%3Ca%20href%3D%27https%3A%2F%2Fupgini.com%2F%23data_sources%27%20target%3D%27_blank%27%20rel%3D%27noopener%20noreferrer%27%3EMarkets%20data%3C%2Fa%3E%09f_autofe_div_1d266053%09f_events_date_week_cos3_7525fe31%09f_financial_date_crude_oil_7d_to_1y_c3e0ad17%09%2F%0A%3Ca%20href%3D%27https%3A%2F%2Fupgini.com%2F%23data_sources%27%20target%3D%27_blank%27%20rel%3D%27noopener%20noreferrer%27%3ECalendar%20data%3C%2Fa%3E,%3Ca%20href%3D%27https%3A%2F%2Fupgini.com%2F%23data_sources%27%20target%3D%27_blank%27%20rel%3D%27noopener%20noreferrer%27%3EMarkets%20data%3C%2Fa%3E%09f_autofe_div_eb5dcaac%09f_events_date_week_cos3_7525fe31%09f_financial_date_snp500_fdb64447%09%2F%0A%3Ca%20href%3D%27https%3A%2F%2Fupgini.com%2F%23data_sources%27%20target%3D%27_blank%27%20rel%3D%27noopener%20noreferrer%27%3EMarkets%20data%3C%2Fa%3E%09f_autofe_div_b2cb0ac8%09f_financial_date_snp500_fdb64447%09f_financial_date_usd_eur_7d_to_7d_1y_shift_05302176%09%2F%0A%3Ca%20href%3D%27https%3A%2F%2Fupgini.com%2F%23data_sources%27%20target%3D%27_blank%27%20rel%3D%27noopener%20noreferrer%27%3ECalendar%20data%3C%2Fa%3E,%3Ca%20href%3D%27https%3A%2F%2Fupgini.com%2F%23data_sources%27%20target%3D%27_blank%27%20rel%3D%27noopener%20noreferrer%27%3EMarkets%20data%3C%2Fa%3E%09f_autofe_div_3e22df83%09f_events_date_week_sin1_847b5db1%09f_financial_date_crude_oil_1f195998%09%2F%0A%3Ca%20href%3D%27https%3A%2F%2Fupgini.com%2F%23data_sources%27%20target%3D%27_blank%27%20rel%3D%27noopener%20noreferrer%27%3ECalendar%20data%3C%2Fa%3E%09f_autofe_mul_5feff686%09f_events_date_year_cos1_9014a856%09f_events_date_year_cos2_7acbaf1b%09%2A%0A%3Ca%20href%3D%27https%3A%2F%2Fupgini.com%2F%23data_sources%27%20target%3D%27_blank%27%20rel%3D%27noopener%20noreferrer%27%3ECalendar%20data%3C%2Fa%3E,%3Ca%20href%3D%27https%3A%2F%2Fupgini.com%2F%23data_sources%27%20target%3D%27_blank%27%20rel%3D%27noopener%20noreferrer%27%3EMarkets%20data%3C%2Fa%3E%09f_autofe_div_fcee6f90%09f_events_date_week_cos1_f6a8c1fc%09f_financial_date_snp500_fdb64447%09%2F%0A%3Ca%20href%3D%27https%3A%2F%2Fupgini.com%2F%23data_sources%27%20target%3D%27_blank%27%20rel%3D%27noopener%20noreferrer%27%3ECalendar%20data%3C%2Fa%3E,%3Ca%20href%3D%27https%3A%2F%2Fupgini.com%2F%23data_sources%27%20target%3D%27_blank%27%20rel%3D%27noopener%20noreferrer%27%3EMarkets%20data%3C%2Fa%3E%09f_autofe_mul_0eea013d%09f_events_date_week_cos3_7525fe31%09f_financial_date_stoxx_7d_to_7d_1y_shift_abef6e91%09%2A%0A%3Ca%20href%3D%27https%3A%2F%2Fupgini.com%2F%23data_sources%27%20target%3D%27_blank%27%20rel%3D%27noopener%20noreferrer%27%3ECalendar%20data%3C%2Fa%3E,%3Ca%20href%3D%27https%3A%2F%2Fupgini.com%2F%23data_sources%27%20target%3D%27_blank%27%20rel%3D%27noopener%20noreferrer%27%3EMarkets%20data%3C%2Fa%3E%09f_autofe_div_50a5dcaf%09f_events_date_week_cos3_7525fe31%09f_financial_date_silver_7d_to_7d_1y_shift_55fa8001%09%2F%0A%3Ca%20href%3D%27https%3A%2F%2Fupgini.com%2F%23data_sources%27%20target%3D%27_blank%27%20rel%3D%27noopener%20noreferrer%27%3EMarkets%20data%3C%2Fa%3E%09f_autofe_mul_4c9c7d0a%09f_financial_date_natural_gas_7d_to_1y_7a6f300d%09f_financial_date_silver_7d_to_7d_1y_shift_55fa8001%09%2A%0A%3Ca%20href%3D%27https%3A%2F%2Fupgini.com%2F%23data_sources%27%20target%3D%27_blank%27%20rel%3D%27noopener%20noreferrer%27%3ECalendar%20data%3C%2Fa%3E,%3Ca%20href%3D%27https%3A%2F%2Fupgini.com%2F%23data_sources%27%20target%3D%27_blank%27%20rel%3D%27noopener%20noreferrer%27%3EMarkets%20data%3C%2Fa%3E%09f_autofe_div_86414197%09f_events_date_week_cos2_b0a07cfc%09f_financial_date_usd_eur_7d_to_7d_1y_shift_05302176%09%2F%0A%3Ca%20href%3D%27https%3A%2F%2Fupgini.com%2F%23data_sources%27%20target%3D%27_blank%27%20rel%3D%27noopener%20noreferrer%27%3ECalendar%20data%3C%2Fa%3E%09f_autofe_mul_a4d34ac2%09f_events_date_year_cos5_59183b20%09f_events_date_year_sin1_3c44bc64%09%2A%0A%3Ca%20href%3D%27https%3A%2F%2Fupgini.com%2F%23data_sources%27%20target%3D%27_blank%27%20rel%3D%27noopener%20noreferrer%27%3ECalendar%20data%3C%2Fa%3E,%3Ca%20href%3D%27https%3A%2F%2Fupgini.com%2F%23data_sources%27%20target%3D%27_blank%27%20rel%3D%27noopener%20noreferrer%27%3EMarkets%20data%3C%2Fa%3E%09f_autofe_div_36a19c14%09f_events_date_week_cos3_7525fe31%09f_financial_date_usd_eur_7d_to_7d_1y_shift_05302176%09%2F%0A%3Ca%20href%3D%27https%3A%2F%2Fupgini.com%2F%23data_sources%27%20target%3D%27_blank%27%20rel%3D%27noopener%20noreferrer%27%3ECalendar%20data%3C%2Fa%3E%09f_autofe_mul_cf094f10%09f_events_date_year_cos5_59183b20%09f_events_date_year_sin3_e4c1ec0e%09%2A%0A'))>📂 Copy</button>\n",
              "                <a href='mailto:<Share with...>?subject=Relevant external data sources from Upgini.com&body=Sources%09Feature%20name%09Feature%201%09Feature%202%09Function%0A%3Ca%20href%3D%27https%3A%2F%2Fupgini.com%2F%23data_sources%27%20target%3D%27_blank%27%20rel%3D%27noopener%20noreferrer%27%3ECalendar%20data%3C%2Fa%3E,%3Ca%20href%3D%27https%3A%2F%2Fupgini.com%2F%23data_sources%27%20target%3D%27_blank%27%20rel%3D%27noopener%20noreferrer%27%3EMarkets%20data%3C%2Fa%3E%09f_autofe_mul_efd66bbe%09f_events_date_year_cos1_9014a856%09f_financial_date_vix_7d_to_1y_634c77eb%09%2A%0A%3Ca%20href%3D%27https%3A%2F%2Fupgini.com%2F%23data_sources%27%20target%3D%27_blank%27%20rel%3D%27noopener%20noreferrer%27%3ECalendar%20data%3C%2Fa%3E,%3Ca%20href%3D%27https%3A%2F%2Fupgini.com%2F%23data_sources%27%20target%3D%27_blank%27%20rel%3D%27noopener%20noreferrer%27%3EMarkets%20data%3C%2Fa%3E%09f_autofe_div_09412fe1%09f_events_date_year_cos1_9014a856%09f_financial_date_vix_7d_to_1y_634c77eb%09%2F%0A%3Ca%20href%3D%27https%3A%2F%2Fupgini.com%2F%23data_sources%27%20target%3D%27_blank%27%20rel%3D%27noopener%20noreferrer%27%3ECalendar%20data%3C%2Fa%3E,%3Ca%20href%3D%27https%3A%2F%2Fupgini.com%2F%23data_sources%27%20target%3D%27_blank%27%20rel%3D%27noopener%20noreferrer%27%3EMarkets%20data%3C%2Fa%3E%09f_autofe_div_89c56a5f%09f_events_date_year_cos1_9014a856%09f_financial_date_natural_gas_7d_to_7d_1y_shift_a5c3c07f%09%2F%0A%3Ca%20href%3D%27https%3A%2F%2Fupgini.com%2F%23data_sources%27%20target%3D%27_blank%27%20rel%3D%27noopener%20noreferrer%27%3ECalendar%20data%3C%2Fa%3E,%3Ca%20href%3D%27https%3A%2F%2Fupgini.com%2F%23data_sources%27%20target%3D%27_blank%27%20rel%3D%27noopener%20noreferrer%27%3EMarkets%20data%3C%2Fa%3E%09f_autofe_mul_0cc09d2d%09f_events_date_year_cos1_9014a856%09f_financial_date_crude_oil_1f195998%09%2A%0A%3Ca%20href%3D%27https%3A%2F%2Fupgini.com%2F%23data_sources%27%20target%3D%27_blank%27%20rel%3D%27noopener%20noreferrer%27%3ECalendar%20data%3C%2Fa%3E,%3Ca%20href%3D%27https%3A%2F%2Fupgini.com%2F%23data_sources%27%20target%3D%27_blank%27%20rel%3D%27noopener%20noreferrer%27%3EMarkets%20data%3C%2Fa%3E%09f_autofe_mul_08e89348%09f_events_date_week_sin1_847b5db1%09f_financial_date_crude_oil_1f195998%09%2A%0A%3Ca%20href%3D%27https%3A%2F%2Fupgini.com%2F%23data_sources%27%20target%3D%27_blank%27%20rel%3D%27noopener%20noreferrer%27%3ECalendar%20data%3C%2Fa%3E,%3Ca%20href%3D%27https%3A%2F%2Fupgini.com%2F%23data_sources%27%20target%3D%27_blank%27%20rel%3D%27noopener%20noreferrer%27%3EMarkets%20data%3C%2Fa%3E%09f_autofe_div_0a5adf97%09f_events_date_year_cos1_9014a856%09f_financial_date_natural_gas_92dac942%09%2F%0A%3Ca%20href%3D%27https%3A%2F%2Fupgini.com%2F%23data_sources%27%20target%3D%27_blank%27%20rel%3D%27noopener%20noreferrer%27%3ECalendar%20data%3C%2Fa%3E,%3Ca%20href%3D%27https%3A%2F%2Fupgini.com%2F%23data_sources%27%20target%3D%27_blank%27%20rel%3D%27noopener%20noreferrer%27%3EMarkets%20data%3C%2Fa%3E%09f_autofe_mul_34d11bc4%09f_events_date_year_cos1_9014a856%09f_financial_date_silver_e4e33014%09%2A%0A%3Ca%20href%3D%27https%3A%2F%2Fupgini.com%2F%23data_sources%27%20target%3D%27_blank%27%20rel%3D%27noopener%20noreferrer%27%3ECalendar%20data%3C%2Fa%3E,%3Ca%20href%3D%27https%3A%2F%2Fupgini.com%2F%23data_sources%27%20target%3D%27_blank%27%20rel%3D%27noopener%20noreferrer%27%3EMarkets%20data%3C%2Fa%3E%09f_autofe_div_a66c2b64%09f_events_date_week_sin1_847b5db1%09f_financial_date_snp500_fdb64447%09%2F%0A%3Ca%20href%3D%27https%3A%2F%2Fupgini.com%2F%23data_sources%27%20target%3D%27_blank%27%20rel%3D%27noopener%20noreferrer%27%3ECalendar%20data%3C%2Fa%3E,%3Ca%20href%3D%27https%3A%2F%2Fupgini.com%2F%23data_sources%27%20target%3D%27_blank%27%20rel%3D%27noopener%20noreferrer%27%3EMarkets%20data%3C%2Fa%3E%09f_autofe_div_cf5dd7be%09f_events_date_week_sin1_847b5db1%09f_financial_date_vix_7d_to_1y_634c77eb%09%2F%0A%3Ca%20href%3D%27https%3A%2F%2Fupgini.com%2F%23data_sources%27%20target%3D%27_blank%27%20rel%3D%27noopener%20noreferrer%27%3ECalendar%20data%3C%2Fa%3E%09f_autofe_div_ba625fe9%09f_events_date_week_sin1_847b5db1%09f_events_date_year_cos1_9014a856%09%2F%0A%3Ca%20href%3D%27https%3A%2F%2Fupgini.com%2F%23data_sources%27%20target%3D%27_blank%27%20rel%3D%27noopener%20noreferrer%27%3ECalendar%20data%3C%2Fa%3E%09f_autofe_mul_0afc7563%09f_events_date_week_sin1_847b5db1%09f_events_date_year_cos1_9014a856%09%2A%0A%3Ca%20href%3D%27https%3A%2F%2Fupgini.com%2F%23data_sources%27%20target%3D%27_blank%27%20rel%3D%27noopener%20noreferrer%27%3ECalendar%20data%3C%2Fa%3E%09f_autofe_mul_38339fb6%09f_events_date_year_cos1_9014a856%09f_events_date_year_sin1_3c44bc64%09%2A%0A%3Ca%20href%3D%27https%3A%2F%2Fupgini.com%2F%23data_sources%27%20target%3D%27_blank%27%20rel%3D%27noopener%20noreferrer%27%3ECalendar%20data%3C%2Fa%3E,%3Ca%20href%3D%27https%3A%2F%2Fupgini.com%2F%23data_sources%27%20target%3D%27_blank%27%20rel%3D%27noopener%20noreferrer%27%3EMarkets%20data%3C%2Fa%3E%09f_autofe_div_abde95f5%09f_events_date_week_cos2_b0a07cfc%09f_financial_date_silver_7d_to_7d_1y_shift_55fa8001%09%2F%0A%3Ca%20href%3D%27https%3A%2F%2Fupgini.com%2F%23data_sources%27%20target%3D%27_blank%27%20rel%3D%27noopener%20noreferrer%27%3EMarkets%20data%3C%2Fa%3E%09f_autofe_mul_5c76b026%09f_financial_date_natural_gas_7d_to_7d_1y_shift_a5c3c07f%09f_financial_date_silver_e4e33014%09%2A%0A%3Ca%20href%3D%27https%3A%2F%2Fupgini.com%2F%23data_sources%27%20target%3D%27_blank%27%20rel%3D%27noopener%20noreferrer%27%3ECalendar%20data%3C%2Fa%3E%09f_autofe_div_b97cf188%09f_events_date_week_cos3_7525fe31%09f_events_date_week_sin2_e28440a5%09%2F%0A%3Ca%20href%3D%27https%3A%2F%2Fupgini.com%2F%23data_sources%27%20target%3D%27_blank%27%20rel%3D%27noopener%20noreferrer%27%3ECalendar%20data%3C%2Fa%3E,%3Ca%20href%3D%27https%3A%2F%2Fupgini.com%2F%23data_sources%27%20target%3D%27_blank%27%20rel%3D%27noopener%20noreferrer%27%3EMarkets%20data%3C%2Fa%3E%09f_autofe_div_66be9f98%09f_events_date_week_cos3_7525fe31%09f_financial_date_snp500_7d_to_1y_378b9f99%09%2F%0A%3Ca%20href%3D%27https%3A%2F%2Fupgini.com%2F%23data_sources%27%20target%3D%27_blank%27%20rel%3D%27noopener%20noreferrer%27%3ECalendar%20data%3C%2Fa%3E,%3Ca%20href%3D%27https%3A%2F%2Fupgini.com%2F%23data_sources%27%20target%3D%27_blank%27%20rel%3D%27noopener%20noreferrer%27%3EMarkets%20data%3C%2Fa%3E%09f_autofe_mul_8a894088%09f_events_date_week_cos3_7525fe31%09f_financial_date_usd_eur_7d_to_7d_1y_shift_05302176%09%2A%0A%3Ca%20href%3D%27https%3A%2F%2Fupgini.com%2F%23data_sources%27%20target%3D%27_blank%27%20rel%3D%27noopener%20noreferrer%27%3ECalendar%20data%3C%2Fa%3E,%3Ca%20href%3D%27https%3A%2F%2Fupgini.com%2F%23data_sources%27%20target%3D%27_blank%27%20rel%3D%27noopener%20noreferrer%27%3EMarkets%20data%3C%2Fa%3E%09f_autofe_div_270d64a2%09f_events_date_week_cos1_f6a8c1fc%09f_financial_date_crude_oil_7d_to_1y_c3e0ad17%09%2F%0A%3Ca%20href%3D%27https%3A%2F%2Fupgini.com%2F%23data_sources%27%20target%3D%27_blank%27%20rel%3D%27noopener%20noreferrer%27%3ECalendar%20data%3C%2Fa%3E,%3Ca%20href%3D%27https%3A%2F%2Fupgini.com%2F%23data_sources%27%20target%3D%27_blank%27%20rel%3D%27noopener%20noreferrer%27%3EMarkets%20data%3C%2Fa%3E%09f_autofe_div_1d266053%09f_events_date_week_cos3_7525fe31%09f_financial_date_crude_oil_7d_to_1y_c3e0ad17%09%2F%0A%3Ca%20href%3D%27https%3A%2F%2Fupgini.com%2F%23data_sources%27%20target%3D%27_blank%27%20rel%3D%27noopener%20noreferrer%27%3ECalendar%20data%3C%2Fa%3E,%3Ca%20href%3D%27https%3A%2F%2Fupgini.com%2F%23data_sources%27%20target%3D%27_blank%27%20rel%3D%27noopener%20noreferrer%27%3EMarkets%20data%3C%2Fa%3E%09f_autofe_div_eb5dcaac%09f_events_date_week_cos3_7525fe31%09f_financial_date_snp500_fdb64447%09%2F%0A%3Ca%20href%3D%27https%3A%2F%2Fupgini.com%2F%23data_sources%27%20target%3D%27_blank%27%20rel%3D%27noopener%20noreferrer%27%3EMarkets%20data%3C%2Fa%3E%09f_autofe_div_b2cb0ac8%09f_financial_date_snp500_fdb64447%09f_financial_date_usd_eur_7d_to_7d_1y_shift_05302176%09%2F%0A%3Ca%20href%3D%27https%3A%2F%2Fupgini.com%2F%23data_sources%27%20target%3D%27_blank%27%20rel%3D%27noopener%20noreferrer%27%3ECalendar%20data%3C%2Fa%3E,%3Ca%20href%3D%27https%3A%2F%2Fupgini.com%2F%23data_sources%27%20target%3D%27_blank%27%20rel%3D%27noopener%20noreferrer%27%3EMarkets%20data%3C%2Fa%3E%09f_autofe_div_3e22df83%09f_events_date_week_sin1_847b5db1%09f_financial_date_crude_oil_1f195998%09%2F%0A%3Ca%20href%3D%27https%3A%2F%2Fupgini.com%2F%23data_sources%27%20target%3D%27_blank%27%20rel%3D%27noopener%20noreferrer%27%3ECalendar%20data%3C%2Fa%3E%09f_autofe_mul_5feff686%09f_events_date_year_cos1_9014a856%09f_events_date_year_cos2_7acbaf1b%09%2A%0A%3Ca%20href%3D%27https%3A%2F%2Fupgini.com%2F%23data_sources%27%20target%3D%27_blank%27%20rel%3D%27noopener%20noreferrer%27%3ECalendar%20data%3C%2Fa%3E,%3Ca%20href%3D%27https%3A%2F%2Fupgini.com%2F%23data_sources%27%20target%3D%27_blank%27%20rel%3D%27noopener%20noreferrer%27%3EMarkets%20data%3C%2Fa%3E%09f_autofe_div_fcee6f90%09f_events_date_week_cos1_f6a8c1fc%09f_financial_date_snp500_fdb64447%09%2F%0A%3Ca%20href%3D%27https%3A%2F%2Fupgini.com%2F%23data_sources%27%20target%3D%27_blank%27%20rel%3D%27noopener%20noreferrer%27%3ECalendar%20data%3C%2Fa%3E,%3Ca%20href%3D%27https%3A%2F%2Fupgini.com%2F%23data_sources%27%20target%3D%27_blank%27%20rel%3D%27noopener%20noreferrer%27%3EMarkets%20data%3C%2Fa%3E%09f_autofe_mul_0eea013d%09f_events_date_week_cos3_7525fe31%09f_financial_date_stoxx_7d_to_7d_1y_shift_abef6e91%09%2A%0A%3Ca%20href%3D%27https%3A%2F%2Fupgini.com%2F%23data_sources%27%20target%3D%27_blank%27%20rel%3D%27noopener%20noreferrer%27%3ECalendar%20data%3C%2Fa%3E,%3Ca%20href%3D%27https%3A%2F%2Fupgini.com%2F%23data_sources%27%20target%3D%27_blank%27%20rel%3D%27noopener%20noreferrer%27%3EMarkets%20data%3C%2Fa%3E%09f_autofe_div_50a5dcaf%09f_events_date_week_cos3_7525fe31%09f_financial_date_silver_7d_to_7d_1y_shift_55fa8001%09%2F%0A%3Ca%20href%3D%27https%3A%2F%2Fupgini.com%2F%23data_sources%27%20target%3D%27_blank%27%20rel%3D%27noopener%20noreferrer%27%3EMarkets%20data%3C%2Fa%3E%09f_autofe_mul_4c9c7d0a%09f_financial_date_natural_gas_7d_to_1y_7a6f300d%09f_financial_date_silver_7d_to_7d_1y_shift_55fa8001%09%2A%0A%3Ca%20href%3D%27https%3A%2F%2Fupgini.com%2F%23data_sources%27%20target%3D%27_blank%27%20rel%3D%27noopener%20noreferrer%27%3ECalendar%20data%3C%2Fa%3E,%3Ca%20href%3D%27https%3A%2F%2Fupgini.com%2F%23data_sources%27%20target%3D%27_blank%27%20rel%3D%27noopener%20noreferrer%27%3EMarkets%20data%3C%2Fa%3E%09f_autofe_div_86414197%09f_events_date_week_cos2_b0a07cfc%09f_financial_date_usd_eur_7d_to_7d_1y_shift_05302176%09%2F%0A%3Ca%20href%3D%27https%3A%2F%2Fupgini.com%2F%23data_sources%27%20target%3D%27_blank%27%20rel%3D%27noopener%20noreferrer%27%3ECalendar%20data%3C%2Fa%3E%09f_autofe_mul_a4d34ac2%09f_events_date_year_cos5_59183b20%09f_events_date_year_sin1_3c44bc64%09%2A%0A%3Ca%20href%3D%27https%3A%2F%2Fupgini.com%2F%23data_sources%27%20target%3D%27_blank%27%20rel%3D%27noopener%20noreferrer%27%3ECalendar%20data%3C%2Fa%3E,%3Ca%20href%3D%27https%3A%2F%2Fupgini.com%2F%23data_sources%27%20target%3D%27_blank%27%20rel%3D%27noopener%20noreferrer%27%3EMarkets%20data%3C%2Fa%3E%09f_autofe_div_36a19c14%09f_events_date_week_cos3_7525fe31%09f_financial_date_usd_eur_7d_to_7d_1y_shift_05302176%09%2F%0A%3Ca%20href%3D%27https%3A%2F%2Fupgini.com%2F%23data_sources%27%20target%3D%27_blank%27%20rel%3D%27noopener%20noreferrer%27%3ECalendar%20data%3C%2Fa%3E%09f_autofe_mul_cf094f10%09f_events_date_year_cos5_59183b20%09f_events_date_year_sin3_e4c1ec0e%09%2A%0A'>\n",
              "                    <button>📨 Share</button>\n",
              "                </a>\n",
              "            </div>\n",
              "            <table class='upgini-df'><thead><th>Sources</th><th>Feature name</th><th>Feature 1</th><th>Feature 2</th><th>Function</th></thead><tbody><tr><td class='upgini-text'><a href='https://upgini.com/#data_sources' target='_blank' rel='noopener noreferrer'>Calendar data</a>,<a href='https://upgini.com/#data_sources' target='_blank' rel='noopener noreferrer'>Markets data</a></td><td class='upgini-text'>f_autofe_mul_efd66bbe</td><td class='upgini-text'>f_events_date_year_cos1_9014a856</td><td class='upgini-text'>f_financial_date_vix_7d_to_1y_634c77eb</td><td class='upgini-text'>*</td></tr><tr><td class='upgini-text'><a href='https://upgini.com/#data_sources' target='_blank' rel='noopener noreferrer'>Calendar data</a>,<a href='https://upgini.com/#data_sources' target='_blank' rel='noopener noreferrer'>Markets data</a></td><td class='upgini-text'>f_autofe_div_09412fe1</td><td class='upgini-text'>f_events_date_year_cos1_9014a856</td><td class='upgini-text'>f_financial_date_vix_7d_to_1y_634c77eb</td><td class='upgini-text'>/</td></tr><tr><td class='upgini-text'><a href='https://upgini.com/#data_sources' target='_blank' rel='noopener noreferrer'>Calendar data</a>,<a href='https://upgini.com/#data_sources' target='_blank' rel='noopener noreferrer'>Markets data</a></td><td class='upgini-text'>f_autofe_div_89c56a5f</td><td class='upgini-text'>f_events_date_year_cos1_9014a856</td><td class='upgini-text'>f_financial_date_natural_gas_7d_to_7d_1y_shift_a5c3c07f</td><td class='upgini-text'>/</td></tr><tr><td class='upgini-text'><a href='https://upgini.com/#data_sources' target='_blank' rel='noopener noreferrer'>Calendar data</a>,<a href='https://upgini.com/#data_sources' target='_blank' rel='noopener noreferrer'>Markets data</a></td><td class='upgini-text'>f_autofe_mul_0cc09d2d</td><td class='upgini-text'>f_events_date_year_cos1_9014a856</td><td class='upgini-text'>f_financial_date_crude_oil_1f195998</td><td class='upgini-text'>*</td></tr><tr><td class='upgini-text'><a href='https://upgini.com/#data_sources' target='_blank' rel='noopener noreferrer'>Calendar data</a>,<a href='https://upgini.com/#data_sources' target='_blank' rel='noopener noreferrer'>Markets data</a></td><td class='upgini-text'>f_autofe_mul_08e89348</td><td class='upgini-text'>f_events_date_week_sin1_847b5db1</td><td class='upgini-text'>f_financial_date_crude_oil_1f195998</td><td class='upgini-text'>*</td></tr><tr><td class='upgini-text'><a href='https://upgini.com/#data_sources' target='_blank' rel='noopener noreferrer'>Calendar data</a>,<a href='https://upgini.com/#data_sources' target='_blank' rel='noopener noreferrer'>Markets data</a></td><td class='upgini-text'>f_autofe_div_0a5adf97</td><td class='upgini-text'>f_events_date_year_cos1_9014a856</td><td class='upgini-text'>f_financial_date_natural_gas_92dac942</td><td class='upgini-text'>/</td></tr><tr><td class='upgini-text'><a href='https://upgini.com/#data_sources' target='_blank' rel='noopener noreferrer'>Calendar data</a>,<a href='https://upgini.com/#data_sources' target='_blank' rel='noopener noreferrer'>Markets data</a></td><td class='upgini-text'>f_autofe_mul_34d11bc4</td><td class='upgini-text'>f_events_date_year_cos1_9014a856</td><td class='upgini-text'>f_financial_date_silver_e4e33014</td><td class='upgini-text'>*</td></tr><tr><td class='upgini-text'><a href='https://upgini.com/#data_sources' target='_blank' rel='noopener noreferrer'>Calendar data</a>,<a href='https://upgini.com/#data_sources' target='_blank' rel='noopener noreferrer'>Markets data</a></td><td class='upgini-text'>f_autofe_div_a66c2b64</td><td class='upgini-text'>f_events_date_week_sin1_847b5db1</td><td class='upgini-text'>f_financial_date_snp500_fdb64447</td><td class='upgini-text'>/</td></tr><tr><td class='upgini-text'><a href='https://upgini.com/#data_sources' target='_blank' rel='noopener noreferrer'>Calendar data</a>,<a href='https://upgini.com/#data_sources' target='_blank' rel='noopener noreferrer'>Markets data</a></td><td class='upgini-text'>f_autofe_div_cf5dd7be</td><td class='upgini-text'>f_events_date_week_sin1_847b5db1</td><td class='upgini-text'>f_financial_date_vix_7d_to_1y_634c77eb</td><td class='upgini-text'>/</td></tr><tr><td class='upgini-text'><a href='https://upgini.com/#data_sources' target='_blank' rel='noopener noreferrer'>Calendar data</a></td><td class='upgini-text'>f_autofe_div_ba625fe9</td><td class='upgini-text'>f_events_date_week_sin1_847b5db1</td><td class='upgini-text'>f_events_date_year_cos1_9014a856</td><td class='upgini-text'>/</td></tr><tr><td class='upgini-text'><a href='https://upgini.com/#data_sources' target='_blank' rel='noopener noreferrer'>Calendar data</a></td><td class='upgini-text'>f_autofe_mul_0afc7563</td><td class='upgini-text'>f_events_date_week_sin1_847b5db1</td><td class='upgini-text'>f_events_date_year_cos1_9014a856</td><td class='upgini-text'>*</td></tr><tr><td class='upgini-text'><a href='https://upgini.com/#data_sources' target='_blank' rel='noopener noreferrer'>Calendar data</a></td><td class='upgini-text'>f_autofe_mul_38339fb6</td><td class='upgini-text'>f_events_date_year_cos1_9014a856</td><td class='upgini-text'>f_events_date_year_sin1_3c44bc64</td><td class='upgini-text'>*</td></tr><tr><td class='upgini-text'><a href='https://upgini.com/#data_sources' target='_blank' rel='noopener noreferrer'>Calendar data</a>,<a href='https://upgini.com/#data_sources' target='_blank' rel='noopener noreferrer'>Markets data</a></td><td class='upgini-text'>f_autofe_div_abde95f5</td><td class='upgini-text'>f_events_date_week_cos2_b0a07cfc</td><td class='upgini-text'>f_financial_date_silver_7d_to_7d_1y_shift_55fa8001</td><td class='upgini-text'>/</td></tr><tr><td class='upgini-text'><a href='https://upgini.com/#data_sources' target='_blank' rel='noopener noreferrer'>Markets data</a></td><td class='upgini-text'>f_autofe_mul_5c76b026</td><td class='upgini-text'>f_financial_date_natural_gas_7d_to_7d_1y_shift_a5c3c07f</td><td class='upgini-text'>f_financial_date_silver_e4e33014</td><td class='upgini-text'>*</td></tr><tr><td class='upgini-text'><a href='https://upgini.com/#data_sources' target='_blank' rel='noopener noreferrer'>Calendar data</a></td><td class='upgini-text'>f_autofe_div_b97cf188</td><td class='upgini-text'>f_events_date_week_cos3_7525fe31</td><td class='upgini-text'>f_events_date_week_sin2_e28440a5</td><td class='upgini-text'>/</td></tr><tr><td class='upgini-text'><a href='https://upgini.com/#data_sources' target='_blank' rel='noopener noreferrer'>Calendar data</a>,<a href='https://upgini.com/#data_sources' target='_blank' rel='noopener noreferrer'>Markets data</a></td><td class='upgini-text'>f_autofe_div_66be9f98</td><td class='upgini-text'>f_events_date_week_cos3_7525fe31</td><td class='upgini-text'>f_financial_date_snp500_7d_to_1y_378b9f99</td><td class='upgini-text'>/</td></tr><tr><td class='upgini-text'><a href='https://upgini.com/#data_sources' target='_blank' rel='noopener noreferrer'>Calendar data</a>,<a href='https://upgini.com/#data_sources' target='_blank' rel='noopener noreferrer'>Markets data</a></td><td class='upgini-text'>f_autofe_mul_8a894088</td><td class='upgini-text'>f_events_date_week_cos3_7525fe31</td><td class='upgini-text'>f_financial_date_usd_eur_7d_to_7d_1y_shift_05302176</td><td class='upgini-text'>*</td></tr><tr><td class='upgini-text'><a href='https://upgini.com/#data_sources' target='_blank' rel='noopener noreferrer'>Calendar data</a>,<a href='https://upgini.com/#data_sources' target='_blank' rel='noopener noreferrer'>Markets data</a></td><td class='upgini-text'>f_autofe_div_270d64a2</td><td class='upgini-text'>f_events_date_week_cos1_f6a8c1fc</td><td class='upgini-text'>f_financial_date_crude_oil_7d_to_1y_c3e0ad17</td><td class='upgini-text'>/</td></tr><tr><td class='upgini-text'><a href='https://upgini.com/#data_sources' target='_blank' rel='noopener noreferrer'>Calendar data</a>,<a href='https://upgini.com/#data_sources' target='_blank' rel='noopener noreferrer'>Markets data</a></td><td class='upgini-text'>f_autofe_div_1d266053</td><td class='upgini-text'>f_events_date_week_cos3_7525fe31</td><td class='upgini-text'>f_financial_date_crude_oil_7d_to_1y_c3e0ad17</td><td class='upgini-text'>/</td></tr><tr><td class='upgini-text'><a href='https://upgini.com/#data_sources' target='_blank' rel='noopener noreferrer'>Calendar data</a>,<a href='https://upgini.com/#data_sources' target='_blank' rel='noopener noreferrer'>Markets data</a></td><td class='upgini-text'>f_autofe_div_eb5dcaac</td><td class='upgini-text'>f_events_date_week_cos3_7525fe31</td><td class='upgini-text'>f_financial_date_snp500_fdb64447</td><td class='upgini-text'>/</td></tr><tr><td class='upgini-text'><a href='https://upgini.com/#data_sources' target='_blank' rel='noopener noreferrer'>Markets data</a></td><td class='upgini-text'>f_autofe_div_b2cb0ac8</td><td class='upgini-text'>f_financial_date_snp500_fdb64447</td><td class='upgini-text'>f_financial_date_usd_eur_7d_to_7d_1y_shift_05302176</td><td class='upgini-text'>/</td></tr><tr><td class='upgini-text'><a href='https://upgini.com/#data_sources' target='_blank' rel='noopener noreferrer'>Calendar data</a>,<a href='https://upgini.com/#data_sources' target='_blank' rel='noopener noreferrer'>Markets data</a></td><td class='upgini-text'>f_autofe_div_3e22df83</td><td class='upgini-text'>f_events_date_week_sin1_847b5db1</td><td class='upgini-text'>f_financial_date_crude_oil_1f195998</td><td class='upgini-text'>/</td></tr><tr><td class='upgini-text'><a href='https://upgini.com/#data_sources' target='_blank' rel='noopener noreferrer'>Calendar data</a></td><td class='upgini-text'>f_autofe_mul_5feff686</td><td class='upgini-text'>f_events_date_year_cos1_9014a856</td><td class='upgini-text'>f_events_date_year_cos2_7acbaf1b</td><td class='upgini-text'>*</td></tr><tr><td class='upgini-text'><a href='https://upgini.com/#data_sources' target='_blank' rel='noopener noreferrer'>Calendar data</a>,<a href='https://upgini.com/#data_sources' target='_blank' rel='noopener noreferrer'>Markets data</a></td><td class='upgini-text'>f_autofe_div_fcee6f90</td><td class='upgini-text'>f_events_date_week_cos1_f6a8c1fc</td><td class='upgini-text'>f_financial_date_snp500_fdb64447</td><td class='upgini-text'>/</td></tr><tr><td class='upgini-text'><a href='https://upgini.com/#data_sources' target='_blank' rel='noopener noreferrer'>Calendar data</a>,<a href='https://upgini.com/#data_sources' target='_blank' rel='noopener noreferrer'>Markets data</a></td><td class='upgini-text'>f_autofe_mul_0eea013d</td><td class='upgini-text'>f_events_date_week_cos3_7525fe31</td><td class='upgini-text'>f_financial_date_stoxx_7d_to_7d_1y_shift_abef6e91</td><td class='upgini-text'>*</td></tr><tr><td class='upgini-text'><a href='https://upgini.com/#data_sources' target='_blank' rel='noopener noreferrer'>Calendar data</a>,<a href='https://upgini.com/#data_sources' target='_blank' rel='noopener noreferrer'>Markets data</a></td><td class='upgini-text'>f_autofe_div_50a5dcaf</td><td class='upgini-text'>f_events_date_week_cos3_7525fe31</td><td class='upgini-text'>f_financial_date_silver_7d_to_7d_1y_shift_55fa8001</td><td class='upgini-text'>/</td></tr><tr><td class='upgini-text'><a href='https://upgini.com/#data_sources' target='_blank' rel='noopener noreferrer'>Markets data</a></td><td class='upgini-text'>f_autofe_mul_4c9c7d0a</td><td class='upgini-text'>f_financial_date_natural_gas_7d_to_1y_7a6f300d</td><td class='upgini-text'>f_financial_date_silver_7d_to_7d_1y_shift_55fa8001</td><td class='upgini-text'>*</td></tr><tr><td class='upgini-text'><a href='https://upgini.com/#data_sources' target='_blank' rel='noopener noreferrer'>Calendar data</a>,<a href='https://upgini.com/#data_sources' target='_blank' rel='noopener noreferrer'>Markets data</a></td><td class='upgini-text'>f_autofe_div_86414197</td><td class='upgini-text'>f_events_date_week_cos2_b0a07cfc</td><td class='upgini-text'>f_financial_date_usd_eur_7d_to_7d_1y_shift_05302176</td><td class='upgini-text'>/</td></tr><tr><td class='upgini-text'><a href='https://upgini.com/#data_sources' target='_blank' rel='noopener noreferrer'>Calendar data</a></td><td class='upgini-text'>f_autofe_mul_a4d34ac2</td><td class='upgini-text'>f_events_date_year_cos5_59183b20</td><td class='upgini-text'>f_events_date_year_sin1_3c44bc64</td><td class='upgini-text'>*</td></tr><tr><td class='upgini-text'><a href='https://upgini.com/#data_sources' target='_blank' rel='noopener noreferrer'>Calendar data</a>,<a href='https://upgini.com/#data_sources' target='_blank' rel='noopener noreferrer'>Markets data</a></td><td class='upgini-text'>f_autofe_div_36a19c14</td><td class='upgini-text'>f_events_date_week_cos3_7525fe31</td><td class='upgini-text'>f_financial_date_usd_eur_7d_to_7d_1y_shift_05302176</td><td class='upgini-text'>/</td></tr><tr><td class='upgini-text'><a href='https://upgini.com/#data_sources' target='_blank' rel='noopener noreferrer'>Calendar data</a></td><td class='upgini-text'>f_autofe_mul_cf094f10</td><td class='upgini-text'>f_events_date_year_cos5_59183b20</td><td class='upgini-text'>f_events_date_year_sin3_e4c1ec0e</td><td class='upgini-text'>*</td></tr></tbody></table>\n",
              "        </div>\n",
              "        "
            ]
          },
          "metadata": {}
        },
        {
          "output_type": "stream",
          "name": "stdout",
          "text": [
            "\n",
            "WARNING: We detected 113 outliers in your sample.\n",
            "Examples of outliers with maximum value of target:\n",
            "84    205\n",
            "47    196\n",
            "38    187\n",
            "Name: target, dtype: int64\n",
            "Outliers will be excluded during the metrics calculation.\n",
            "Calculating accuracy uplift after enrichment...\n",
            "\n",
            "WARNING: y distributions from the training sample and eval_set differ according to the Kolmogorov-Smirnov test,\n",
            "which makes metrics between the train and eval_set incomparable.\n"
          ]
        },
        {
          "output_type": "display_data",
          "data": {
            "text/plain": [
              "<IPython.core.display.HTML object>"
            ],
            "text/html": [
              "<style>\n",
              "            .upgini-df thead th {\n",
              "                font-weight:bold;\n",
              "                text-align: center;\n",
              "                padding: 0.5em;\n",
              "                border-bottom: 2px solid black;\n",
              "            }\n",
              "\n",
              "            .upgini-df tbody td {\n",
              "                padding: 0.5em;\n",
              "            }\n",
              "\n",
              "            .upgini-df tbody tr:nth-child(odd) {\n",
              "                background-color: #ffffff;\n",
              "            }\n",
              "\n",
              "            .upgini-df tbody tr:nth-child(even) {\n",
              "                background-color: #f2f2f2;\n",
              "            }\n",
              "\n",
              "            .upgini-text {\n",
              "                text-align: left;\n",
              "            }\n",
              "\n",
              "            .upgini-number {\n",
              "                text-align: center;\n",
              "            }\n",
              "        </style>\n",
              "        <h2>Accuracy after enrichment</h2>\n",
              "        <div style=\"display:flex; flex-direction:column; align-items:flex-end; width: fit-content;\">\n",
              "            \n",
              "            <div style=\"text-align: right\">\n",
              "                <button onclick=navigator.clipboard.writeText(decodeURI('Dataset%20type%09Rows%09Mean%20target%09Baseline%20mean_squared_error%09Enriched%20mean_squared_error%09Uplift%0ATrain%0915213%0950.3977%09274.3900728311113%09172.43184617854038%09101.95822665257091%0AEval%201%093775%0959.294%09376.3184041440461%09225.507470653207%09150.8109334908391%0A'))>📂 Copy</button>\n",
              "                <a href='mailto:<Share with...>?subject=Relevant external data sources from Upgini.com&body=Dataset%20type%09Rows%09Mean%20target%09Baseline%20mean_squared_error%09Enriched%20mean_squared_error%09Uplift%0ATrain%0915213%0950.3977%09274.3900728311113%09172.43184617854038%09101.95822665257091%0AEval%201%093775%0959.294%09376.3184041440461%09225.507470653207%09150.8109334908391%0A'>\n",
              "                    <button>📨 Share</button>\n",
              "                </a>\n",
              "            </div>\n",
              "            <table class='upgini-df'><thead><th>Dataset type</th><th>Rows</th><th>Mean target</th><th>Baseline mean_squared_error</th><th>Enriched mean_squared_error</th><th>Uplift</th></thead><tbody><tr><td class='upgini-text'>Train</td><td class='upgini-number'>15213</td><td class='upgini-number'>50.3977</td><td class='upgini-number'>274.3901</td><td class='upgini-number'>172.4318</td><td class='upgini-number'>101.9582</td></tr><tr><td class='upgini-text'>Eval 1</td><td class='upgini-number'>3775</td><td class='upgini-number'>59.2940</td><td class='upgini-number'>376.3184</td><td class='upgini-number'>225.5075</td><td class='upgini-number'>150.8109</td></tr></tbody></table>\n",
              "        </div>\n",
              "        "
            ]
          },
          "metadata": {}
        },
        {
          "output_type": "display_data",
          "data": {
            "text/plain": [
              "<IPython.core.display.HTML object>"
            ],
            "text/html": [
              "<a download=\"upgini-report-3698d699-0d51-4410-83a4-ae9570187f86.pdf\" href=\"data:application/pdf;base64,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\" target=\"_blank\">\n",
              "        <button>📊 Download PDF report</button></a>"
            ]
          },
          "metadata": {}
        }
      ]
    },
    {
      "cell_type": "code",
      "source": [
        "from catboost import CatBoostRegressor\n",
        "from catboost.utils import eval_metric\n",
        "model = CatBoostRegressor(verbose=False, allow_writing_files=False, random_state=0)\n",
        "enricher.calculate_metrics(\n",
        "    train_features,\n",
        "    train_target,\n",
        "    eval_set = [(test_features,test_target)],\n",
        "    estimator = model,\n",
        "    scoring = \"mean_absolute_percentage_error\"\n",
        ")"
      ],
      "metadata": {
        "colab": {
          "base_uri": "https://localhost:8080/",
          "height": 222
        },
        "collapsed": true,
        "id": "y3MFPH0oQLLp",
        "outputId": "0d2a839c-4cad-4f7e-e9ce-ad1fb8eb432f"
      },
      "execution_count": 30,
      "outputs": [
        {
          "output_type": "stream",
          "name": "stdout",
          "text": [
            "Calculating accuracy uplift after enrichment...\n",
            "-\r\n",
            "WARNING: y distributions from the training sample and eval_set differ according to the Kolmogorov-Smirnov test,\n",
            "which makes metrics between the train and eval_set incomparable.\n"
          ]
        },
        {
          "output_type": "execute_result",
          "data": {
            "text/plain": [
              "  Dataset type   Rows  Mean target  Baseline mean_absolute_percentage_error  \\\n",
              "0        Train  15213      50.3977                                 0.297609   \n",
              "1       Eval 1   3775      59.2940                                 0.248317   \n",
              "\n",
              "   Enriched mean_absolute_percentage_error    Uplift  \n",
              "0                                 0.166783  0.130825  \n",
              "1                                 0.145849  0.102467  "
            ],
            "text/html": [
              "\n",
              "  <div id=\"df-2e02d2b7-ddec-4718-b6a0-d7943a641ca6\" class=\"colab-df-container\">\n",
              "    <div>\n",
              "<style scoped>\n",
              "    .dataframe tbody tr th:only-of-type {\n",
              "        vertical-align: middle;\n",
              "    }\n",
              "\n",
              "    .dataframe tbody tr th {\n",
              "        vertical-align: top;\n",
              "    }\n",
              "\n",
              "    .dataframe thead th {\n",
              "        text-align: right;\n",
              "    }\n",
              "</style>\n",
              "<table border=\"1\" class=\"dataframe\">\n",
              "  <thead>\n",
              "    <tr style=\"text-align: right;\">\n",
              "      <th></th>\n",
              "      <th>Dataset type</th>\n",
              "      <th>Rows</th>\n",
              "      <th>Mean target</th>\n",
              "      <th>Baseline mean_absolute_percentage_error</th>\n",
              "      <th>Enriched mean_absolute_percentage_error</th>\n",
              "      <th>Uplift</th>\n",
              "    </tr>\n",
              "  </thead>\n",
              "  <tbody>\n",
              "    <tr>\n",
              "      <th>0</th>\n",
              "      <td>Train</td>\n",
              "      <td>15213</td>\n",
              "      <td>50.3977</td>\n",
              "      <td>0.297609</td>\n",
              "      <td>0.166783</td>\n",
              "      <td>0.130825</td>\n",
              "    </tr>\n",
              "    <tr>\n",
              "      <th>1</th>\n",
              "      <td>Eval 1</td>\n",
              "      <td>3775</td>\n",
              "      <td>59.2940</td>\n",
              "      <td>0.248317</td>\n",
              "      <td>0.145849</td>\n",
              "      <td>0.102467</td>\n",
              "    </tr>\n",
              "  </tbody>\n",
              "</table>\n",
              "</div>\n",
              "    <div class=\"colab-df-buttons\">\n",
              "\n",
              "  <div class=\"colab-df-container\">\n",
              "    <button class=\"colab-df-convert\" onclick=\"convertToInteractive('df-2e02d2b7-ddec-4718-b6a0-d7943a641ca6')\"\n",
              "            title=\"Convert this dataframe to an interactive table.\"\n",
              "            style=\"display:none;\">\n",
              "\n",
              "  <svg xmlns=\"http://www.w3.org/2000/svg\" height=\"24px\" viewBox=\"0 -960 960 960\">\n",
              "    <path d=\"M120-120v-720h720v720H120Zm60-500h600v-160H180v160Zm220 220h160v-160H400v160Zm0 220h160v-160H400v160ZM180-400h160v-160H180v160Zm440 0h160v-160H620v160ZM180-180h160v-160H180v160Zm440 0h160v-160H620v160Z\"/>\n",
              "  </svg>\n",
              "    </button>\n",
              "\n",
              "  <style>\n",
              "    .colab-df-container {\n",
              "      display:flex;\n",
              "      gap: 12px;\n",
              "    }\n",
              "\n",
              "    .colab-df-convert {\n",
              "      background-color: #E8F0FE;\n",
              "      border: none;\n",
              "      border-radius: 50%;\n",
              "      cursor: pointer;\n",
              "      display: none;\n",
              "      fill: #1967D2;\n",
              "      height: 32px;\n",
              "      padding: 0 0 0 0;\n",
              "      width: 32px;\n",
              "    }\n",
              "\n",
              "    .colab-df-convert:hover {\n",
              "      background-color: #E2EBFA;\n",
              "      box-shadow: 0px 1px 2px rgba(60, 64, 67, 0.3), 0px 1px 3px 1px rgba(60, 64, 67, 0.15);\n",
              "      fill: #174EA6;\n",
              "    }\n",
              "\n",
              "    .colab-df-buttons div {\n",
              "      margin-bottom: 4px;\n",
              "    }\n",
              "\n",
              "    [theme=dark] .colab-df-convert {\n",
              "      background-color: #3B4455;\n",
              "      fill: #D2E3FC;\n",
              "    }\n",
              "\n",
              "    [theme=dark] .colab-df-convert:hover {\n",
              "      background-color: #434B5C;\n",
              "      box-shadow: 0px 1px 3px 1px rgba(0, 0, 0, 0.15);\n",
              "      filter: drop-shadow(0px 1px 2px rgba(0, 0, 0, 0.3));\n",
              "      fill: #FFFFFF;\n",
              "    }\n",
              "  </style>\n",
              "\n",
              "    <script>\n",
              "      const buttonEl =\n",
              "        document.querySelector('#df-2e02d2b7-ddec-4718-b6a0-d7943a641ca6 button.colab-df-convert');\n",
              "      buttonEl.style.display =\n",
              "        google.colab.kernel.accessAllowed ? 'block' : 'none';\n",
              "\n",
              "      async function convertToInteractive(key) {\n",
              "        const element = document.querySelector('#df-2e02d2b7-ddec-4718-b6a0-d7943a641ca6');\n",
              "        const dataTable =\n",
              "          await google.colab.kernel.invokeFunction('convertToInteractive',\n",
              "                                                    [key], {});\n",
              "        if (!dataTable) return;\n",
              "\n",
              "        const docLinkHtml = 'Like what you see? Visit the ' +\n",
              "          '<a target=\"_blank\" href=https://colab.research.google.com/notebooks/data_table.ipynb>data table notebook</a>'\n",
              "          + ' to learn more about interactive tables.';\n",
              "        element.innerHTML = '';\n",
              "        dataTable['output_type'] = 'display_data';\n",
              "        await google.colab.output.renderOutput(dataTable, element);\n",
              "        const docLink = document.createElement('div');\n",
              "        docLink.innerHTML = docLinkHtml;\n",
              "        element.appendChild(docLink);\n",
              "      }\n",
              "    </script>\n",
              "  </div>\n",
              "\n",
              "\n",
              "<div id=\"df-1cdbd129-b00c-46fb-b06b-b85e43a47f1f\">\n",
              "  <button class=\"colab-df-quickchart\" onclick=\"quickchart('df-1cdbd129-b00c-46fb-b06b-b85e43a47f1f')\"\n",
              "            title=\"Suggest charts\"\n",
              "            style=\"display:none;\">\n",
              "\n",
              "<svg xmlns=\"http://www.w3.org/2000/svg\" height=\"24px\"viewBox=\"0 0 24 24\"\n",
              "     width=\"24px\">\n",
              "    <g>\n",
              "        <path d=\"M19 3H5c-1.1 0-2 .9-2 2v14c0 1.1.9 2 2 2h14c1.1 0 2-.9 2-2V5c0-1.1-.9-2-2-2zM9 17H7v-7h2v7zm4 0h-2V7h2v10zm4 0h-2v-4h2v4z\"/>\n",
              "    </g>\n",
              "</svg>\n",
              "  </button>\n",
              "\n",
              "<style>\n",
              "  .colab-df-quickchart {\n",
              "      --bg-color: #E8F0FE;\n",
              "      --fill-color: #1967D2;\n",
              "      --hover-bg-color: #E2EBFA;\n",
              "      --hover-fill-color: #174EA6;\n",
              "      --disabled-fill-color: #AAA;\n",
              "      --disabled-bg-color: #DDD;\n",
              "  }\n",
              "\n",
              "  [theme=dark] .colab-df-quickchart {\n",
              "      --bg-color: #3B4455;\n",
              "      --fill-color: #D2E3FC;\n",
              "      --hover-bg-color: #434B5C;\n",
              "      --hover-fill-color: #FFFFFF;\n",
              "      --disabled-bg-color: #3B4455;\n",
              "      --disabled-fill-color: #666;\n",
              "  }\n",
              "\n",
              "  .colab-df-quickchart {\n",
              "    background-color: var(--bg-color);\n",
              "    border: none;\n",
              "    border-radius: 50%;\n",
              "    cursor: pointer;\n",
              "    display: none;\n",
              "    fill: var(--fill-color);\n",
              "    height: 32px;\n",
              "    padding: 0;\n",
              "    width: 32px;\n",
              "  }\n",
              "\n",
              "  .colab-df-quickchart:hover {\n",
              "    background-color: var(--hover-bg-color);\n",
              "    box-shadow: 0 1px 2px rgba(60, 64, 67, 0.3), 0 1px 3px 1px rgba(60, 64, 67, 0.15);\n",
              "    fill: var(--button-hover-fill-color);\n",
              "  }\n",
              "\n",
              "  .colab-df-quickchart-complete:disabled,\n",
              "  .colab-df-quickchart-complete:disabled:hover {\n",
              "    background-color: var(--disabled-bg-color);\n",
              "    fill: var(--disabled-fill-color);\n",
              "    box-shadow: none;\n",
              "  }\n",
              "\n",
              "  .colab-df-spinner {\n",
              "    border: 2px solid var(--fill-color);\n",
              "    border-color: transparent;\n",
              "    border-bottom-color: var(--fill-color);\n",
              "    animation:\n",
              "      spin 1s steps(1) infinite;\n",
              "  }\n",
              "\n",
              "  @keyframes spin {\n",
              "    0% {\n",
              "      border-color: transparent;\n",
              "      border-bottom-color: var(--fill-color);\n",
              "      border-left-color: var(--fill-color);\n",
              "    }\n",
              "    20% {\n",
              "      border-color: transparent;\n",
              "      border-left-color: var(--fill-color);\n",
              "      border-top-color: var(--fill-color);\n",
              "    }\n",
              "    30% {\n",
              "      border-color: transparent;\n",
              "      border-left-color: var(--fill-color);\n",
              "      border-top-color: var(--fill-color);\n",
              "      border-right-color: var(--fill-color);\n",
              "    }\n",
              "    40% {\n",
              "      border-color: transparent;\n",
              "      border-right-color: var(--fill-color);\n",
              "      border-top-color: var(--fill-color);\n",
              "    }\n",
              "    60% {\n",
              "      border-color: transparent;\n",
              "      border-right-color: var(--fill-color);\n",
              "    }\n",
              "    80% {\n",
              "      border-color: transparent;\n",
              "      border-right-color: var(--fill-color);\n",
              "      border-bottom-color: var(--fill-color);\n",
              "    }\n",
              "    90% {\n",
              "      border-color: transparent;\n",
              "      border-bottom-color: var(--fill-color);\n",
              "    }\n",
              "  }\n",
              "</style>\n",
              "\n",
              "  <script>\n",
              "    async function quickchart(key) {\n",
              "      const quickchartButtonEl =\n",
              "        document.querySelector('#' + key + ' button');\n",
              "      quickchartButtonEl.disabled = true;  // To prevent multiple clicks.\n",
              "      quickchartButtonEl.classList.add('colab-df-spinner');\n",
              "      try {\n",
              "        const charts = await google.colab.kernel.invokeFunction(\n",
              "            'suggestCharts', [key], {});\n",
              "      } catch (error) {\n",
              "        console.error('Error during call to suggestCharts:', error);\n",
              "      }\n",
              "      quickchartButtonEl.classList.remove('colab-df-spinner');\n",
              "      quickchartButtonEl.classList.add('colab-df-quickchart-complete');\n",
              "    }\n",
              "    (() => {\n",
              "      let quickchartButtonEl =\n",
              "        document.querySelector('#df-1cdbd129-b00c-46fb-b06b-b85e43a47f1f button');\n",
              "      quickchartButtonEl.style.display =\n",
              "        google.colab.kernel.accessAllowed ? 'block' : 'none';\n",
              "    })();\n",
              "  </script>\n",
              "</div>\n",
              "\n",
              "    </div>\n",
              "  </div>\n"
            ],
            "application/vnd.google.colaboratory.intrinsic+json": {
              "type": "dataframe",
              "summary": "{\n  \"name\": \")\",\n  \"rows\": 2,\n  \"fields\": [\n    {\n      \"column\": \"Dataset type\",\n      \"properties\": {\n        \"dtype\": \"string\",\n        \"num_unique_values\": 2,\n        \"samples\": [\n          \"Eval 1\",\n          \"Train\"\n        ],\n        \"semantic_type\": \"\",\n        \"description\": \"\"\n      }\n    },\n    {\n      \"column\": \"Rows\",\n      \"properties\": {\n        \"dtype\": \"number\",\n        \"std\": 8087,\n        \"min\": 3775,\n        \"max\": 15213,\n        \"num_unique_values\": 2,\n        \"samples\": [\n          3775,\n          15213\n        ],\n        \"semantic_type\": \"\",\n        \"description\": \"\"\n      }\n    },\n    {\n      \"column\": \"Mean target\",\n      \"properties\": {\n        \"dtype\": \"number\",\n        \"std\": 6.29063405746988,\n        \"min\": 50.3977,\n        \"max\": 59.294,\n        \"num_unique_values\": 2,\n        \"samples\": [\n          59.294,\n          50.3977\n        ],\n        \"semantic_type\": \"\",\n        \"description\": \"\"\n      }\n    },\n    {\n      \"column\": \"Baseline mean_absolute_percentage_error\",\n      \"properties\": {\n        \"dtype\": \"number\",\n        \"std\": 0.03485483570459905,\n        \"min\": 0.248316529346258,\n        \"max\": 0.297608710713988,\n        \"num_unique_values\": 2,\n        \"samples\": [\n          0.248316529346258,\n          0.297608710713988\n        ],\n        \"semantic_type\": \"\",\n        \"description\": \"\"\n      }\n    },\n    {\n      \"column\": \"Enriched mean_absolute_percentage_error\",\n      \"properties\": {\n        \"dtype\": \"number\",\n        \"std\": 0.014802467823970775,\n        \"min\": 0.14584938485266963,\n        \"max\": 0.16678323560592045,\n        \"num_unique_values\": 2,\n        \"samples\": [\n          0.14584938485266963,\n          0.16678323560592045\n        ],\n        \"semantic_type\": \"\",\n        \"description\": \"\"\n      }\n    },\n    {\n      \"column\": \"Uplift\",\n      \"properties\": {\n        \"dtype\": \"number\",\n        \"std\": 0.02005236788062828,\n        \"min\": 0.10246714449358837,\n        \"max\": 0.13082547510806752,\n        \"num_unique_values\": 2,\n        \"samples\": [\n          0.10246714449358837,\n          0.13082547510806752\n        ],\n        \"semantic_type\": \"\",\n        \"description\": \"\"\n      }\n    }\n  ]\n}"
            }
          },
          "metadata": {},
          "execution_count": 30
        }
      ]
    },
    {
      "cell_type": "code",
      "source": [
        "enriched_train_features = enricher.transform(train_features,keep_input=True)\n",
        "print(enriched_train_features)  # Add this line to inspect the value\n",
        "print(type(enriched_train_features))  # Add this line to check the data type\n",
        "enriched_test_features = enricher.transform(test_features,keep_input=True)\n"
      ],
      "metadata": {
        "colab": {
          "base_uri": "https://localhost:8080/",
          "height": 401,
          "referenced_widgets": [
            "144aec90af4e4b21a729affd65406e2c",
            "5719a1b323554272b9a6fc4728289f71",
            "f97bf7a4642d4aabb33174d3af53c194"
          ]
        },
        "id": "vVaZrUz8R0VO",
        "outputId": "39785dfe-dcfe-4f2e-8ae5-128bed1134e8"
      },
      "execution_count": 36,
      "outputs": [
        {
          "output_type": "display_data",
          "data": {
            "text/plain": [
              "[============================================================] 100% Finished"
            ],
            "text/html": [
              "<progress style='width:60ex' max='100' value='100'></progress>  100% Finished</br>"
            ]
          },
          "metadata": {}
        },
        {
          "output_type": "stream",
          "name": "stdout",
          "text": [
            "You are trying to launch enrichment for 15213 rows, which will exceed the rest limit 9272.\n"
          ]
        },
        {
          "output_type": "display_data",
          "data": {
            "text/plain": [
              "Button(button_style='danger', description='Request a quote', style=ButtonStyle())"
            ],
            "application/vnd.jupyter.widget-view+json": {
              "version_major": 2,
              "version_minor": 0,
              "model_id": "144aec90af4e4b21a729affd65406e2c"
            }
          },
          "metadata": {}
        },
        {
          "output_type": "stream",
          "name": "stdout",
          "text": [
            "None\n",
            "<class 'NoneType'>\n"
          ]
        },
        {
          "output_type": "display_data",
          "data": {
            "text/plain": [
              "[============================================================] 100% Finished"
            ],
            "text/html": [
              "<progress style='width:60ex' max='100' value='100'></progress>  100% Finished</br>"
            ]
          },
          "metadata": {}
        },
        {
          "output_type": "stream",
          "name": "stdout",
          "text": [
            "You use Trial access to Upgini data enrichment. Limit for Trial: 10000 rows. You have already enriched: 728 rows.\n",
            "\n",
            "WARNING: Search started with DATE search key only\n",
            "Try to add other keys like the COUNTRY, POSTAL_CODE, PHONE NUMBER, EMAIL/HEM, IP to your training dataset\n",
            "for search through all the available data sources.\n",
            "See docs https://github.com/upgini/upgini#-total-239-countries-and-up-to-41-years-of-history\n",
            "\n"
          ]
        },
        {
          "output_type": "display_data",
          "data": {
            "text/plain": [
              "<IPython.core.display.HTML object>"
            ],
            "text/html": [
              "<table><tr><th style='font-weight:bold'>Column name</th><th style='font-weight:bold'>Status</th><th style='font-weight:bold'>Errors</th></tr><tr><td>date</td><td style='background-color:#DAF7A6;color:black'>All valid</td><td>-</td></tr></table>"
            ]
          },
          "metadata": {}
        },
        {
          "output_type": "stream",
          "name": "stdout",
          "text": [
            "\n",
            "Running search request, search_id=ac7cccac-9dd4-4b60-a357-c3c775d669fc\n",
            "We'll send email notification once it's completed, just use your personal api_key from profile.upgini.com\n",
            "\n",
            "Retrieving selected features from data sources...\n"
          ]
        }
      ]
    },
    {
      "cell_type": "code",
      "source": [
        "if enriched_train_features is None:\n",
        "    print(\"Warning: enricher.transform returned None. Using original features instead.\")\n",
        "    enriched_train_features = train_features.copy()  # Use original features as fallback\n",
        "    # Convert enriched_train_features to pandas DataFrame if it's not already\n",
        "    if not isinstance(enriched_train_features, pd.DataFrame):\n",
        "        enriched_train_features = pd.DataFrame(enriched_train_features)\n",
        "\n",
        "elif isinstance(enriched_train_features, dict):\n",
        "    print(\"Converting enriched_train_features dictionary to DataFrame.\")\n",
        "    enriched_train_features = pd.DataFrame(enriched_train_features)\n",
        "\n",
        "print(enriched_train_features)\n",
        "print(type(enriched_train_features))"
      ],
      "metadata": {
        "colab": {
          "base_uri": "https://localhost:8080/"
        },
        "id": "HE_uffTsVz0M",
        "outputId": "bf849e77-32fb-4b04-e7d9-339a3eec55bd"
      },
      "execution_count": 39,
      "outputs": [
        {
          "output_type": "stream",
          "name": "stdout",
          "text": [
            "Warning: enricher.transform returned None. Using original features instead.\n",
            "            date store item\n",
            "0     2013-01-01     7    5\n",
            "1     2013-01-01     4    9\n",
            "2     2013-01-01     1   33\n",
            "3     2013-01-01     3   41\n",
            "4     2013-01-01     5   24\n",
            "...          ...   ...  ...\n",
            "15208 2016-12-31     6   26\n",
            "15209 2016-12-31     8   14\n",
            "15210 2016-12-31     1   37\n",
            "15211 2016-12-31     5   21\n",
            "15212 2016-12-31     1   32\n",
            "\n",
            "[15213 rows x 3 columns]\n",
            "<class 'pandas.core.frame.DataFrame'>\n"
          ]
        }
      ]
    },
    {
      "cell_type": "code",
      "source": [
        "model.fit (train_features,train_target)\n",
        "pred = model.predict(test_features)\n",
        "eval_metric(test_target.values,pred,\"SMAPE\")"
      ],
      "metadata": {
        "colab": {
          "base_uri": "https://localhost:8080/"
        },
        "id": "vU4Z04FzTiQy",
        "outputId": "46b49f8a-feef-4bfd-9493-75afdc21977d"
      },
      "execution_count": 40,
      "outputs": [
        {
          "output_type": "execute_result",
          "data": {
            "text/plain": [
              "[37.69703825674735]"
            ]
          },
          "metadata": {},
          "execution_count": 40
        }
      ]
    },
    {
      "cell_type": "code",
      "source": [
        "model.fit (enriched_train_features,train_target)\n",
        "enriched_pred = model.predict(enriched_test_features)\n",
        "eval_metric(test_target.values,enriched_pred,\"SMAPE\")"
      ],
      "metadata": {
        "colab": {
          "base_uri": "https://localhost:8080/"
        },
        "id": "iV8A18inTwLP",
        "outputId": "83735387-d864-4327-bfe3-df0d41e1b49b"
      },
      "execution_count": 42,
      "outputs": [
        {
          "output_type": "execute_result",
          "data": {
            "text/plain": [
              "[37.69703825674735]"
            ]
          },
          "metadata": {},
          "execution_count": 42
        }
      ]
    }
  ]
}